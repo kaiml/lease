{
 "cells": [
  {
   "cell_type": "code",
   "execution_count": 17,
   "metadata": {
    "ExecuteTime": {
     "end_time": "2019-10-25T09:12:37.933138Z",
     "start_time": "2019-10-25T09:12:37.922256Z"
    }
   },
   "outputs": [],
   "source": [
    "from pathlib import Path\n",
    "import sys\n",
    "\n",
    "INPUT_FILE_PATH = Path(\"../..\")\n",
    "sys.path.insert(0, PROJECT_DIR)"
   ]
  },
  {
   "cell_type": "code",
   "execution_count": 18,
   "metadata": {
    "ExecuteTime": {
     "end_time": "2019-10-25T09:12:38.449027Z",
     "start_time": "2019-10-25T09:12:38.442318Z"
    }
   },
   "outputs": [],
   "source": [
    "from src.preprocess.access import pp_access\n",
    "from src.preprocess.read_file import read_file"
   ]
  },
  {
   "cell_type": "code",
   "execution_count": 20,
   "metadata": {
    "ExecuteTime": {
     "end_time": "2019-10-25T09:13:02.027513Z",
     "start_time": "2019-10-25T09:13:01.236132Z"
    }
   },
   "outputs": [],
   "source": [
    "df = read_file(INPUT_FILE_PATH/'input')"
   ]
  },
  {
   "cell_type": "code",
   "execution_count": 23,
   "metadata": {
    "ExecuteTime": {
     "end_time": "2019-10-25T09:14:11.629172Z",
     "start_time": "2019-10-25T09:14:11.617624Z"
    }
   },
   "outputs": [
    {
     "data": {
      "text/plain": [
       "0        都営三田線\\t西巣鴨駅\\t徒歩4分\\t\\t埼京線\\t板橋駅\\t徒歩14分\\t\\t都電荒川線\\...\n",
       "1        都営大江戸線\\t勝どき駅\\t徒歩5分\\t\\t有楽町線\\t月島駅\\t徒歩9分\\t\\t日比谷線\\...\n",
       "2        京王線\\t笹塚駅\\t徒歩6分\\t\\t京王線\\t代田橋駅\\t徒歩7分\\t\\t京王線\\t明大前駅...\n",
       "3        総武線・中央線（各停）\\t高円寺駅\\t徒歩9分\\t\\t丸ノ内線(池袋－荻窪)\\t新高円寺駅\\...\n",
       "4        京成金町線\\t京成金町駅\\t徒歩5分\\t\\t常磐線\\t金町(東京都)駅\\t徒歩7分\\t\\t京...\n",
       "                               ...                        \n",
       "31257    埼京線\\t板橋駅\\t徒歩3分\\t\\t都営三田線\\t新板橋駅\\t徒歩9分\\t\\t東武東上線\\t...\n",
       "31258    都営新宿線\\t岩本町駅\\t徒歩2分\\t\\t山手線\\t秋葉原駅\\t徒歩4分\\t\\t日比谷線\\t...\n",
       "31259    都営大江戸線\\t新江古田駅\\t徒歩10分\\t\\t西武池袋線\\t江古田駅\\t徒歩20分\\t\\t...\n",
       "31260    有楽町線\\t麹町駅\\t徒歩3分\\t\\t丸ノ内線(池袋－荻窪)\\t四ツ谷駅\\t徒歩4分\\t\\t...\n",
       "31261    都営浅草線\\t西馬込駅\\t徒歩8分\\t\\t東急池上線\\t池上駅\\t徒歩19分\\t\\t都営浅草...\n",
       "Name: access, Length: 62732, dtype: object"
      ]
     },
     "execution_count": 23,
     "metadata": {},
     "output_type": "execute_result"
    }
   ],
   "source": [
    "df['access']"
   ]
  },
  {
   "cell_type": "code",
   "execution_count": 22,
   "metadata": {
    "ExecuteTime": {
     "end_time": "2019-10-25T09:13:20.681947Z",
     "start_time": "2019-10-25T09:13:16.248553Z"
    },
    "scrolled": true
   },
   "outputs": [
    {
     "data": {
      "text/plain": [
       "0        都営三田線\\t西巣鴨駅\\t徒歩4分\\t\\t埼京線\\t板橋駅\\t徒歩14分\\t\\t都電荒川線\\...\n",
       "1        都営大江戸線\\t勝どき駅\\t徒歩5分\\t\\t有楽町線\\t月島駅\\t徒歩9分\\t\\t日比谷線\\...\n",
       "2        京王線\\t笹塚駅\\t徒歩6分\\t\\t京王線\\t代田橋駅\\t徒歩7分\\t\\t京王線\\t明大前駅...\n",
       "3        総武線・中央線（各停）\\t高円寺駅\\t徒歩9分\\t\\t丸ノ内線(池袋－荻窪)\\t新高円寺駅\\...\n",
       "4        京成金町線\\t京成金町駅\\t徒歩5分\\t\\t常磐線\\t金町(東京都)駅\\t徒歩7分\\t\\t京...\n",
       "                               ...                        \n",
       "31257    埼京線\\t板橋駅\\t徒歩3分\\t\\t都営三田線\\t新板橋駅\\t徒歩9分\\t\\t東武東上線\\t...\n",
       "31258    都営新宿線\\t岩本町駅\\t徒歩2分\\t\\t山手線\\t秋葉原駅\\t徒歩4分\\t\\t日比谷線\\t...\n",
       "31259    都営大江戸線\\t新江古田駅\\t徒歩10分\\t\\t西武池袋線\\t江古田駅\\t徒歩20分\\t\\t...\n",
       "31260    有楽町線\\t麹町駅\\t徒歩3分\\t\\t丸ノ内線(池袋－荻窪)\\t四ツ谷駅\\t徒歩4分\\t\\t...\n",
       "31261    都営浅草線\\t西馬込駅\\t徒歩8分\\t\\t東急池上線\\t池上駅\\t徒歩19分\\t\\t都営浅草...\n",
       "Name: access, Length: 62732, dtype: object"
      ]
     },
     "execution_count": 22,
     "metadata": {},
     "output_type": "execute_result"
    }
   ],
   "source": [
    "pp_access(df)['access']"
   ]
  },
  {
   "cell_type": "code",
   "execution_count": null,
   "metadata": {},
   "outputs": [],
   "source": []
  }
 ],
 "metadata": {
  "kernelspec": {
   "display_name": "Python 3",
   "language": "python",
   "name": "python3"
  },
  "language_info": {
   "codemirror_mode": {
    "name": "ipython",
    "version": 3
   },
   "file_extension": ".py",
   "mimetype": "text/x-python",
   "name": "python",
   "nbconvert_exporter": "python",
   "pygments_lexer": "ipython3",
   "version": "3.7.4"
  },
  "toc": {
   "base_numbering": 1,
   "nav_menu": {},
   "number_sections": true,
   "sideBar": true,
   "skip_h1_title": false,
   "title_cell": "Table of Contents",
   "title_sidebar": "Contents",
   "toc_cell": false,
   "toc_position": {},
   "toc_section_display": true,
   "toc_window_display": false
  }
 },
 "nbformat": 4,
 "nbformat_minor": 2
}
