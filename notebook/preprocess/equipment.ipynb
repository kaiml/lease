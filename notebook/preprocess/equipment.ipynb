{
 "cells": [
  {
   "cell_type": "code",
   "execution_count": 1,
   "metadata": {
    "ExecuteTime": {
     "end_time": "2019-10-25T09:42:14.852129Z",
     "start_time": "2019-10-25T09:42:14.847177Z"
    }
   },
   "outputs": [],
   "source": [
    "import sys\n",
    "from pathlib import Path\n",
    "\n",
    "PROJ_ROOT = \"../../\"\n",
    "INPUT_FILE_PATH = PROJ_ROOT + \"input\"\n",
    "sys.path.insert(0, PROJ_ROOT)"
   ]
  },
  {
   "cell_type": "code",
   "execution_count": 2,
   "metadata": {
    "ExecuteTime": {
     "end_time": "2019-10-25T09:42:30.260430Z",
     "start_time": "2019-10-25T09:42:30.247159Z"
    }
   },
   "outputs": [],
   "source": [
    "from src.preprocess.equipment import pp_equipment\n",
    "from src.preprocess.read_file import read_file"
   ]
  },
  {
   "cell_type": "code",
   "execution_count": 3,
   "metadata": {
    "ExecuteTime": {
     "end_time": "2019-10-25T09:42:32.251331Z",
     "start_time": "2019-10-25T09:42:31.143015Z"
    }
   },
   "outputs": [],
   "source": [
    "df = read_file(INPUT_FILE_PATH)"
   ]
  },
  {
   "cell_type": "code",
   "execution_count": 4,
   "metadata": {
    "ExecuteTime": {
     "end_time": "2019-10-25T09:42:36.921833Z",
     "start_time": "2019-10-25T09:42:36.888371Z"
    }
   },
   "outputs": [
    {
     "data": {
      "text/html": [
       "<div>\n",
       "<style scoped>\n",
       "    .dataframe tbody tr th:only-of-type {\n",
       "        vertical-align: middle;\n",
       "    }\n",
       "\n",
       "    .dataframe tbody tr th {\n",
       "        vertical-align: top;\n",
       "    }\n",
       "\n",
       "    .dataframe thead th {\n",
       "        text-align: right;\n",
       "    }\n",
       "</style>\n",
       "<table border=\"1\" class=\"dataframe\">\n",
       "  <thead>\n",
       "    <tr style=\"text-align: right;\">\n",
       "      <th></th>\n",
       "      <th>equipment</th>\n",
       "    </tr>\n",
       "  </thead>\n",
       "  <tbody>\n",
       "    <tr>\n",
       "      <th>0</th>\n",
       "      <td>エアコン付\\tシューズボックス／\\tバルコニー／\\tフローリング／\\t室内洗濯機置場／\\t敷...</td>\n",
       "    </tr>\n",
       "    <tr>\n",
       "      <th>1</th>\n",
       "      <td>エアコン付\\tシューズボックス／\\tバルコニー／\\tフローリング／\\t室内洗濯機置場／\\t敷...</td>\n",
       "    </tr>\n",
       "    <tr>\n",
       "      <th>2</th>\n",
       "      <td>エアコン付\\tウォークインクローゼット\\tシューズボックス／\\tバルコニー／\\tフローリング...</td>\n",
       "    </tr>\n",
       "    <tr>\n",
       "      <th>3</th>\n",
       "      <td>エアコン付\\tシューズボックス／\\tバルコニー／\\t2面採光／\\t室内洗濯機置場／\\tエレベ...</td>\n",
       "    </tr>\n",
       "    <tr>\n",
       "      <th>4</th>\n",
       "      <td>バルコニー／\\tフローリング／\\t室内洗濯機置場\\t公営水道／\\t下水</td>\n",
       "    </tr>\n",
       "    <tr>\n",
       "      <th>...</th>\n",
       "      <td>...</td>\n",
       "    </tr>\n",
       "    <tr>\n",
       "      <th>31257</th>\n",
       "      <td>エアコン付\\tシューズボックス／\\tバルコニー／\\tフローリング／\\t室内洗濯機置場／\\t敷...</td>\n",
       "    </tr>\n",
       "    <tr>\n",
       "      <th>31258</th>\n",
       "      <td>冷房／\\tエアコン付\\tシューズボックス／\\tバルコニー／\\tフローリング／\\t24時間換気...</td>\n",
       "    </tr>\n",
       "    <tr>\n",
       "      <th>31259</th>\n",
       "      <td>エアコン付／\\t床暖房\\tフローリング／\\t室内洗濯機置場／\\t敷地内ごみ置き場\\t／\\tエ...</td>\n",
       "    </tr>\n",
       "    <tr>\n",
       "      <th>31260</th>\n",
       "      <td>冷房／\\tエアコン付／\\t床暖房\\tバルコニー／\\tフローリング／\\t24時間換気システム\\...</td>\n",
       "    </tr>\n",
       "    <tr>\n",
       "      <th>31261</th>\n",
       "      <td>エアコン付\\tシューズボックス／\\tバルコニー／\\tフローリング／\\t室内洗濯機置場／\\tエ...</td>\n",
       "    </tr>\n",
       "  </tbody>\n",
       "</table>\n",
       "<p>62732 rows × 1 columns</p>\n",
       "</div>"
      ],
      "text/plain": [
       "                                               equipment\n",
       "0      エアコン付\\tシューズボックス／\\tバルコニー／\\tフローリング／\\t室内洗濯機置場／\\t敷...\n",
       "1      エアコン付\\tシューズボックス／\\tバルコニー／\\tフローリング／\\t室内洗濯機置場／\\t敷...\n",
       "2      エアコン付\\tウォークインクローゼット\\tシューズボックス／\\tバルコニー／\\tフローリング...\n",
       "3      エアコン付\\tシューズボックス／\\tバルコニー／\\t2面採光／\\t室内洗濯機置場／\\tエレベ...\n",
       "4                    バルコニー／\\tフローリング／\\t室内洗濯機置場\\t公営水道／\\t下水\n",
       "...                                                  ...\n",
       "31257  エアコン付\\tシューズボックス／\\tバルコニー／\\tフローリング／\\t室内洗濯機置場／\\t敷...\n",
       "31258  冷房／\\tエアコン付\\tシューズボックス／\\tバルコニー／\\tフローリング／\\t24時間換気...\n",
       "31259  エアコン付／\\t床暖房\\tフローリング／\\t室内洗濯機置場／\\t敷地内ごみ置き場\\t／\\tエ...\n",
       "31260  冷房／\\tエアコン付／\\t床暖房\\tバルコニー／\\tフローリング／\\t24時間換気システム\\...\n",
       "31261  エアコン付\\tシューズボックス／\\tバルコニー／\\tフローリング／\\t室内洗濯機置場／\\tエ...\n",
       "\n",
       "[62732 rows x 1 columns]"
      ]
     },
     "execution_count": 4,
     "metadata": {},
     "output_type": "execute_result"
    }
   ],
   "source": [
    "df[\"equipment\"].to_frame()"
   ]
  },
  {
   "cell_type": "code",
   "execution_count": 5,
   "metadata": {
    "ExecuteTime": {
     "end_time": "2019-10-25T09:42:53.976600Z",
     "start_time": "2019-10-25T09:42:48.330560Z"
    },
    "scrolled": false
   },
   "outputs": [
    {
     "data": {
      "text/html": [
       "<div>\n",
       "<style scoped>\n",
       "    .dataframe tbody tr th:only-of-type {\n",
       "        vertical-align: middle;\n",
       "    }\n",
       "\n",
       "    .dataframe tbody tr th {\n",
       "        vertical-align: top;\n",
       "    }\n",
       "\n",
       "    .dataframe thead th {\n",
       "        text-align: right;\n",
       "    }\n",
       "</style>\n",
       "<table border=\"1\" class=\"dataframe\">\n",
       "  <thead>\n",
       "    <tr style=\"text-align: right;\">\n",
       "      <th></th>\n",
       "      <th>equipment</th>\n",
       "    </tr>\n",
       "  </thead>\n",
       "  <tbody>\n",
       "    <tr>\n",
       "      <th>0</th>\n",
       "      <td>エアコン付\\tシューズボックス／\\tバルコニー／\\tフローリング／\\t室内洗濯機置場／\\t敷...</td>\n",
       "    </tr>\n",
       "    <tr>\n",
       "      <th>1</th>\n",
       "      <td>エアコン付\\tシューズボックス／\\tバルコニー／\\tフローリング／\\t室内洗濯機置場／\\t敷...</td>\n",
       "    </tr>\n",
       "    <tr>\n",
       "      <th>2</th>\n",
       "      <td>エアコン付\\tウォークインクローゼット\\tシューズボックス／\\tバルコニー／\\tフローリング...</td>\n",
       "    </tr>\n",
       "    <tr>\n",
       "      <th>3</th>\n",
       "      <td>エアコン付\\tシューズボックス／\\tバルコニー／\\t2面採光／\\t室内洗濯機置場／\\tエレベ...</td>\n",
       "    </tr>\n",
       "    <tr>\n",
       "      <th>4</th>\n",
       "      <td>バルコニー／\\tフローリング／\\t室内洗濯機置場\\t公営水道／\\t下水</td>\n",
       "    </tr>\n",
       "    <tr>\n",
       "      <th>...</th>\n",
       "      <td>...</td>\n",
       "    </tr>\n",
       "    <tr>\n",
       "      <th>31257</th>\n",
       "      <td>エアコン付\\tシューズボックス／\\tバルコニー／\\tフローリング／\\t室内洗濯機置場／\\t敷...</td>\n",
       "    </tr>\n",
       "    <tr>\n",
       "      <th>31258</th>\n",
       "      <td>冷房／\\tエアコン付\\tシューズボックス／\\tバルコニー／\\tフローリング／\\t24時間換気...</td>\n",
       "    </tr>\n",
       "    <tr>\n",
       "      <th>31259</th>\n",
       "      <td>エアコン付／\\t床暖房\\tフローリング／\\t室内洗濯機置場／\\t敷地内ごみ置き場\\t／\\tエ...</td>\n",
       "    </tr>\n",
       "    <tr>\n",
       "      <th>31260</th>\n",
       "      <td>冷房／\\tエアコン付／\\t床暖房\\tバルコニー／\\tフローリング／\\t24時間換気システム\\...</td>\n",
       "    </tr>\n",
       "    <tr>\n",
       "      <th>31261</th>\n",
       "      <td>エアコン付\\tシューズボックス／\\tバルコニー／\\tフローリング／\\t室内洗濯機置場／\\tエ...</td>\n",
       "    </tr>\n",
       "  </tbody>\n",
       "</table>\n",
       "<p>62732 rows × 1 columns</p>\n",
       "</div>"
      ],
      "text/plain": [
       "                                               equipment\n",
       "0      エアコン付\\tシューズボックス／\\tバルコニー／\\tフローリング／\\t室内洗濯機置場／\\t敷...\n",
       "1      エアコン付\\tシューズボックス／\\tバルコニー／\\tフローリング／\\t室内洗濯機置場／\\t敷...\n",
       "2      エアコン付\\tウォークインクローゼット\\tシューズボックス／\\tバルコニー／\\tフローリング...\n",
       "3      エアコン付\\tシューズボックス／\\tバルコニー／\\t2面採光／\\t室内洗濯機置場／\\tエレベ...\n",
       "4                    バルコニー／\\tフローリング／\\t室内洗濯機置場\\t公営水道／\\t下水\n",
       "...                                                  ...\n",
       "31257  エアコン付\\tシューズボックス／\\tバルコニー／\\tフローリング／\\t室内洗濯機置場／\\t敷...\n",
       "31258  冷房／\\tエアコン付\\tシューズボックス／\\tバルコニー／\\tフローリング／\\t24時間換気...\n",
       "31259  エアコン付／\\t床暖房\\tフローリング／\\t室内洗濯機置場／\\t敷地内ごみ置き場\\t／\\tエ...\n",
       "31260  冷房／\\tエアコン付／\\t床暖房\\tバルコニー／\\tフローリング／\\t24時間換気システム\\...\n",
       "31261  エアコン付\\tシューズボックス／\\tバルコニー／\\tフローリング／\\t室内洗濯機置場／\\tエ...\n",
       "\n",
       "[62732 rows x 1 columns]"
      ]
     },
     "execution_count": 5,
     "metadata": {},
     "output_type": "execute_result"
    }
   ],
   "source": [
    "pp_equipment(df)[\"equipment\"].to_frame()"
   ]
  }
 ],
 "metadata": {
  "kernelspec": {
   "display_name": "Python 3",
   "language": "python",
   "name": "python3"
  },
  "language_info": {
   "codemirror_mode": {
    "name": "ipython",
    "version": 3
   },
   "file_extension": ".py",
   "mimetype": "text/x-python",
   "name": "python",
   "nbconvert_exporter": "python",
   "pygments_lexer": "ipython3",
   "version": "3.7.4"
  },
  "toc": {
   "base_numbering": 1,
   "nav_menu": {},
   "number_sections": true,
   "sideBar": true,
   "skip_h1_title": false,
   "title_cell": "Table of Contents",
   "title_sidebar": "Contents",
   "toc_cell": false,
   "toc_position": {},
   "toc_section_display": true,
   "toc_window_display": false
  }
 },
 "nbformat": 4,
 "nbformat_minor": 2
}
