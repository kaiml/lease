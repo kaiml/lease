{
 "cells": [
  {
   "cell_type": "code",
   "execution_count": null,
   "metadata": {},
   "outputs": [],
   "source": []
  },
  {
   "cell_type": "markdown",
   "metadata": {},
   "source": [
    "# Exp3: xgboost With Almost no PP/FE "
   ]
  },
  {
   "cell_type": "code",
   "execution_count": 1,
   "metadata": {
    "ExecuteTime": {
     "end_time": "2019-10-28T11:23:20.215147Z",
     "start_time": "2019-10-28T11:23:17.085329Z"
    },
    "code_folding": [],
    "scrolled": true
   },
   "outputs": [
    {
     "data": {
      "text/html": [
       "        <script type=\"text/javascript\">\n",
       "        window.PlotlyConfig = {MathJaxConfig: 'local'};\n",
       "        if (window.MathJax) {MathJax.Hub.Config({SVG: {font: \"STIX-Web\"}});}\n",
       "        if (typeof require !== 'undefined') {\n",
       "        require.undef(\"plotly\");\n",
       "        requirejs.config({\n",
       "            paths: {\n",
       "                'plotly': ['https://cdn.plot.ly/plotly-latest.min']\n",
       "            }\n",
       "        });\n",
       "        require(['plotly'], function(Plotly) {\n",
       "            window._Plotly = Plotly;\n",
       "        });\n",
       "        }\n",
       "        </script>\n",
       "        "
      ]
     },
     "metadata": {},
     "output_type": "display_data"
    },
    {
     "data": {
      "text/html": [
       "<style>.container { width:88% !important; }</style>"
      ],
      "text/plain": [
       "<IPython.core.display.HTML object>"
      ]
     },
     "metadata": {},
     "output_type": "display_data"
    }
   ],
   "source": [
    "# import packages\n",
    "import gc\n",
    "import os\n",
    "import re\n",
    "import sys\n",
    "import time\n",
    "from contextlib import contextmanager\n",
    "from pathlib import Path\n",
    "\n",
    "import lightgbm as lgb\n",
    "import matplotlib\n",
    "import matplotlib.pyplot as plt\n",
    "import numpy as np\n",
    "import pandas as pd\n",
    "import plotly\n",
    "import plotly.graph_objects as go\n",
    "import seaborn as sns\n",
    "import xgboost as xgb\n",
    "from IPython.core.display import HTML, display\n",
    "from ipywidgets import interact\n",
    "from sklearn.linear_model import LinearRegression\n",
    "from sklearn.model_selection import KFold, StratifiedKFold, train_test_split\n",
    "from tqdm import tqdm_notebook as tqdm\n",
    "\n",
    "PROJECT_DIR = \"/app\"\n",
    "INPUT_FILE_PATH = Path(\"../..\")\n",
    "sys.path.insert(0, PROJECT_DIR)\n",
    "\n",
    "# enable plotly offline plotting\n",
    "plotly.offline.init_notebook_mode(connected=True)\n",
    "\n",
    "# change figsize of seaborn\n",
    "sns.set(rc={\"figure.figsize\": (8, 6)})\n",
    "\n",
    "display(HTML(\"<style>.container { width:88% !important; }</style>\"))"
   ]
  },
  {
   "cell_type": "code",
   "execution_count": 2,
   "metadata": {
    "ExecuteTime": {
     "end_time": "2019-10-28T11:23:20.500087Z",
     "start_time": "2019-10-28T11:23:20.220734Z"
    },
    "code_folding": []
   },
   "outputs": [],
   "source": [
    "# import modules\n",
    "from src.logger.main import LOGGER, setup_logger\n",
    "from src.preprocess.main import pp\n",
    "from src.preprocess.read_file import read_file"
   ]
  },
  {
   "cell_type": "code",
   "execution_count": 3,
   "metadata": {
    "ExecuteTime": {
     "end_time": "2019-10-28T11:23:20.550035Z",
     "start_time": "2019-10-28T11:23:20.506102Z"
    }
   },
   "outputs": [
    {
     "name": "stderr",
     "output_type": "stream",
     "text": [
      "2019-10-28 11:23:20,541 - INFO - logger set up\n",
      "2019-10-28 11:23:20,544 - INFO - seed=42\n"
     ]
    }
   ],
   "source": [
    "#####\n",
    "# settings\n",
    "#####\n",
    "EXP_ID = \"exp3\"\n",
    "DATA_DIR = \"../../input\"\n",
    "SEED = 42\n",
    "ID_COLUMNS = \"id\"\n",
    "TARGET_COLUMNS = [\"target\"]\n",
    "N_CLASSES = len(TARGET_COLUMNS)\n",
    "N_FOLDS = 5 # n_folds for Cross-Validation\n",
    "\n",
    "# logger set up\n",
    "LOGGER_PATH = \"{}_log.txt\".format(EXP_ID)\n",
    "if os.path.isfile(LOGGER_PATH):\n",
    "    os.remove(LOGGER_PATH)\n",
    "setup_logger(out_file=LOGGER_PATH)\n",
    "LOGGER.info(\"seed={}\".format(SEED))"
   ]
  },
  {
   "cell_type": "code",
   "execution_count": 4,
   "metadata": {
    "ExecuteTime": {
     "end_time": "2019-10-28T11:23:20.557292Z",
     "start_time": "2019-10-28T11:23:20.551948Z"
    }
   },
   "outputs": [],
   "source": [
    "# timer set up \n",
    "@contextmanager\n",
    "def timer(name):\n",
    "    t0 = time.time()\n",
    "    yield\n",
    "    LOGGER.info('[{}] done in {} s'.format(name, round(time.time() - t0, 2)))"
   ]
  },
  {
   "cell_type": "code",
   "execution_count": 5,
   "metadata": {
    "ExecuteTime": {
     "end_time": "2019-10-28T11:23:21.760250Z",
     "start_time": "2019-10-28T11:23:20.560014Z"
    }
   },
   "outputs": [
    {
     "name": "stderr",
     "output_type": "stream",
     "text": [
      "2019-10-28 11:23:21,754 - INFO - [load data] done in 1.19 s\n"
     ]
    }
   ],
   "source": [
    "with timer('load data'):\n",
    "    df, _ = read_file(DATA_DIR=DATA_DIR)\n",
    "    y = df[TARGET_COLUMNS].values\n",
    "    ids = df[[ID_COLUMNS]] \n",
    "    gc.collect()"
   ]
  },
  {
   "cell_type": "code",
   "execution_count": 6,
   "metadata": {
    "ExecuteTime": {
     "end_time": "2019-10-28T11:24:16.569305Z",
     "start_time": "2019-10-28T11:23:21.762836Z"
    }
   },
   "outputs": [
    {
     "name": "stderr",
     "output_type": "stream",
     "text": [
      "2019-10-28 11:24:16,539 - INFO - [preprocessing] done in 54.76 s\n"
     ]
    }
   ],
   "source": [
    "with timer(\"preprocessing\"):\n",
    "    df = pp(df)\n",
    "\n",
    "    # fill NaN with most frequent values\n",
    "    df.loc[:, \"direction\"] = df[\"direction\"].fillna(\n",
    "        df[\"direction\"].value_counts().index[0]\n",
    "    )\n",
    "    df.loc[:, \"material\"] = df[\"material\"].fillna(\n",
    "        df[\"material\"].value_counts().index[0]\n",
    "    )\n",
    "    df.loc[:, \"layout\"] = df[\"layout\"].fillna(df[\"layout\"].value_counts().index[0])\n",
    "    df.loc[:, \"address_1\"] = df[\"address_1\"].fillna(\n",
    "        df[\"address_1\"].value_counts().index[0]\n",
    "    )\n",
    "\n",
    "    # One-Hot Encoding\n",
    "    df = pd.concat(\n",
    "        [df, pd.get_dummies(df[\"direction\"], prefix=\"ohe_direction\")], axis=1\n",
    "    )\n",
    "    df = pd.concat([df, pd.get_dummies(df[\"layout\"], prefix=\"ohe_layout\")], axis=1)\n",
    "    df = pd.concat([df, pd.get_dummies(df[\"material\"], prefix=\"ohe_material\")], axis=1)\n",
    "    df = pd.concat(\n",
    "        [df, pd.get_dummies(df[\"address_1\"], prefix=\"ohe_adddress1\")], axis=1\n",
    "    )\n",
    "\n",
    "    # Drop unused columns\n",
    "    df = df.drop(\n",
    "        [\n",
    "            \"id\",\n",
    "            \"layout\",\n",
    "            \"material\",\n",
    "            \"direction\",\n",
    "            \"neighbor\",\n",
    "            \"address_1\",\n",
    "            \"line_1\",\n",
    "            \"station_1\",\n",
    "            \"duration_1\",\n",
    "            \"line_2\",\n",
    "            \"station_2\",\n",
    "            \"duration_2\",\n",
    "            \"is_bus_2\",\n",
    "            \"line_3\",\n",
    "            \"station_3\",\n",
    "            \"duration_3\",\n",
    "            \"is_bus_3\",\n",
    "            \"address_2\",\n",
    "            \"address_3\",\n",
    "        ],\n",
    "        axis=1,\n",
    "    )\n",
    "\n",
    "    df.loc[:, \"target_log\"] = np.log(df[\"target\"])"
   ]
  },
  {
   "cell_type": "code",
   "execution_count": 7,
   "metadata": {
    "ExecuteTime": {
     "end_time": "2019-10-28T11:24:19.893226Z",
     "start_time": "2019-10-28T11:24:16.579333Z"
    },
    "scrolled": false
   },
   "outputs": [
    {
     "data": {
      "application/vnd.jupyter.widget-view+json": {
       "model_id": "051a42bc34784f0f92be1e5af7c30c53",
       "version_major": 2,
       "version_minor": 0
      },
      "text/plain": [
       "interactive(children=(Dropdown(description='col_name', options=('area', 'ohe_kitchen_コンロ3口', 'stories', 'floor…"
      ]
     },
     "metadata": {},
     "output_type": "display_data"
    }
   ],
   "source": [
    "# show correlation of one variable \n",
    "target_col_name = \"target\"\n",
    "corr = df.corr()\n",
    "index_sort_by_corr = (\n",
    "    np.abs(corr.drop([\"target\", \"target_log\"])[target_col_name])\n",
    "    .sort_values(ascending=False)\n",
    "    .index\n",
    ")\n",
    "\n",
    "@interact(col_name=index_sort_by_corr)\n",
    "def show_ohe_boxplot(col_name):\n",
    "    sns.set(rc={\"figure.figsize\": (7, 5)})\n",
    "    sns.scatterplot(x=col_name, y=target_col_name, data=df).set_title(\n",
    "        \"corr_coef: {}\".format(corr[col_name][target_col_name])\n",
    "    )"
   ]
  },
  {
   "cell_type": "code",
   "execution_count": 8,
   "metadata": {
    "ExecuteTime": {
     "end_time": "2019-10-28T11:24:19.908250Z",
     "start_time": "2019-10-28T11:24:19.899192Z"
    }
   },
   "outputs": [],
   "source": [
    "# xgb parameters\n",
    "params = {\n",
    "     # 回帰問題\n",
    "    'objective': 'reg:squarederror',\n",
    "    # 学習用の指標 (RMSE)\n",
    "    'eval_metric': 'rmse',\n",
    "}"
   ]
  },
  {
   "cell_type": "code",
   "execution_count": 9,
   "metadata": {
    "ExecuteTime": {
     "end_time": "2019-10-28T11:25:07.039306Z",
     "start_time": "2019-10-28T11:24:20.089585Z"
    },
    "scrolled": true
   },
   "outputs": [
    {
     "name": "stderr",
     "output_type": "stream",
     "text": [
      "/usr/local/lib/python3.7/dist-packages/sklearn/model_selection/_split.py:657: Warning:\n",
      "\n",
      "The least populated class in y has only 1 members, which is too few. The minimum number of members in any class cannot be less than n_splits=5.\n",
      "\n"
     ]
    },
    {
     "name": "stdout",
     "output_type": "stream",
     "text": [
      "No.0 Score: 24757.262606995544\n",
      "No.1 Score: 21314.254189367835\n",
      "No.2 Score: 28340.92489733778\n",
      "No.3 Score: 18449.231681568883\n"
     ]
    },
    {
     "name": "stderr",
     "output_type": "stream",
     "text": [
      "2019-10-28 11:25:07,020 - INFO - [Cross Validation] done in 46.91 s\n"
     ]
    },
    {
     "name": "stdout",
     "output_type": "stream",
     "text": [
      "No.4 Score: 21694.853633174596\n"
     ]
    }
   ],
   "source": [
    "with timer(\"Cross Validation\"):\n",
    "    result = pd.DataFrame()\n",
    "    scores = []\n",
    "    model = LinearRegression()\n",
    "    folds = StratifiedKFold(n_splits=5, shuffle=True, random_state=0).split(df, y)\n",
    "    for n_fold, (train_index, val_index) in enumerate(folds):\n",
    "        train_df = df.loc[train_index]\n",
    "        val_df = df.loc[val_index]\n",
    "        y_train = y[train_index]\n",
    "        y_val = y[val_index]\n",
    "\n",
    "        dtrain = xgb.DMatrix(train_df.drop([\"target\", \"target_log\"], axis=1), label=y_train.flatten())\n",
    "        dtest = xgb.DMatrix(val_df.drop([\"target\", \"target_log\"], axis=1), label=y_val.flatten())\n",
    "\n",
    "        gbm = xgb.train(\n",
    "            params,\n",
    "            dtrain,\n",
    "            num_boost_round=100,  # 学習ラウンド数は適当\n",
    "        )\n",
    "        \n",
    "        y_pred = gbm.predict(dtest)\n",
    "        \n",
    "        score = np.sqrt(\n",
    "            ((y_pred.flatten() - y_val.flatten()) ** 2).sum() / len(y_val.flatten())\n",
    "        )\n",
    "        scores.append(score)\n",
    "        print(\"No.{} Score: {}\".format(n_fold, score))\n",
    "\n",
    "        result = pd.concat(\n",
    "            [\n",
    "                result,\n",
    "                pd.DataFrame(\n",
    "                    {\n",
    "                        \"index\": val_index,\n",
    "                        \"predicted\": y_pred.flatten(),\n",
    "                        \"real\": y_val.flatten(),\n",
    "                        \"difference\": y_pred.flatten() - y_val.flatten(),\n",
    "                        \"n_fold\": n_fold,\n",
    "                    }\n",
    "                ),\n",
    "            ]\n",
    "        )"
   ]
  },
  {
   "cell_type": "code",
   "execution_count": 10,
   "metadata": {
    "ExecuteTime": {
     "end_time": "2019-10-28T11:25:07.108899Z",
     "start_time": "2019-10-28T11:25:07.056153Z"
    },
    "code_folding": [
     0,
     41
    ]
   },
   "outputs": [],
   "source": [
    "def create_text_from_result(df, r):\n",
    "    def decode_ohe(row):\n",
    "        hot_columns = []\n",
    "        for i in range(len(df.columns)):\n",
    "            if row[i] == 1 and \"ohe_\" in df.columns[i]:\n",
    "                hot_columns.append(\"_\".join(df.columns[i].split(\"_\")[2:]))\n",
    "        return \",\".join(hot_columns)\n",
    "\n",
    "    text = (\n",
    "        \"pred: ¥\"\n",
    "        + np.ceil(r[\"predicted\"]).map(lambda x: \"{:,}\".format(x)).astype(str).reset_index()[\"predicted\"]\n",
    "        + \"<br>\"\n",
    "    )\n",
    "    text += \"real: ¥\" + r[\"real\"].map(lambda x: \"{:,}\".format(x)).astype(str).reset_index()[\"real\"] + \"<br>\"\n",
    "    text += (\n",
    "        \"difference: ¥\"\n",
    "        + np.ceil(r[\"difference\"]).map(lambda x: \"{:,}\".format(x)).astype(str).reset_index()[\"difference\"]\n",
    "        + \"<br>\"\n",
    "    )\n",
    "    text += (\n",
    "        \"age: \"\n",
    "        + np.ceil(df.loc[r[\"index\"]][\"age\"]).astype(str).reset_index()[\"age\"]\n",
    "        + \"<br>\"\n",
    "    )\n",
    "    text += (\n",
    "        \"area: \"\n",
    "        + np.ceil(df.loc[r[\"index\"]][\"area\"]).astype(str).reset_index()[\"area\"]\n",
    "        + \"<br>\"\n",
    "    )\n",
    "    text += (\n",
    "        \"ohe: \"\n",
    "        + df.loc[r[\"index\"]]\n",
    "        .apply(decode_ohe, axis=1)\n",
    "        .reset_index()\n",
    "        .iloc[:, 1]\n",
    "        .map(lambda x: re.sub(\"(.{32})\", \"\\\\1<br>\", x, 0, re.DOTALL))\n",
    "        + \"<br>\"\n",
    "    )\n",
    "    return text\n",
    "\n",
    "\n",
    "def plot_result(df, result, n_fold):\n",
    "    r = result[result.n_fold==n_fold].reset_index()\n",
    "    print(\"n_fold:\", n_fold)\n",
    "    print(\"RMSE:\", np.sqrt((r[\"difference\"]**2).sum() / r[\"difference\"].size))\n",
    "    text = create_text_from_result(df, r)\n",
    "    fig = go.Figure()\n",
    "    fig.add_trace(\n",
    "        go.Scatter(\n",
    "            x=r[\"predicted\"],\n",
    "            y=r[\"real\"],\n",
    "            text=text,\n",
    "            hoverinfo=\"text\",\n",
    "            mode=\"markers\",\n",
    "            name=\"markers\",\n",
    "        )\n",
    "    )\n",
    "    fig.show()"
   ]
  },
  {
   "cell_type": "code",
   "execution_count": null,
   "metadata": {
    "ExecuteTime": {
     "start_time": "2019-10-28T11:25:23.933Z"
    },
    "scrolled": false
   },
   "outputs": [],
   "source": [
    "for n_fold in range(N_FOLDS):\n",
    "    plot_result(df, result, n_fold)"
   ]
  },
  {
   "cell_type": "code",
   "execution_count": null,
   "metadata": {},
   "outputs": [],
   "source": []
  }
 ],
 "metadata": {
  "kernelspec": {
   "display_name": "Python 3",
   "language": "python",
   "name": "python3"
  },
  "language_info": {
   "codemirror_mode": {
    "name": "ipython",
    "version": 3
   },
   "file_extension": ".py",
   "mimetype": "text/x-python",
   "name": "python",
   "nbconvert_exporter": "python",
   "pygments_lexer": "ipython3",
   "version": "3.7.4"
  },
  "toc": {
   "base_numbering": 1,
   "nav_menu": {},
   "number_sections": true,
   "sideBar": true,
   "skip_h1_title": false,
   "title_cell": "Table of Contents",
   "title_sidebar": "Contents",
   "toc_cell": false,
   "toc_position": {},
   "toc_section_display": true,
   "toc_window_display": false
  }
 },
 "nbformat": 4,
 "nbformat_minor": 2
}
