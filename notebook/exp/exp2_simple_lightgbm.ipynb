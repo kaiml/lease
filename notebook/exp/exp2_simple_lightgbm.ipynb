{
 "cells": [
  {
   "cell_type": "code",
   "execution_count": null,
   "metadata": {},
   "outputs": [],
   "source": []
  },
  {
   "cell_type": "markdown",
   "metadata": {},
   "source": [
    "# Exp2: LightGBM With Almost no PP/FE "
   ]
  },
  {
   "cell_type": "code",
   "execution_count": 1,
   "metadata": {
    "ExecuteTime": {
     "end_time": "2019-10-28T00:15:44.788924Z",
     "start_time": "2019-10-28T00:15:41.602553Z"
    },
    "code_folding": [
     0
    ]
   },
   "outputs": [
    {
     "data": {
      "text/html": [
       "        <script type=\"text/javascript\">\n",
       "        window.PlotlyConfig = {MathJaxConfig: 'local'};\n",
       "        if (window.MathJax) {MathJax.Hub.Config({SVG: {font: \"STIX-Web\"}});}\n",
       "        if (typeof require !== 'undefined') {\n",
       "        require.undef(\"plotly\");\n",
       "        requirejs.config({\n",
       "            paths: {\n",
       "                'plotly': ['https://cdn.plot.ly/plotly-latest.min']\n",
       "            }\n",
       "        });\n",
       "        require(['plotly'], function(Plotly) {\n",
       "            window._Plotly = Plotly;\n",
       "        });\n",
       "        }\n",
       "        </script>\n",
       "        "
      ]
     },
     "metadata": {},
     "output_type": "display_data"
    },
    {
     "data": {
      "text/html": [
       "<style>.container { width:88% !important; }</style>"
      ],
      "text/plain": [
       "<IPython.core.display.HTML object>"
      ]
     },
     "metadata": {},
     "output_type": "display_data"
    }
   ],
   "source": [
    "# import packages\n",
    "import gc\n",
    "import os\n",
    "import sys\n",
    "import time\n",
    "from contextlib import contextmanager\n",
    "from pathlib import Path\n",
    "\n",
    "import lightgbm as lgb\n",
    "import matplotlib\n",
    "import matplotlib.pyplot as plt\n",
    "import numpy as np\n",
    "import pandas as pd\n",
    "import plotly\n",
    "import plotly.graph_objects as go\n",
    "import seaborn as sns\n",
    "from IPython.core.display import HTML, display\n",
    "from ipywidgets import interact\n",
    "from sklearn.linear_model import LinearRegression\n",
    "from sklearn.model_selection import KFold, StratifiedKFold, train_test_split\n",
    "from tqdm import tqdm_notebook as tqdm\n",
    "\n",
    "PROJECT_DIR = \"/app\"\n",
    "INPUT_FILE_PATH = Path(\"../..\")\n",
    "sys.path.insert(0, PROJECT_DIR)\n",
    "\n",
    "# enable plotly offline plotting\n",
    "plotly.offline.init_notebook_mode(connected=True)\n",
    "\n",
    "# change figsize of seaborn\n",
    "sns.set(rc={\"figure.figsize\": (8, 6)})\n",
    "\n",
    "display(HTML(\"<style>.container { width:88% !important; }</style>\"))"
   ]
  },
  {
   "cell_type": "code",
   "execution_count": 2,
   "metadata": {
    "ExecuteTime": {
     "end_time": "2019-10-28T00:15:45.010208Z",
     "start_time": "2019-10-28T00:15:44.793075Z"
    },
    "code_folding": [
     0
    ]
   },
   "outputs": [],
   "source": [
    "# import modules\n",
    "from src.logger.main import LOGGER, setup_logger\n",
    "from src.preprocess.main import pp\n",
    "from src.preprocess.read_file import read_file"
   ]
  },
  {
   "cell_type": "code",
   "execution_count": 4,
   "metadata": {
    "ExecuteTime": {
     "end_time": "2019-10-28T00:15:48.322594Z",
     "start_time": "2019-10-28T00:15:48.288238Z"
    }
   },
   "outputs": [
    {
     "name": "stderr",
     "output_type": "stream",
     "text": [
      "2019-10-28 00:15:48,307 - INFO - logger set up\n",
      "2019-10-28 00:15:48,311 - INFO - seed=42\n"
     ]
    }
   ],
   "source": [
    "# settings\n",
    "EXP_ID = \"exp2\"\n",
    "DATA_DIR = \"../../input\"\n",
    "SEED = 42\n",
    "LOGGER_PATH = \"{}_log.txt\".format(EXP_ID)\n",
    "os.remove(LOGGER_PATH)\n",
    "ID_COLUMNS = \"id\"\n",
    "TARGET_COLUMNS = [\"target\"]\n",
    "N_CLASSES = len(TARGET_COLUMNS)\n",
    "\n",
    "fold_id = 1\n",
    "OUTPUT_PATH = \"{}_fold{}.pth\".format(EXP_ID, fold_id)\n",
    "\n",
    "setup_logger(out_file=LOGGER_PATH)\n",
    "LOGGER.info(\"seed={}\".format(SEED))"
   ]
  },
  {
   "cell_type": "code",
   "execution_count": 5,
   "metadata": {
    "ExecuteTime": {
     "end_time": "2019-10-28T00:15:48.690208Z",
     "start_time": "2019-10-28T00:15:48.683172Z"
    }
   },
   "outputs": [],
   "source": [
    "# timer set up \n",
    "@contextmanager\n",
    "def timer(name):\n",
    "    t0 = time.time()\n",
    "    yield\n",
    "    LOGGER.info('[{}] done in {} s'.format(name, round(time.time() - t0, 2)))"
   ]
  },
  {
   "cell_type": "code",
   "execution_count": 6,
   "metadata": {
    "ExecuteTime": {
     "end_time": "2019-10-28T00:15:50.721979Z",
     "start_time": "2019-10-28T00:15:48.839716Z"
    }
   },
   "outputs": [
    {
     "name": "stderr",
     "output_type": "stream",
     "text": [
      "2019-10-28 00:15:50,710 - INFO - [load data] done in 1.87 s\n"
     ]
    }
   ],
   "source": [
    "with timer('load data'):\n",
    "    df, _ = read_file(DATA_DIR=DATA_DIR)\n",
    "    y = df[TARGET_COLUMNS].values\n",
    "    ids = df[[ID_COLUMNS]] \n",
    "    gc.collect()"
   ]
  },
  {
   "cell_type": "code",
   "execution_count": 7,
   "metadata": {
    "ExecuteTime": {
     "end_time": "2019-10-28T00:15:56.049869Z",
     "start_time": "2019-10-28T00:15:50.729091Z"
    }
   },
   "outputs": [
    {
     "name": "stderr",
     "output_type": "stream",
     "text": [
      "2019-10-28 00:15:56,040 - INFO - [preprocessing] done in 5.29 s\n"
     ]
    }
   ],
   "source": [
    "with timer('preprocessing'):\n",
    "    df = pp(df)\n",
    "    \n",
    "    # fill NaN with most frequent values\n",
    "    df.loc[:, 'direction'] = df['direction'].fillna(df['direction'].value_counts().index[0])\n",
    "    df.loc[:, 'material'] = df['material'].fillna(df['material'].value_counts().index[0])\n",
    "    df.loc[:, 'layout'] = df['layout'].fillna(df['direction'].value_counts().index[0])\n",
    "    \n",
    "    # One-Hot Encoding\n",
    "    df = pd.concat([df, pd.get_dummies(df[\"direction\"], prefix=\"ohe_direction\")], axis=1)\n",
    "    df = pd.concat([df, pd.get_dummies(df[\"layout\"], prefix=\"ohe_layout\")], axis=1)\n",
    "    df = pd.concat([df, pd.get_dummies(df[\"material\"], prefix=\"ohe_material\")], axis=1)\n",
    "\n",
    "    # Drop unused columns\n",
    "    df = df.drop(['id', 'layout', 'material', 'direction', 'neighbor'], axis=1)\n",
    "    \n",
    "    df.loc[:, 'target_log'] = np.log(df['target'])"
   ]
  },
  {
   "cell_type": "code",
   "execution_count": 8,
   "metadata": {
    "ExecuteTime": {
     "end_time": "2019-10-28T00:15:58.635800Z",
     "start_time": "2019-10-28T00:15:56.057370Z"
    },
    "scrolled": true
   },
   "outputs": [
    {
     "data": {
      "application/vnd.jupyter.widget-view+json": {
       "model_id": "6fcb890e9f0a48acbb1653750b3a26f6",
       "version_major": 2,
       "version_minor": 0
      },
      "text/plain": [
       "interactive(children=(Dropdown(description='col_name', options=('area', 'ohe_bathroom_洗面台独立', 'ohe_kitchen_コンロ…"
      ]
     },
     "metadata": {},
     "output_type": "display_data"
    }
   ],
   "source": [
    "# show correlation of one variable \n",
    "target_col_name = \"target_log\"\n",
    "corr = df.corr()\n",
    "index_sort_by_corr = (\n",
    "    np.abs(corr.drop([\"target\", \"target_log\"])[target_col_name])\n",
    "    .sort_values(ascending=False)\n",
    "    .index\n",
    ")\n",
    "\n",
    "@interact(col_name=index_sort_by_corr)\n",
    "def show_ohe_boxplot(col_name):\n",
    "    sns.scatterplot(x=col_name, y=target_col_name, data=df).set_title(\n",
    "        \"corr_coef: {}\".format(corr[col_name][target_col_name])\n",
    "    )"
   ]
  },
  {
   "cell_type": "code",
   "execution_count": 9,
   "metadata": {
    "ExecuteTime": {
     "end_time": "2019-10-28T00:15:58.688876Z",
     "start_time": "2019-10-28T00:15:58.640080Z"
    }
   },
   "outputs": [],
   "source": [
    "rename_cols = {}\n",
    "i = 1\n",
    "for col_name in df.filter(like=\"ohe_\").columns:\n",
    "    rename_cols[col_name] = \"_\".join(col_name.split('_')[:2]) + \"_{}\".format(i)\n",
    "    i += 1\n",
    "df = df.rename(columns=rename_cols) "
   ]
  },
  {
   "cell_type": "code",
   "execution_count": 10,
   "metadata": {
    "ExecuteTime": {
     "end_time": "2019-10-28T00:15:58.704232Z",
     "start_time": "2019-10-28T00:15:58.692122Z"
    }
   },
   "outputs": [],
   "source": [
    "# LightGBM parameters\n",
    "params = {\n",
    "        'task' : 'train',\n",
    "        'boosting_type' : 'gbdt',\n",
    "        'objective' : 'regression',\n",
    "        'metric' : {'l2'},\n",
    "        'num_leaves' : 1000,\n",
    "        'learning_rate' : 0.1,\n",
    "        'feature_fraction' : 0.9,\n",
    "        'bagging_fraction' : 0.8,\n",
    "        'bagging_freq': 20,\n",
    "        'verbose' : 0\n",
    "}"
   ]
  },
  {
   "cell_type": "code",
   "execution_count": 11,
   "metadata": {
    "ExecuteTime": {
     "end_time": "2019-10-28T00:19:10.030922Z",
     "start_time": "2019-10-28T00:16:03.585542Z"
    },
    "scrolled": false
   },
   "outputs": [
    {
     "name": "stderr",
     "output_type": "stream",
     "text": [
      "/usr/local/lib/python3.7/dist-packages/sklearn/model_selection/_split.py:657: Warning:\n",
      "\n",
      "The least populated class in y has only 1 members, which is too few. The minimum number of members in any class cannot be less than n_splits=5.\n",
      "\n"
     ]
    },
    {
     "name": "stdout",
     "output_type": "stream",
     "text": [
      "[1]\tvalid_0's l2: 4.11762e+09\n",
      "Training until validation scores don't improve for 10 rounds\n",
      "[2]\tvalid_0's l2: 3.51597e+09\n",
      "[3]\tvalid_0's l2: 3.01197e+09\n",
      "[4]\tvalid_0's l2: 2.68145e+09\n",
      "[5]\tvalid_0's l2: 2.33192e+09\n",
      "[6]\tvalid_0's l2: 2.05219e+09\n",
      "[7]\tvalid_0's l2: 1.82345e+09\n",
      "[8]\tvalid_0's l2: 1.63881e+09\n",
      "[9]\tvalid_0's l2: 1.49023e+09\n",
      "[10]\tvalid_0's l2: 1.3653e+09\n",
      "[11]\tvalid_0's l2: 1.2598e+09\n",
      "[12]\tvalid_0's l2: 1.17305e+09\n",
      "[13]\tvalid_0's l2: 1.11047e+09\n",
      "[14]\tvalid_0's l2: 1.04953e+09\n",
      "[15]\tvalid_0's l2: 9.99891e+08\n",
      "[16]\tvalid_0's l2: 9.57272e+08\n",
      "[17]\tvalid_0's l2: 9.25568e+08\n",
      "[18]\tvalid_0's l2: 8.97772e+08\n",
      "[19]\tvalid_0's l2: 8.76354e+08\n",
      "[20]\tvalid_0's l2: 8.58284e+08\n",
      "[21]\tvalid_0's l2: 8.3999e+08\n",
      "[22]\tvalid_0's l2: 8.29219e+08\n",
      "[23]\tvalid_0's l2: 8.16007e+08\n",
      "[24]\tvalid_0's l2: 8.04164e+08\n",
      "[25]\tvalid_0's l2: 8.01129e+08\n",
      "[26]\tvalid_0's l2: 7.951e+08\n",
      "[27]\tvalid_0's l2: 7.86401e+08\n",
      "[28]\tvalid_0's l2: 7.84613e+08\n",
      "[29]\tvalid_0's l2: 7.82359e+08\n",
      "[30]\tvalid_0's l2: 7.79972e+08\n",
      "[31]\tvalid_0's l2: 7.79679e+08\n",
      "[32]\tvalid_0's l2: 7.75708e+08\n",
      "[33]\tvalid_0's l2: 7.70213e+08\n",
      "[34]\tvalid_0's l2: 7.68587e+08\n",
      "[35]\tvalid_0's l2: 7.71897e+08\n",
      "[36]\tvalid_0's l2: 7.72116e+08\n",
      "[37]\tvalid_0's l2: 7.71812e+08\n",
      "[38]\tvalid_0's l2: 7.67296e+08\n",
      "[39]\tvalid_0's l2: 7.642e+08\n",
      "[40]\tvalid_0's l2: 7.61484e+08\n",
      "[41]\tvalid_0's l2: 7.58571e+08\n",
      "[42]\tvalid_0's l2: 7.56786e+08\n",
      "[43]\tvalid_0's l2: 7.54125e+08\n",
      "[44]\tvalid_0's l2: 7.50251e+08\n",
      "[45]\tvalid_0's l2: 7.4806e+08\n",
      "[46]\tvalid_0's l2: 7.44196e+08\n",
      "[47]\tvalid_0's l2: 7.46307e+08\n",
      "[48]\tvalid_0's l2: 7.41525e+08\n",
      "[49]\tvalid_0's l2: 7.38114e+08\n",
      "[50]\tvalid_0's l2: 7.3782e+08\n",
      "[51]\tvalid_0's l2: 7.40729e+08\n",
      "[52]\tvalid_0's l2: 7.41872e+08\n",
      "[53]\tvalid_0's l2: 7.39096e+08\n",
      "[54]\tvalid_0's l2: 7.37104e+08\n",
      "[55]\tvalid_0's l2: 7.34412e+08\n",
      "[56]\tvalid_0's l2: 7.36064e+08\n",
      "[57]\tvalid_0's l2: 7.34916e+08\n",
      "[58]\tvalid_0's l2: 7.35437e+08\n",
      "[59]\tvalid_0's l2: 7.3598e+08\n",
      "[60]\tvalid_0's l2: 7.37182e+08\n",
      "[61]\tvalid_0's l2: 7.37524e+08\n",
      "[62]\tvalid_0's l2: 7.35548e+08\n",
      "[63]\tvalid_0's l2: 7.3573e+08\n",
      "[64]\tvalid_0's l2: 7.34455e+08\n",
      "[65]\tvalid_0's l2: 7.34965e+08\n",
      "Early stopping, best iteration is:\n",
      "[55]\tvalid_0's l2: 7.34412e+08\n"
     ]
    },
    {
     "data": {
      "image/png": "[encoded data removed]",
      "text/plain": [
       "<Figure size 432x288 with 1 Axes>"
      ]
     },
     "metadata": {
      "needs_background": "light"
     },
     "output_type": "display_data"
    },
    {
     "name": "stdout",
     "output_type": "stream",
     "text": [
      "No.0 Score: 27100.03543659326\n",
      "[1]\tvalid_0's l2: 4.845e+09\n",
      "Training until validation scores don't improve for 10 rounds\n",
      "[2]\tvalid_0's l2: 4.19241e+09\n",
      "[3]\tvalid_0's l2: 3.65856e+09\n",
      "[4]\tvalid_0's l2: 3.23316e+09\n",
      "[5]\tvalid_0's l2: 2.86172e+09\n",
      "[6]\tvalid_0's l2: 2.56492e+09\n",
      "[7]\tvalid_0's l2: 2.32847e+09\n",
      "[8]\tvalid_0's l2: 2.12943e+09\n",
      "[9]\tvalid_0's l2: 1.95594e+09\n",
      "[10]\tvalid_0's l2: 1.8093e+09\n",
      "[11]\tvalid_0's l2: 1.68463e+09\n",
      "[12]\tvalid_0's l2: 1.58045e+09\n",
      "[13]\tvalid_0's l2: 1.49862e+09\n",
      "[14]\tvalid_0's l2: 1.42602e+09\n",
      "[15]\tvalid_0's l2: 1.37045e+09\n",
      "[16]\tvalid_0's l2: 1.31927e+09\n",
      "[17]\tvalid_0's l2: 1.2758e+09\n",
      "[18]\tvalid_0's l2: 1.24579e+09\n",
      "[19]\tvalid_0's l2: 1.21629e+09\n",
      "[20]\tvalid_0's l2: 1.18682e+09\n",
      "[21]\tvalid_0's l2: 1.14547e+09\n",
      "[22]\tvalid_0's l2: 1.11336e+09\n",
      "[23]\tvalid_0's l2: 1.0884e+09\n",
      "[24]\tvalid_0's l2: 1.07361e+09\n",
      "[25]\tvalid_0's l2: 1.05706e+09\n",
      "[26]\tvalid_0's l2: 1.04413e+09\n",
      "[27]\tvalid_0's l2: 1.03075e+09\n",
      "[28]\tvalid_0's l2: 1.02063e+09\n",
      "[29]\tvalid_0's l2: 1.00563e+09\n",
      "[30]\tvalid_0's l2: 9.95011e+08\n",
      "[31]\tvalid_0's l2: 9.85977e+08\n",
      "[32]\tvalid_0's l2: 9.76485e+08\n",
      "[33]\tvalid_0's l2: 9.68642e+08\n",
      "[34]\tvalid_0's l2: 9.67413e+08\n",
      "[35]\tvalid_0's l2: 9.61189e+08\n",
      "[36]\tvalid_0's l2: 9.58726e+08\n",
      "[37]\tvalid_0's l2: 9.52961e+08\n",
      "[38]\tvalid_0's l2: 9.45387e+08\n",
      "[39]\tvalid_0's l2: 9.44141e+08\n",
      "[40]\tvalid_0's l2: 9.40303e+08\n",
      "[41]\tvalid_0's l2: 9.39712e+08\n",
      "[42]\tvalid_0's l2: 9.39011e+08\n",
      "[43]\tvalid_0's l2: 9.30998e+08\n",
      "[44]\tvalid_0's l2: 9.30981e+08\n",
      "[45]\tvalid_0's l2: 9.25168e+08\n",
      "[46]\tvalid_0's l2: 9.22225e+08\n",
      "[47]\tvalid_0's l2: 9.17081e+08\n",
      "[48]\tvalid_0's l2: 9.13118e+08\n",
      "[49]\tvalid_0's l2: 9.091e+08\n",
      "[50]\tvalid_0's l2: 9.1003e+08\n",
      "[51]\tvalid_0's l2: 9.05995e+08\n",
      "[52]\tvalid_0's l2: 9.02649e+08\n",
      "[53]\tvalid_0's l2: 9.00723e+08\n",
      "[54]\tvalid_0's l2: 8.96074e+08\n",
      "[55]\tvalid_0's l2: 8.96065e+08\n",
      "[56]\tvalid_0's l2: 8.93581e+08\n",
      "[57]\tvalid_0's l2: 8.89668e+08\n",
      "[58]\tvalid_0's l2: 8.88049e+08\n",
      "[59]\tvalid_0's l2: 8.82329e+08\n",
      "[60]\tvalid_0's l2: 8.78566e+08\n",
      "[61]\tvalid_0's l2: 8.74351e+08\n",
      "[62]\tvalid_0's l2: 8.69927e+08\n",
      "[63]\tvalid_0's l2: 8.65103e+08\n",
      "[64]\tvalid_0's l2: 8.62105e+08\n",
      "[65]\tvalid_0's l2: 8.59313e+08\n",
      "[66]\tvalid_0's l2: 8.56471e+08\n",
      "[67]\tvalid_0's l2: 8.53267e+08\n",
      "[68]\tvalid_0's l2: 8.51113e+08\n",
      "[69]\tvalid_0's l2: 8.48559e+08\n",
      "[70]\tvalid_0's l2: 8.45392e+08\n",
      "[71]\tvalid_0's l2: 8.4325e+08\n",
      "[72]\tvalid_0's l2: 8.40442e+08\n",
      "[73]\tvalid_0's l2: 8.3796e+08\n",
      "[74]\tvalid_0's l2: 8.36903e+08\n",
      "[75]\tvalid_0's l2: 8.35524e+08\n",
      "[76]\tvalid_0's l2: 8.33774e+08\n",
      "[77]\tvalid_0's l2: 8.31685e+08\n",
      "[78]\tvalid_0's l2: 8.30843e+08\n",
      "[79]\tvalid_0's l2: 8.30724e+08\n",
      "[80]\tvalid_0's l2: 8.3062e+08\n",
      "[81]\tvalid_0's l2: 8.27097e+08\n",
      "[82]\tvalid_0's l2: 8.26721e+08\n",
      "[83]\tvalid_0's l2: 8.25846e+08\n",
      "[84]\tvalid_0's l2: 8.25107e+08\n",
      "[85]\tvalid_0's l2: 8.22596e+08\n",
      "[86]\tvalid_0's l2: 8.1516e+08\n",
      "[87]\tvalid_0's l2: 8.11075e+08\n",
      "[88]\tvalid_0's l2: 8.1233e+08\n",
      "[89]\tvalid_0's l2: 8.06641e+08\n",
      "[90]\tvalid_0's l2: 8.04652e+08\n",
      "[91]\tvalid_0's l2: 8.03882e+08\n",
      "[92]\tvalid_0's l2: 8.03337e+08\n",
      "[93]\tvalid_0's l2: 8.01574e+08\n",
      "[94]\tvalid_0's l2: 8.01611e+08\n",
      "[95]\tvalid_0's l2: 7.99605e+08\n",
      "[96]\tvalid_0's l2: 7.99145e+08\n",
      "[97]\tvalid_0's l2: 7.98317e+08\n",
      "[98]\tvalid_0's l2: 7.98615e+08\n",
      "[99]\tvalid_0's l2: 7.95948e+08\n",
      "[100]\tvalid_0's l2: 7.96658e+08\n",
      "Did not meet early stopping. Best iteration is:\n",
      "[99]\tvalid_0's l2: 7.95948e+08\n"
     ]
    },
    {
     "data": {
      "image/png": "[encoded data removed]",
      "text/plain": [
       "<Figure size 432x288 with 1 Axes>"
      ]
     },
     "metadata": {
      "needs_background": "light"
     },
     "output_type": "display_data"
    },
    {
     "name": "stdout",
     "output_type": "stream",
     "text": [
      "No.1 Score: 28212.557664700966\n",
      "[1]\tvalid_0's l2: 4.29544e+09\n",
      "Training until validation scores don't improve for 10 rounds\n",
      "[2]\tvalid_0's l2: 3.68618e+09\n",
      "[3]\tvalid_0's l2: 3.17111e+09\n",
      "[4]\tvalid_0's l2: 2.7606e+09\n",
      "[5]\tvalid_0's l2: 2.43129e+09\n",
      "[6]\tvalid_0's l2: 2.16493e+09\n",
      "[7]\tvalid_0's l2: 1.93886e+09\n",
      "[8]\tvalid_0's l2: 1.76114e+09\n",
      "[9]\tvalid_0's l2: 1.60615e+09\n",
      "[10]\tvalid_0's l2: 1.48891e+09\n",
      "[11]\tvalid_0's l2: 1.38545e+09\n",
      "[12]\tvalid_0's l2: 1.30984e+09\n",
      "[13]\tvalid_0's l2: 1.23886e+09\n",
      "[14]\tvalid_0's l2: 1.18576e+09\n",
      "[15]\tvalid_0's l2: 1.14887e+09\n",
      "[16]\tvalid_0's l2: 1.11474e+09\n",
      "[17]\tvalid_0's l2: 1.07914e+09\n",
      "[18]\tvalid_0's l2: 1.05479e+09\n",
      "[19]\tvalid_0's l2: 1.0359e+09\n",
      "[20]\tvalid_0's l2: 1.01552e+09\n",
      "[21]\tvalid_0's l2: 9.9515e+08\n",
      "[22]\tvalid_0's l2: 9.711e+08\n",
      "[23]\tvalid_0's l2: 9.4715e+08\n",
      "[24]\tvalid_0's l2: 9.37156e+08\n",
      "[25]\tvalid_0's l2: 9.21164e+08\n",
      "[26]\tvalid_0's l2: 9.15361e+08\n",
      "[27]\tvalid_0's l2: 9.02398e+08\n",
      "[28]\tvalid_0's l2: 8.92999e+08\n",
      "[29]\tvalid_0's l2: 8.88916e+08\n",
      "[30]\tvalid_0's l2: 8.86634e+08\n",
      "[31]\tvalid_0's l2: 8.78211e+08\n",
      "[32]\tvalid_0's l2: 8.70525e+08\n",
      "[33]\tvalid_0's l2: 8.68156e+08\n",
      "[34]\tvalid_0's l2: 8.60543e+08\n",
      "[35]\tvalid_0's l2: 8.54825e+08\n",
      "[36]\tvalid_0's l2: 8.51916e+08\n",
      "[37]\tvalid_0's l2: 8.50292e+08\n",
      "[38]\tvalid_0's l2: 8.43725e+08\n",
      "[39]\tvalid_0's l2: 8.38356e+08\n",
      "[40]\tvalid_0's l2: 8.42741e+08\n",
      "[41]\tvalid_0's l2: 8.40227e+08\n",
      "[42]\tvalid_0's l2: 8.3289e+08\n",
      "[43]\tvalid_0's l2: 8.28205e+08\n",
      "[44]\tvalid_0's l2: 8.25944e+08\n",
      "[45]\tvalid_0's l2: 8.20314e+08\n",
      "[46]\tvalid_0's l2: 8.20582e+08\n",
      "[47]\tvalid_0's l2: 8.14986e+08\n",
      "[48]\tvalid_0's l2: 8.12157e+08\n",
      "[49]\tvalid_0's l2: 8.09779e+08\n",
      "[50]\tvalid_0's l2: 8.07177e+08\n",
      "[51]\tvalid_0's l2: 8.08311e+08\n",
      "[52]\tvalid_0's l2: 8.07346e+08\n",
      "[53]\tvalid_0's l2: 8.0463e+08\n",
      "[54]\tvalid_0's l2: 8.00673e+08\n",
      "[55]\tvalid_0's l2: 7.97342e+08\n",
      "[56]\tvalid_0's l2: 7.98446e+08\n",
      "[57]\tvalid_0's l2: 7.98903e+08\n",
      "[58]\tvalid_0's l2: 7.96966e+08\n",
      "[59]\tvalid_0's l2: 7.94439e+08\n",
      "[60]\tvalid_0's l2: 7.96677e+08\n",
      "[61]\tvalid_0's l2: 7.95471e+08\n",
      "[62]\tvalid_0's l2: 7.94349e+08\n",
      "[63]\tvalid_0's l2: 7.93501e+08\n",
      "[64]\tvalid_0's l2: 7.91323e+08\n",
      "[65]\tvalid_0's l2: 7.91261e+08\n",
      "[66]\tvalid_0's l2: 7.88518e+08\n",
      "[67]\tvalid_0's l2: 7.85405e+08\n",
      "[68]\tvalid_0's l2: 7.83554e+08\n",
      "[69]\tvalid_0's l2: 7.82519e+08\n",
      "[70]\tvalid_0's l2: 7.81128e+08\n",
      "[71]\tvalid_0's l2: 7.80362e+08\n",
      "[72]\tvalid_0's l2: 7.79402e+08\n",
      "[73]\tvalid_0's l2: 7.77459e+08\n",
      "[74]\tvalid_0's l2: 7.78329e+08\n",
      "[75]\tvalid_0's l2: 7.77763e+08\n",
      "[76]\tvalid_0's l2: 7.81402e+08\n",
      "[77]\tvalid_0's l2: 7.81927e+08\n",
      "[78]\tvalid_0's l2: 7.79282e+08\n",
      "[79]\tvalid_0's l2: 7.80331e+08\n",
      "[80]\tvalid_0's l2: 7.80877e+08\n",
      "[81]\tvalid_0's l2: 7.81496e+08\n",
      "[82]\tvalid_0's l2: 7.78308e+08\n",
      "[83]\tvalid_0's l2: 7.76271e+08\n",
      "[84]\tvalid_0's l2: 7.74311e+08\n",
      "[85]\tvalid_0's l2: 7.77398e+08\n",
      "[86]\tvalid_0's l2: 7.78167e+08\n",
      "[87]\tvalid_0's l2: 7.80768e+08\n",
      "[88]\tvalid_0's l2: 7.81385e+08\n",
      "[89]\tvalid_0's l2: 7.81816e+08\n",
      "[90]\tvalid_0's l2: 7.80585e+08\n",
      "[91]\tvalid_0's l2: 7.77476e+08\n",
      "[92]\tvalid_0's l2: 7.77929e+08\n",
      "[93]\tvalid_0's l2: 7.77163e+08\n",
      "[94]\tvalid_0's l2: 7.78697e+08\n",
      "Early stopping, best iteration is:\n",
      "[84]\tvalid_0's l2: 7.74311e+08\n"
     ]
    },
    {
     "data": {
      "image/png": "[encoded data removed]",
      "text/plain": [
       "<Figure size 432x288 with 1 Axes>"
      ]
     },
     "metadata": {
      "needs_background": "light"
     },
     "output_type": "display_data"
    },
    {
     "name": "stdout",
     "output_type": "stream",
     "text": [
      "No.2 Score: 27826.444740058614\n",
      "[1]\tvalid_0's l2: 4.95366e+09\n",
      "Training until validation scores don't improve for 10 rounds\n",
      "[2]\tvalid_0's l2: 4.25993e+09\n",
      "[3]\tvalid_0's l2: 3.68861e+09\n",
      "[4]\tvalid_0's l2: 3.23728e+09\n",
      "[5]\tvalid_0's l2: 2.86023e+09\n",
      "[6]\tvalid_0's l2: 2.56211e+09\n",
      "[7]\tvalid_0's l2: 2.32423e+09\n",
      "[8]\tvalid_0's l2: 2.10955e+09\n",
      "[9]\tvalid_0's l2: 1.94024e+09\n",
      "[10]\tvalid_0's l2: 1.7897e+09\n",
      "[11]\tvalid_0's l2: 1.67626e+09\n",
      "[12]\tvalid_0's l2: 1.57723e+09\n",
      "[13]\tvalid_0's l2: 1.49022e+09\n",
      "[14]\tvalid_0's l2: 1.41417e+09\n",
      "[15]\tvalid_0's l2: 1.36055e+09\n",
      "[16]\tvalid_0's l2: 1.30546e+09\n",
      "[17]\tvalid_0's l2: 1.25927e+09\n",
      "[18]\tvalid_0's l2: 1.22698e+09\n",
      "[19]\tvalid_0's l2: 1.20265e+09\n",
      "[20]\tvalid_0's l2: 1.17332e+09\n",
      "[21]\tvalid_0's l2: 1.14759e+09\n",
      "[22]\tvalid_0's l2: 1.12408e+09\n",
      "[23]\tvalid_0's l2: 1.08883e+09\n",
      "[24]\tvalid_0's l2: 1.07466e+09\n",
      "[25]\tvalid_0's l2: 1.06043e+09\n",
      "[26]\tvalid_0's l2: 1.03676e+09\n",
      "[27]\tvalid_0's l2: 1.02016e+09\n",
      "[28]\tvalid_0's l2: 1.00524e+09\n",
      "[29]\tvalid_0's l2: 9.92147e+08\n",
      "[30]\tvalid_0's l2: 9.87091e+08\n",
      "[31]\tvalid_0's l2: 9.82853e+08\n",
      "[32]\tvalid_0's l2: 9.73279e+08\n",
      "[33]\tvalid_0's l2: 9.59714e+08\n",
      "[34]\tvalid_0's l2: 9.59998e+08\n",
      "[35]\tvalid_0's l2: 9.46877e+08\n",
      "[36]\tvalid_0's l2: 9.37257e+08\n",
      "[37]\tvalid_0's l2: 9.31827e+08\n",
      "[38]\tvalid_0's l2: 9.24559e+08\n",
      "[39]\tvalid_0's l2: 9.17349e+08\n",
      "[40]\tvalid_0's l2: 9.16797e+08\n",
      "[41]\tvalid_0's l2: 9.1119e+08\n",
      "[42]\tvalid_0's l2: 9.04233e+08\n",
      "[43]\tvalid_0's l2: 9.01423e+08\n",
      "[44]\tvalid_0's l2: 9.06678e+08\n",
      "[45]\tvalid_0's l2: 9.00713e+08\n",
      "[46]\tvalid_0's l2: 9.0289e+08\n",
      "[47]\tvalid_0's l2: 8.99904e+08\n",
      "[48]\tvalid_0's l2: 9.01268e+08\n",
      "[49]\tvalid_0's l2: 8.95443e+08\n",
      "[50]\tvalid_0's l2: 8.92641e+08\n",
      "[51]\tvalid_0's l2: 8.88033e+08\n",
      "[52]\tvalid_0's l2: 8.87628e+08\n",
      "[53]\tvalid_0's l2: 8.89529e+08\n",
      "[54]\tvalid_0's l2: 8.8499e+08\n",
      "[55]\tvalid_0's l2: 8.81663e+08\n",
      "[56]\tvalid_0's l2: 8.7791e+08\n",
      "[57]\tvalid_0's l2: 8.76002e+08\n",
      "[58]\tvalid_0's l2: 8.71723e+08\n",
      "[59]\tvalid_0's l2: 8.70123e+08\n",
      "[60]\tvalid_0's l2: 8.68315e+08\n",
      "[61]\tvalid_0's l2: 8.65242e+08\n",
      "[62]\tvalid_0's l2: 8.52422e+08\n",
      "[63]\tvalid_0's l2: 8.42489e+08\n",
      "[64]\tvalid_0's l2: 8.30929e+08\n",
      "[65]\tvalid_0's l2: 8.29177e+08\n",
      "[66]\tvalid_0's l2: 8.20369e+08\n",
      "[67]\tvalid_0's l2: 8.23086e+08\n",
      "[68]\tvalid_0's l2: 8.14453e+08\n",
      "[69]\tvalid_0's l2: 8.08257e+08\n",
      "[70]\tvalid_0's l2: 8.06386e+08\n",
      "[71]\tvalid_0's l2: 7.99282e+08\n",
      "[72]\tvalid_0's l2: 7.95793e+08\n",
      "[73]\tvalid_0's l2: 7.94037e+08\n",
      "[74]\tvalid_0's l2: 7.89004e+08\n",
      "[75]\tvalid_0's l2: 7.86079e+08\n",
      "[76]\tvalid_0's l2: 7.81967e+08\n",
      "[77]\tvalid_0's l2: 7.79462e+08\n",
      "[78]\tvalid_0's l2: 7.77794e+08\n",
      "[79]\tvalid_0's l2: 7.7414e+08\n",
      "[80]\tvalid_0's l2: 7.73502e+08\n",
      "[81]\tvalid_0's l2: 7.71737e+08\n",
      "[82]\tvalid_0's l2: 7.70568e+08\n",
      "[83]\tvalid_0's l2: 7.69404e+08\n",
      "[84]\tvalid_0's l2: 7.68493e+08\n",
      "[85]\tvalid_0's l2: 7.69541e+08\n",
      "[86]\tvalid_0's l2: 7.67421e+08\n",
      "[87]\tvalid_0's l2: 7.68154e+08\n",
      "[88]\tvalid_0's l2: 7.68534e+08\n",
      "[89]\tvalid_0's l2: 7.65592e+08\n",
      "[90]\tvalid_0's l2: 7.66496e+08\n",
      "[91]\tvalid_0's l2: 7.63684e+08\n",
      "[92]\tvalid_0's l2: 7.63398e+08\n",
      "[93]\tvalid_0's l2: 7.61682e+08\n",
      "[94]\tvalid_0's l2: 7.58715e+08\n",
      "[95]\tvalid_0's l2: 7.5906e+08\n",
      "[96]\tvalid_0's l2: 7.54984e+08\n",
      "[97]\tvalid_0's l2: 7.50869e+08\n",
      "[98]\tvalid_0's l2: 7.49406e+08\n",
      "[99]\tvalid_0's l2: 7.47769e+08\n",
      "[100]\tvalid_0's l2: 7.44858e+08\n",
      "Did not meet early stopping. Best iteration is:\n",
      "[100]\tvalid_0's l2: 7.44858e+08\n"
     ]
    },
    {
     "data": {
      "image/png": "[encoded data removed]",
      "text/plain": [
       "<Figure size 432x288 with 1 Axes>"
      ]
     },
     "metadata": {
      "needs_background": "light"
     },
     "output_type": "display_data"
    },
    {
     "name": "stdout",
     "output_type": "stream",
     "text": [
      "No.3 Score: 27292.093623862882\n",
      "[1]\tvalid_0's l2: 5.06002e+09\n",
      "Training until validation scores don't improve for 10 rounds\n",
      "[2]\tvalid_0's l2: 4.40852e+09\n",
      "[3]\tvalid_0's l2: 3.9069e+09\n",
      "[4]\tvalid_0's l2: 3.57344e+09\n",
      "[5]\tvalid_0's l2: 3.19451e+09\n",
      "[6]\tvalid_0's l2: 2.8783e+09\n",
      "[7]\tvalid_0's l2: 2.61633e+09\n",
      "[8]\tvalid_0's l2: 2.41124e+09\n",
      "[9]\tvalid_0's l2: 2.2286e+09\n",
      "[10]\tvalid_0's l2: 2.08787e+09\n",
      "[11]\tvalid_0's l2: 1.96026e+09\n",
      "[12]\tvalid_0's l2: 1.86491e+09\n",
      "[13]\tvalid_0's l2: 1.79834e+09\n",
      "[14]\tvalid_0's l2: 1.71952e+09\n",
      "[15]\tvalid_0's l2: 1.64835e+09\n",
      "[16]\tvalid_0's l2: 1.58966e+09\n",
      "[17]\tvalid_0's l2: 1.54199e+09\n",
      "[18]\tvalid_0's l2: 1.49782e+09\n",
      "[19]\tvalid_0's l2: 1.46082e+09\n",
      "[20]\tvalid_0's l2: 1.42806e+09\n",
      "[21]\tvalid_0's l2: 1.39509e+09\n",
      "[22]\tvalid_0's l2: 1.37704e+09\n",
      "[23]\tvalid_0's l2: 1.35278e+09\n",
      "[24]\tvalid_0's l2: 1.33346e+09\n",
      "[25]\tvalid_0's l2: 1.3169e+09\n",
      "[26]\tvalid_0's l2: 1.30309e+09\n",
      "[27]\tvalid_0's l2: 1.28986e+09\n",
      "[28]\tvalid_0's l2: 1.27962e+09\n",
      "[29]\tvalid_0's l2: 1.26493e+09\n",
      "[30]\tvalid_0's l2: 1.25047e+09\n",
      "[31]\tvalid_0's l2: 1.23621e+09\n",
      "[32]\tvalid_0's l2: 1.22632e+09\n",
      "[33]\tvalid_0's l2: 1.2219e+09\n",
      "[34]\tvalid_0's l2: 1.21304e+09\n",
      "[35]\tvalid_0's l2: 1.20805e+09\n",
      "[36]\tvalid_0's l2: 1.19498e+09\n",
      "[37]\tvalid_0's l2: 1.18835e+09\n",
      "[38]\tvalid_0's l2: 1.18082e+09\n",
      "[39]\tvalid_0's l2: 1.17335e+09\n",
      "[40]\tvalid_0's l2: 1.17063e+09\n",
      "[41]\tvalid_0's l2: 1.15626e+09\n",
      "[42]\tvalid_0's l2: 1.14821e+09\n",
      "[43]\tvalid_0's l2: 1.14205e+09\n",
      "[44]\tvalid_0's l2: 1.13264e+09\n",
      "[45]\tvalid_0's l2: 1.12173e+09\n",
      "[46]\tvalid_0's l2: 1.11282e+09\n",
      "[47]\tvalid_0's l2: 1.10486e+09\n",
      "[48]\tvalid_0's l2: 1.10078e+09\n",
      "[49]\tvalid_0's l2: 1.09164e+09\n",
      "[50]\tvalid_0's l2: 1.08643e+09\n",
      "[51]\tvalid_0's l2: 1.07924e+09\n",
      "[52]\tvalid_0's l2: 1.07293e+09\n",
      "[53]\tvalid_0's l2: 1.07007e+09\n",
      "[54]\tvalid_0's l2: 1.06276e+09\n",
      "[55]\tvalid_0's l2: 1.0599e+09\n",
      "[56]\tvalid_0's l2: 1.05272e+09\n",
      "[57]\tvalid_0's l2: 1.04922e+09\n",
      "[58]\tvalid_0's l2: 1.0485e+09\n",
      "[59]\tvalid_0's l2: 1.04491e+09\n",
      "[60]\tvalid_0's l2: 1.03942e+09\n",
      "[61]\tvalid_0's l2: 1.02894e+09\n",
      "[62]\tvalid_0's l2: 1.02033e+09\n",
      "[63]\tvalid_0's l2: 1.01329e+09\n",
      "[64]\tvalid_0's l2: 1.00615e+09\n",
      "[65]\tvalid_0's l2: 1.00038e+09\n",
      "[66]\tvalid_0's l2: 9.98875e+08\n",
      "[67]\tvalid_0's l2: 9.94367e+08\n",
      "[68]\tvalid_0's l2: 9.89949e+08\n",
      "[69]\tvalid_0's l2: 9.85492e+08\n",
      "[70]\tvalid_0's l2: 9.81883e+08\n",
      "[71]\tvalid_0's l2: 9.80558e+08\n",
      "[72]\tvalid_0's l2: 9.80279e+08\n",
      "[73]\tvalid_0's l2: 9.77117e+08\n",
      "[74]\tvalid_0's l2: 9.73178e+08\n",
      "[75]\tvalid_0's l2: 9.68316e+08\n",
      "[76]\tvalid_0's l2: 9.65276e+08\n",
      "[77]\tvalid_0's l2: 9.64474e+08\n",
      "[78]\tvalid_0's l2: 9.64582e+08\n",
      "[79]\tvalid_0's l2: 9.61318e+08\n",
      "[80]\tvalid_0's l2: 9.57883e+08\n",
      "[81]\tvalid_0's l2: 9.55294e+08\n",
      "[82]\tvalid_0's l2: 9.52239e+08\n",
      "[83]\tvalid_0's l2: 9.502e+08\n",
      "[84]\tvalid_0's l2: 9.47621e+08\n",
      "[85]\tvalid_0's l2: 9.45116e+08\n",
      "[86]\tvalid_0's l2: 9.41498e+08\n",
      "[87]\tvalid_0's l2: 9.40998e+08\n",
      "[88]\tvalid_0's l2: 9.40005e+08\n",
      "[89]\tvalid_0's l2: 9.40196e+08\n",
      "[90]\tvalid_0's l2: 9.36474e+08\n",
      "[91]\tvalid_0's l2: 9.3477e+08\n",
      "[92]\tvalid_0's l2: 9.32248e+08\n",
      "[93]\tvalid_0's l2: 9.32916e+08\n",
      "[94]\tvalid_0's l2: 9.29635e+08\n",
      "[95]\tvalid_0's l2: 9.26543e+08\n",
      "[96]\tvalid_0's l2: 9.26788e+08\n",
      "[97]\tvalid_0's l2: 9.24981e+08\n",
      "[98]\tvalid_0's l2: 9.28205e+08\n",
      "[99]\tvalid_0's l2: 9.28107e+08\n",
      "[100]\tvalid_0's l2: 9.27593e+08\n",
      "Did not meet early stopping. Best iteration is:\n",
      "[97]\tvalid_0's l2: 9.24981e+08\n"
     ]
    },
    {
     "data": {
      "image/png": "[encoded data removed]",
      "text/plain": [
       "<Figure size 432x288 with 1 Axes>"
      ]
     },
     "metadata": {
      "needs_background": "light"
     },
     "output_type": "display_data"
    },
    {
     "name": "stderr",
     "output_type": "stream",
     "text": [
      "2019-10-28 00:19:10,023 - INFO - [Cross Validation] done in 186.41 s\n"
     ]
    },
    {
     "name": "stdout",
     "output_type": "stream",
     "text": [
      "No.4 Score: 30413.49553145231\n"
     ]
    }
   ],
   "source": [
    "with timer(\"Cross Validation\"):\n",
    "    scores = []\n",
    "    folds = StratifiedKFold(n_splits=5, shuffle=True, random_state=SEED).split(df, y)\n",
    "    for n_fold, (train_index, val_index) in enumerate(folds):\n",
    "        train_df = df.loc[train_index]\n",
    "        val_df = df.loc[val_index]\n",
    "        y_train = y[train_index]\n",
    "        y_val = y[val_index]\n",
    "\n",
    "        lgb_train = lgb.Dataset(\n",
    "            train_df.drop([\"target\", \"target_log\"], axis=1), y_train.flatten()\n",
    "        )\n",
    "        lgb_eval = lgb.Dataset(\n",
    "            val_df.drop([\"target\", \"target_log\"], axis=1), y_val.flatten(), reference=lgb_train\n",
    "        )\n",
    "\n",
    "        gbm = lgb.train(\n",
    "            params,\n",
    "            lgb_train,\n",
    "            num_boost_round=100,\n",
    "            valid_sets=lgb_eval,\n",
    "            early_stopping_rounds=10,\n",
    "        )\n",
    "\n",
    "        y_pred = gbm.predict(val_df.drop([\"target\", \"target_log\"], axis=1), num_iteration=gbm.best_iteration)\n",
    "\n",
    "        # see the correlation between real and prediction\n",
    "        ax = sns.scatterplot(x=y_pred.flatten(), y=y_val.flatten())\n",
    "        ax = sns.lineplot(\n",
    "            x=[y_pred.flatten().min(), y_pred.flatten().max()],\n",
    "            y=[y_pred.flatten().min(), y_pred.flatten().max()],\n",
    "        )\n",
    "        ax.set(xlabel=\"predicted\", ylabel=\"real\")\n",
    "        plt.show()\n",
    "\n",
    "        score = np.sqrt(\n",
    "            ((y_pred.flatten() - y_val.flatten()) ** 2).sum() / len(y_val.flatten())\n",
    "        )\n",
    "        scores.append(score)\n",
    "        print(\"No.{} Score: {}\".format(n_fold, score))"
   ]
  },
  {
   "cell_type": "code",
   "execution_count": 12,
   "metadata": {
    "ExecuteTime": {
     "end_time": "2019-10-28T00:19:10.056198Z",
     "start_time": "2019-10-28T00:19:10.036492Z"
    }
   },
   "outputs": [
    {
     "data": {
      "text/plain": [
       "28168.925399333606"
      ]
     },
     "execution_count": 12,
     "metadata": {},
     "output_type": "execute_result"
    }
   ],
   "source": [
    "np.mean(scores)"
   ]
  }
 ],
 "metadata": {
  "kernelspec": {
   "display_name": "Python 3",
   "language": "python",
   "name": "python3"
  },
  "language_info": {
   "codemirror_mode": {
    "name": "ipython",
    "version": 3
   },
   "file_extension": ".py",
   "mimetype": "text/x-python",
   "name": "python",
   "nbconvert_exporter": "python",
   "pygments_lexer": "ipython3",
   "version": "3.7.4"
  },
  "toc": {
   "base_numbering": 1,
   "nav_menu": {},
   "number_sections": true,
   "sideBar": true,
   "skip_h1_title": false,
   "title_cell": "Table of Contents",
   "title_sidebar": "Contents",
   "toc_cell": false,
   "toc_position": {},
   "toc_section_display": true,
   "toc_window_display": false
  }
 },
 "nbformat": 4,
 "nbformat_minor": 2
}
