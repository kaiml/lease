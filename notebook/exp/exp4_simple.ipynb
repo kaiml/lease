{
 "cells": [
  {
   "cell_type": "code",
   "execution_count": null,
   "metadata": {},
   "outputs": [],
   "source": []
  },
  {
   "cell_type": "markdown",
   "metadata": {},
   "source": [
    "# Exp 4. Simple modeling with almost no pp/fe "
   ]
  },
  {
   "cell_type": "code",
   "execution_count": 1,
   "metadata": {
    "ExecuteTime": {
     "end_time": "2019-11-02T04:14:44.305037Z",
     "start_time": "2019-11-02T04:14:42.847221Z"
    },
    "code_folding": []
   },
   "outputs": [
    {
     "data": {
      "text/html": [
       "        <script type=\"text/javascript\">\n",
       "        window.PlotlyConfig = {MathJaxConfig: 'local'};\n",
       "        if (window.MathJax) {MathJax.Hub.Config({SVG: {font: \"STIX-Web\"}});}\n",
       "        if (typeof require !== 'undefined') {\n",
       "        require.undef(\"plotly\");\n",
       "        requirejs.config({\n",
       "            paths: {\n",
       "                'plotly': ['https://cdn.plot.ly/plotly-latest.min']\n",
       "            }\n",
       "        });\n",
       "        require(['plotly'], function(Plotly) {\n",
       "            window._Plotly = Plotly;\n",
       "        });\n",
       "        }\n",
       "        </script>\n",
       "        "
      ]
     },
     "metadata": {},
     "output_type": "display_data"
    },
    {
     "data": {
      "text/html": [
       "<style>.container { width:100% !important; }</style>"
      ],
      "text/plain": [
       "<IPython.core.display.HTML object>"
      ]
     },
     "metadata": {},
     "output_type": "display_data"
    }
   ],
   "source": [
    "# Import Modules\n",
    "import os\n",
    "import sys\n",
    "import warnings\n",
    "from pathlib import Path\n",
    "\n",
    "import pandas as pd\n",
    "# Enable plotly offline plotting\n",
    "import plotly\n",
    "import plotly.graph_objects as go\n",
    "import seaborn as sns\n",
    "from ipywidgets import interact\n",
    "\n",
    "\n",
    "# Ignore sklearn warnings\n",
    "def warn(*args, **kwargs):\n",
    "    pass\n",
    "\n",
    "\n",
    "\n",
    "pd.set_option(\"display.max_rows\", 999)\n",
    "pd.set_option(\"display.max_columns\", 999)\n",
    "warnings.warn = warn\n",
    "\n",
    "\n",
    "plotly.offline.init_notebook_mode(connected=True)\n",
    "\n",
    "# Init project path\n",
    "PROJECT_DIR = os.getcwd() + \"/../../\"\n",
    "sys.path.insert(0, PROJECT_DIR)\n",
    "%load_ext autoreload\n",
    "%autoreload 2\n",
    "from IPython.core.display import display, HTML\n",
    "display(HTML(\"<style>.container { width:100% !important; }</style>\"))"
   ]
  },
  {
   "cell_type": "code",
   "execution_count": 2,
   "metadata": {
    "ExecuteTime": {
     "end_time": "2019-11-02T04:15:04.624782Z",
     "start_time": "2019-11-02T04:14:44.308279Z"
    }
   },
   "outputs": [
    {
     "name": "stderr",
     "output_type": "stream",
     "text": [
      "2019-11-02 04:14:44,397 - INFO - logger set up\n",
      "2019-11-02 04:14:44,400 - INFO - seed=42\n",
      "2019-11-02 04:14:46,685 - INFO - [load data] done in 2.14 s\n",
      "2019-11-02 04:15:04,574 - INFO - [preprocessing] done in 17.89 s\n",
      "2019-11-02 04:15:04,605 - INFO - [rename non-ascii cols] done in 0.03 s\n"
     ]
    }
   ],
   "source": [
    "from src.exp.common.setup import *\n",
    "from src.exp.common.load_data import load_data\n",
    "from src.exp.common.correct_invalid_data import correct_invalid_data\n",
    "from src.exp.common.preprocessing import preprocessing\n",
    "from src.exp.common.rename_non_ascii_cols import rename_non_ascii_cols\n",
    "\n",
    "# Step 1. Load train.csv, test.csv\n",
    "with timer(\"load data\"):\n",
    "    train_df, test_df = load_data(DATA_DIR=DATA_DIR)\n",
    "    original_train_df, original_test_df = load_data(DATA_DIR=DATA_DIR)\n",
    "    train_df = correct_invalid_data(train_df)\n",
    "    original_train_df = correct_invalid_data(original_train_df)\n",
    "\n",
    "# Step 2. Preprocessing\n",
    "with timer(\"preprocessing\"):\n",
    "    train_df = preprocessing(df=train_df)\n",
    "    test_df = preprocessing(df=test_df)\n",
    "\n",
    "# Step 3. Rename non-ascii columns as lightGBM doesn't support them.\n",
    "with timer(\"rename non-ascii cols\"):\n",
    "    train_df = rename_non_ascii_cols(df=train_df)"
   ]
  },
  {
   "cell_type": "code",
   "execution_count": 3,
   "metadata": {
    "ExecuteTime": {
     "end_time": "2019-11-02T04:15:04.675476Z",
     "start_time": "2019-11-02T04:15:04.632204Z"
    }
   },
   "outputs": [],
   "source": [
    "# LightGBM parameters\n",
    "lgb_params = {\n",
    "    \"task\": \"train\",\n",
    "    \"boosting_type\": \"gbdt\",\n",
    "    \"objective\": \"regression\",\n",
    "    \"metric\": {\"l2\"},\n",
    "    \"num_leaves\": 1000,\n",
    "    \"learning_rate\": 0.1,\n",
    "    \"feature_fraction\": 0.9,\n",
    "    \"bagging_fraction\": 0.8,\n",
    "    \"bagging_freq\": 20,\n",
    "    \"verbose\": -1,\n",
    "}\n",
    "\n",
    "# xgb parameters\n",
    "xgb_params = {\"objective\": \"reg:squarederror\", \"eval_metric\": \"rmse\"}"
   ]
  },
  {
   "cell_type": "code",
   "execution_count": 4,
   "metadata": {
    "ExecuteTime": {
     "end_time": "2019-11-02T04:15:05.333077Z",
     "start_time": "2019-11-02T04:15:04.677981Z"
    }
   },
   "outputs": [
    {
     "ename": "ImportError",
     "evalue": "cannot import name 'cv' from 'src.exp.exp4_simple.cv' (/app/notebook/exp/../../src/exp/exp4_simple/cv.py)",
     "output_type": "error",
     "traceback": [
      "\u001b[0;31m---------------------------------------------------------------------------\u001b[0m",
      "\u001b[0;31mImportError\u001b[0m                               Traceback (most recent call last)",
      "\u001b[0;32m<ipython-input-4-4f6111f6bf6a>\u001b[0m in \u001b[0;36m<module>\u001b[0;34m\u001b[0m\n\u001b[1;32m      1\u001b[0m \u001b[0;31m# Step 4. Cross Validation\u001b[0m\u001b[0;34m\u001b[0m\u001b[0;34m\u001b[0m\u001b[0;34m\u001b[0m\u001b[0m\n\u001b[0;32m----> 2\u001b[0;31m \u001b[0;32mfrom\u001b[0m \u001b[0msrc\u001b[0m\u001b[0;34m.\u001b[0m\u001b[0mexp\u001b[0m\u001b[0;34m.\u001b[0m\u001b[0mexp4_simple\u001b[0m\u001b[0;34m.\u001b[0m\u001b[0mcv\u001b[0m \u001b[0;32mimport\u001b[0m \u001b[0mcv\u001b[0m\u001b[0;34m\u001b[0m\u001b[0;34m\u001b[0m\u001b[0m\n\u001b[0m\u001b[1;32m      3\u001b[0m \u001b[0;34m\u001b[0m\u001b[0m\n\u001b[1;32m      4\u001b[0m \u001b[0;32mwith\u001b[0m \u001b[0mtimer\u001b[0m\u001b[0;34m(\u001b[0m\u001b[0;34m\"cv with linear regression\"\u001b[0m\u001b[0;34m)\u001b[0m\u001b[0;34m:\u001b[0m\u001b[0;34m\u001b[0m\u001b[0;34m\u001b[0m\u001b[0m\n\u001b[1;32m      5\u001b[0m     lr_result, scores = cv(\n",
      "\u001b[0;31mImportError\u001b[0m: cannot import name 'cv' from 'src.exp.exp4_simple.cv' (/app/notebook/exp/../../src/exp/exp4_simple/cv.py)"
     ]
    }
   ],
   "source": [
    "# Step 4. Cross Validation\n",
    "from src.exp.exp4_simple.cv import cv\n",
    "\n",
    "with timer(\"cv with linear regression\"):\n",
    "    lr_result, scores = cv(\n",
    "        train_df=train_df, model_name=\"linearRegression\", params=None\n",
    "    )\n",
    "with timer(\"cv with xgboost\"):\n",
    "    xgb_result, scores = cv(\n",
    "        train_df=train_df, model_name=\"xgboost\", params=xgb_params\n",
    "    )\n",
    "with timer(\"cv with lightgbm\"):\n",
    "    lgb_result, scores = cv(\n",
    "        train_df=train_df, model_name=\"lightgbm\", params=lgb_params\n",
    "    )"
   ]
  },
  {
   "cell_type": "code",
   "execution_count": null,
   "metadata": {
    "ExecuteTime": {
     "end_time": "2019-11-02T04:15:05.336935Z",
     "start_time": "2019-11-02T04:14:42.921Z"
    },
    "scrolled": false
   },
   "outputs": [],
   "source": [
    "from src.exp.common.plot_result import plot_result\n",
    "\n",
    "\n",
    "@interact(n_fold=list(range(N_FOLDS)))\n",
    "def plot_results(n_fold):\n",
    "    plot_result(original_train_df, lr_result, n_fold, \"lr\")\n",
    "    plot_result(original_train_df, xgb_result, n_fold, \"xgb\")\n",
    "    plot_result(original_train_df, lgb_result, n_fold, \"lgb\")"
   ]
  },
  {
   "cell_type": "code",
   "execution_count": null,
   "metadata": {},
   "outputs": [],
   "source": []
  }
 ],
 "metadata": {
  "kernelspec": {
   "display_name": "Python 3",
   "language": "python",
   "name": "python3"
  },
  "language_info": {
   "codemirror_mode": {
    "name": "ipython",
    "version": 3
   },
   "file_extension": ".py",
   "mimetype": "text/x-python",
   "name": "python",
   "nbconvert_exporter": "python",
   "pygments_lexer": "ipython3",
   "version": "3.7.4"
  },
  "toc": {
   "base_numbering": 1,
   "nav_menu": {},
   "number_sections": true,
   "sideBar": true,
   "skip_h1_title": false,
   "title_cell": "Table of Contents",
   "title_sidebar": "Contents",
   "toc_cell": false,
   "toc_position": {},
   "toc_section_display": true,
   "toc_window_display": false
  },
  "varInspector": {
   "cols": {
    "lenName": 16,
    "lenType": 16,
    "lenVar": 40
   },
   "kernels_config": {
    "python": {
     "delete_cmd_postfix": "",
     "delete_cmd_prefix": "del ",
     "library": "var_list.py",
     "varRefreshCmd": "print(var_dic_list())"
    },
    "r": {
     "delete_cmd_postfix": ") ",
     "delete_cmd_prefix": "rm(",
     "library": "var_list.r",
     "varRefreshCmd": "cat(var_dic_list()) "
    }
   },
   "position": {
    "height": "403.722px",
    "left": "948.023px",
    "right": "20px",
    "top": "56.9545px",
    "width": "344.162px"
   },
   "types_to_exclude": [
    "module",
    "function",
    "builtin_function_or_method",
    "instance",
    "_Feature"
   ],
   "window_display": false
  }
 },
 "nbformat": 4,
 "nbformat_minor": 2
}
