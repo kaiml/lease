{
 "cells": [
  {
   "cell_type": "code",
   "execution_count": null,
   "metadata": {},
   "outputs": [],
   "source": []
  },
  {
   "cell_type": "markdown",
   "metadata": {},
   "source": [
    "# Exp 4. Simple modeling with almost no pp/fe "
   ]
  },
  {
   "cell_type": "code",
   "execution_count": 80,
   "metadata": {
    "ExecuteTime": {
     "end_time": "2019-10-31T10:02:13.093482Z",
     "start_time": "2019-10-31T10:02:13.027878Z"
    },
    "code_folding": []
   },
   "outputs": [
    {
     "data": {
      "text/html": [
       "        <script type=\"text/javascript\">\n",
       "        window.PlotlyConfig = {MathJaxConfig: 'local'};\n",
       "        if (window.MathJax) {MathJax.Hub.Config({SVG: {font: \"STIX-Web\"}});}\n",
       "        if (typeof require !== 'undefined') {\n",
       "        require.undef(\"plotly\");\n",
       "        requirejs.config({\n",
       "            paths: {\n",
       "                'plotly': ['https://cdn.plot.ly/plotly-latest.min']\n",
       "            }\n",
       "        });\n",
       "        require(['plotly'], function(Plotly) {\n",
       "            window._Plotly = Plotly;\n",
       "        });\n",
       "        }\n",
       "        </script>\n",
       "        "
      ]
     },
     "metadata": {},
     "output_type": "display_data"
    },
    {
     "name": "stdout",
     "output_type": "stream",
     "text": [
      "The autoreload extension is already loaded. To reload it, use:\n",
      "  %reload_ext autoreload\n"
     ]
    }
   ],
   "source": [
    "# Import Modules\n",
    "import os\n",
    "import sys\n",
    "from pathlib import Path\n",
    "import pandas as pd\n",
    "import plotly.graph_objects as go\n",
    "\n",
    "from ipywidgets import interact\n",
    "\n",
    "# Ignore sklearn warnings\n",
    "def warn(*args, **kwargs):\n",
    "    pass\n",
    "import warnings\n",
    "warnings.warn = warn\n",
    "\n",
    "# Enable plotly offline plotting\n",
    "import plotly\n",
    "\n",
    "plotly.offline.init_notebook_mode(connected=True)\n",
    "\n",
    "# Init project path\n",
    "PROJECT_DIR = os.getcwd() + \"/../../\"\n",
    "sys.path.insert(0, PROJECT_DIR)\n",
    "%load_ext autoreload\n",
    "%autoreload 2"
   ]
  },
  {
   "cell_type": "code",
   "execution_count": 66,
   "metadata": {
    "ExecuteTime": {
     "end_time": "2019-10-31T09:23:58.560551Z",
     "start_time": "2019-10-31T09:23:39.364926Z"
    }
   },
   "outputs": [
    {
     "name": "stderr",
     "output_type": "stream",
     "text": [
      "2019-10-31 09:23:41,572 - INFO - [load data] done in 2.13 s\n",
      "2019-10-31 09:23:58,542 - INFO - [preprocessing] done in 16.97 s\n",
      "2019-10-31 09:23:58,554 - INFO - [rename non-ascii cols] done in 0.01 s\n"
     ]
    }
   ],
   "source": [
    "from src.exp.exp4_simple.step0_set_global_variables import *\n",
    "from src.exp.exp4_simple.step1_load_data import load_data\n",
    "from src.exp.exp4_simple.step2_preprocessing import preprocessing\n",
    "from src.exp.exp4_simple.step3_rename_non_ascii_cols import rename_non_ascii_cols\n",
    "\n",
    "# Step 1. Load train.csv, test.csv\n",
    "with timer(\"load data\"):\n",
    "    train_df, test_df = load_data(DATA_DIR=DATA_DIR)\n",
    "    original_train_df, original_test_df = load_data(DATA_DIR=DATA_DIR)\n",
    "\n",
    "# Step 2. Preprocessing\n",
    "with timer(\"preprocessing\"):\n",
    "    train_df = preprocessing(df=train_df)\n",
    "    test_df = preprocessing(df=test_df)\n",
    "\n",
    "# Step 3. Rename non-ascii columns as lightGBM doesn't support them.\n",
    "with timer(\"rename non-ascii cols\"):\n",
    "    train_df = rename_non_ascii_cols(df=train_df)"
   ]
  },
  {
   "cell_type": "code",
   "execution_count": 67,
   "metadata": {
    "ExecuteTime": {
     "end_time": "2019-10-31T09:23:58.657732Z",
     "start_time": "2019-10-31T09:23:58.564719Z"
    }
   },
   "outputs": [],
   "source": [
    "# LightGBM parameters\n",
    "lgb_params = {\n",
    "    \"task\": \"train\",\n",
    "    \"boosting_type\": \"gbdt\",\n",
    "    \"objective\": \"regression\",\n",
    "    \"metric\": {\"l2\"},\n",
    "    \"num_leaves\": 1000,\n",
    "    \"learning_rate\": 0.1,\n",
    "    \"feature_fraction\": 0.9,\n",
    "    \"bagging_fraction\": 0.8,\n",
    "    \"bagging_freq\": 20,\n",
    "    \"verbose\": -1,\n",
    "}\n",
    "\n",
    "# xgb parameters\n",
    "xgb_params = {\"objective\": \"reg:squarederror\", \"eval_metric\": \"rmse\"}"
   ]
  },
  {
   "cell_type": "code",
   "execution_count": 68,
   "metadata": {
    "ExecuteTime": {
     "end_time": "2019-10-31T09:24:32.949209Z",
     "start_time": "2019-10-31T09:23:58.663566Z"
    }
   },
   "outputs": [
    {
     "name": "stdout",
     "output_type": "stream",
     "text": [
      "---------------- linearRegression ----------------\n",
      "n_fold: 0 Score: 32927.17395126365\n",
      "n_fold: 1 Score: 24331.8640655277\n",
      "n_fold: 2 Score: 26734.197174381203\n",
      "n_fold: 3 Score: 22056.815322410202\n"
     ]
    },
    {
     "name": "stderr",
     "output_type": "stream",
     "text": [
      "2019-10-31 09:24:00,440 - INFO - [cv with linear regression] done in 1.72 s\n"
     ]
    },
    {
     "name": "stdout",
     "output_type": "stream",
     "text": [
      "n_fold: 4 Score: 25821.2029931744\n",
      "---------------- linearRegression  END ----------------\n",
      "\n",
      "---------------- xgboost ----------------\n",
      "n_fold: 0 Score: 24757.262606995544\n",
      "n_fold: 1 Score: 21314.254189367835\n",
      "n_fold: 2 Score: 28340.92489733778\n",
      "n_fold: 3 Score: 18449.231681568883\n"
     ]
    },
    {
     "name": "stderr",
     "output_type": "stream",
     "text": [
      "2019-10-31 09:24:20,395 - INFO - [cv with xgboost] done in 19.95 s\n"
     ]
    },
    {
     "name": "stdout",
     "output_type": "stream",
     "text": [
      "n_fold: 4 Score: 21694.853633174596\n",
      "---------------- xgboost  END ----------------\n",
      "\n",
      "---------------- lightgbm ----------------\n",
      "n_fold: 0 Score: 24623.181835665888\n",
      "n_fold: 1 Score: 23771.844037072842\n",
      "n_fold: 2 Score: 28239.62718834958\n",
      "n_fold: 3 Score: 19410.471720051122\n"
     ]
    },
    {
     "name": "stderr",
     "output_type": "stream",
     "text": [
      "2019-10-31 09:24:32,941 - INFO - [cv with lightgbm] done in 12.54 s\n"
     ]
    },
    {
     "name": "stdout",
     "output_type": "stream",
     "text": [
      "n_fold: 4 Score: 21273.068348048982\n",
      "---------------- lightgbm  END ----------------\n",
      "\n"
     ]
    }
   ],
   "source": [
    "# Step 4. Cross Validation\n",
    "from src.exp.exp4_simple.step4_cv import cross_validation\n",
    "with timer(\"cv with linear regression\"):\n",
    "    lr_result, scores = cross_validation(\n",
    "        train_df=train_df, model_name=\"linearRegression\", params=None\n",
    "    )\n",
    "with timer(\"cv with xgboost\"):\n",
    "    xgb_result, scores = cross_validation(\n",
    "        train_df=train_df, model_name=\"xgboost\", params=xgb_params\n",
    "    )\n",
    "with timer(\"cv with lightgbm\"):\n",
    "    lgb_result, scores = cross_validation(\n",
    "        train_df=train_df, model_name=\"lightgbm\", params=lgb_params\n",
    "    )"
   ]
  },
  {
   "cell_type": "code",
   "execution_count": 90,
   "metadata": {
    "ExecuteTime": {
     "end_time": "2019-10-31T10:04:46.110771Z",
     "start_time": "2019-10-31T10:04:44.342663Z"
    },
    "scrolled": false
   },
   "outputs": [
    {
     "data": {
      "application/vnd.jupyter.widget-view+json": {
       "model_id": "0132ac9b288049baad786bf8912d65cc",
       "version_major": 2,
       "version_minor": 0
      },
      "text/plain": [
       "interactive(children=(Dropdown(description='n_fold', options=(0, 1, 2, 3, 4), value=0), Output()), _dom_classe…"
      ]
     },
     "metadata": {},
     "output_type": "display_data"
    }
   ],
   "source": [
    "from src.exp.exp4_simple.step5_plot_result import plot_result\n",
    "@interact(n_fold=list(range(N_FOLDS)))\n",
    "def plot_results(n_fold):\n",
    "    plot_result(original_train_df, lr_result, n_fold, \"lr\")\n",
    "    plot_result(original_train_df, xgb_result, n_fold, \"xgb\")\n",
    "    plot_result(original_train_df, lgb_result, n_fold, \"lgb\")"
   ]
  },
  {
   "cell_type": "code",
   "execution_count": null,
   "metadata": {},
   "outputs": [],
   "source": []
  }
 ],
 "metadata": {
  "kernelspec": {
   "display_name": "Python 3",
   "language": "python",
   "name": "python3"
  },
  "language_info": {
   "codemirror_mode": {
    "name": "ipython",
    "version": 3
   },
   "file_extension": ".py",
   "mimetype": "text/x-python",
   "name": "python",
   "nbconvert_exporter": "python",
   "pygments_lexer": "ipython3",
   "version": "3.7.4"
  },
  "toc": {
   "base_numbering": 1,
   "nav_menu": {},
   "number_sections": true,
   "sideBar": true,
   "skip_h1_title": false,
   "title_cell": "Table of Contents",
   "title_sidebar": "Contents",
   "toc_cell": false,
   "toc_position": {},
   "toc_section_display": true,
   "toc_window_display": false
  },
  "varInspector": {
   "cols": {
    "lenName": 16,
    "lenType": 16,
    "lenVar": 40
   },
   "kernels_config": {
    "python": {
     "delete_cmd_postfix": "",
     "delete_cmd_prefix": "del ",
     "library": "var_list.py",
     "varRefreshCmd": "print(var_dic_list())"
    },
    "r": {
     "delete_cmd_postfix": ") ",
     "delete_cmd_prefix": "rm(",
     "library": "var_list.r",
     "varRefreshCmd": "cat(var_dic_list()) "
    }
   },
   "position": {
    "height": "403.722px",
    "left": "948.023px",
    "right": "20px",
    "top": "56.9545px",
    "width": "344.162px"
   },
   "types_to_exclude": [
    "module",
    "function",
    "builtin_function_or_method",
    "instance",
    "_Feature"
   ],
   "window_display": false
  }
 },
 "nbformat": 4,
 "nbformat_minor": 2
}
