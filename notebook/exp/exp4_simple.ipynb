{
 "cells": [
  {
   "cell_type": "code",
   "execution_count": null,
   "metadata": {},
   "outputs": [],
   "source": []
  },
  {
   "cell_type": "markdown",
   "metadata": {},
   "source": [
    "# Exp 4. Simple modeling with almost no pp/fe "
   ]
  },
  {
   "cell_type": "code",
   "execution_count": 38,
   "metadata": {
    "ExecuteTime": {
     "end_time": "2019-10-31T09:10:56.457856Z",
     "start_time": "2019-10-31T09:10:56.387778Z"
    },
    "code_folding": []
   },
   "outputs": [
    {
     "data": {
      "text/html": [
       "        <script type=\"text/javascript\">\n",
       "        window.PlotlyConfig = {MathJaxConfig: 'local'};\n",
       "        if (window.MathJax) {MathJax.Hub.Config({SVG: {font: \"STIX-Web\"}});}\n",
       "        if (typeof require !== 'undefined') {\n",
       "        require.undef(\"plotly\");\n",
       "        requirejs.config({\n",
       "            paths: {\n",
       "                'plotly': ['https://cdn.plot.ly/plotly-latest.min']\n",
       "            }\n",
       "        });\n",
       "        require(['plotly'], function(Plotly) {\n",
       "            window._Plotly = Plotly;\n",
       "        });\n",
       "        }\n",
       "        </script>\n",
       "        "
      ]
     },
     "metadata": {},
     "output_type": "display_data"
    },
    {
     "name": "stdout",
     "output_type": "stream",
     "text": [
      "The autoreload extension is already loaded. To reload it, use:\n",
      "  %reload_ext autoreload\n"
     ]
    }
   ],
   "source": [
    "# Import Modules\n",
    "import os\n",
    "import sys\n",
    "from pathlib import Path\n",
    "import plotly.graph_objects as go\n",
    "\n",
    "from ipywidgets import interact\n",
    "\n",
    "# Ignore sklearn warnings\n",
    "def warn(*args, **kwargs):\n",
    "    pass\n",
    "import warnings\n",
    "warnings.warn = warn\n",
    "\n",
    "# Enable plotly offline plotting\n",
    "import plotly\n",
    "\n",
    "plotly.offline.init_notebook_mode(connected=True)\n",
    "\n",
    "# Init project path\n",
    "PROJECT_DIR = os.getcwd() + \"/../../\"\n",
    "sys.path.insert(0, PROJECT_DIR)\n",
    "%load_ext autoreload\n",
    "%autoreload 2"
   ]
  },
  {
   "cell_type": "code",
   "execution_count": 51,
   "metadata": {
    "ExecuteTime": {
     "end_time": "2019-10-31T09:18:29.643397Z",
     "start_time": "2019-10-31T09:18:08.939831Z"
    }
   },
   "outputs": [
    {
     "name": "stderr",
     "output_type": "stream",
     "text": [
      "2019-10-31 09:18:11,822 - INFO - [load data] done in 2.79 s\n",
      "2019-10-31 09:18:29,622 - INFO - [preprocessing] done in 17.8 s\n",
      "2019-10-31 09:18:29,637 - INFO - [rename non-ascii cols] done in 0.01 s\n"
     ]
    }
   ],
   "source": [
    "from src.exp.exp4_simple.step0_set_global_variables import *\n",
    "from src.exp.exp4_simple.step1_load_data import load_data\n",
    "from src.exp.exp4_simple.step2_preprocessing import preprocessing\n",
    "from src.exp.exp4_simple.step3_rename_non_ascii_cols import rename_non_ascii_cols\n",
    "\n",
    "# Step 1. Load train.csv, test.csv\n",
    "with timer(\"load data\"):\n",
    "    train_df, test_df = load_data(DATA_DIR=DATA_DIR)\n",
    "    original_train_df, original_test_df = load_data(DATA_DIR=DATA_DIR)\n",
    "\n",
    "# Step 2. Preprocessing\n",
    "with timer(\"preprocessing\"):\n",
    "    train_df = preprocessing(df=train_df)\n",
    "    test_df = preprocessing(df=test_df)\n",
    "\n",
    "# Step 3. Rename non-ascii columns as lightGBM doesn't support them.\n",
    "with timer(\"rename non-ascii cols\"):\n",
    "    train_df = rename_non_ascii_cols(df=train_df)"
   ]
  },
  {
   "cell_type": "code",
   "execution_count": 6,
   "metadata": {
    "ExecuteTime": {
     "end_time": "2019-10-31T08:44:18.131491Z",
     "start_time": "2019-10-31T08:44:18.079590Z"
    }
   },
   "outputs": [],
   "source": [
    "# LightGBM parameters\n",
    "lgb_params = {\n",
    "    \"task\": \"train\",\n",
    "    \"boosting_type\": \"gbdt\",\n",
    "    \"objective\": \"regression\",\n",
    "    \"metric\": {\"l2\"},\n",
    "    \"num_leaves\": 1000,\n",
    "    \"learning_rate\": 0.1,\n",
    "    \"feature_fraction\": 0.9,\n",
    "    \"bagging_fraction\": 0.8,\n",
    "    \"bagging_freq\": 20,\n",
    "    \"verbose\": -1,\n",
    "}\n",
    "\n",
    "# xgb parameters\n",
    "xgb_params = {\"objective\": \"reg:squarederror\", \"eval_metric\": \"rmse\"}"
   ]
  },
  {
   "cell_type": "code",
   "execution_count": 49,
   "metadata": {
    "ExecuteTime": {
     "end_time": "2019-10-31T09:17:52.943109Z",
     "start_time": "2019-10-31T09:17:15.443044Z"
    }
   },
   "outputs": [
    {
     "name": "stdout",
     "output_type": "stream",
     "text": [
      "---------------- linearRegression ----------------\n",
      "n_fold: 0 Score: 32927.17395126365\n",
      "n_fold: 1 Score: 24331.8640655277\n",
      "n_fold: 2 Score: 26734.197174381203\n",
      "n_fold: 3 Score: 22056.815322410202\n"
     ]
    },
    {
     "name": "stderr",
     "output_type": "stream",
     "text": [
      "2019-10-31 09:17:17,772 - INFO - [cv with linear regression] done in 2.25 s\n"
     ]
    },
    {
     "name": "stdout",
     "output_type": "stream",
     "text": [
      "n_fold: 4 Score: 25821.2029931744\n",
      "---------------- linearRegression  END ----------------\n",
      "\n",
      "---------------- xgboost ----------------\n",
      "n_fold: 0 Score: 24757.262606995544\n",
      "n_fold: 1 Score: 21314.254189367835\n",
      "n_fold: 2 Score: 28340.92489733778\n",
      "n_fold: 3 Score: 18449.231681568883\n"
     ]
    },
    {
     "name": "stderr",
     "output_type": "stream",
     "text": [
      "2019-10-31 09:17:39,172 - INFO - [cv with xgboost] done in 21.4 s\n"
     ]
    },
    {
     "name": "stdout",
     "output_type": "stream",
     "text": [
      "n_fold: 4 Score: 21694.853633174596\n",
      "---------------- xgboost  END ----------------\n",
      "\n",
      "---------------- lightgbm ----------------\n",
      "n_fold: 0 Score: 24623.181835665888\n",
      "n_fold: 1 Score: 23771.844037072842\n",
      "n_fold: 2 Score: 28239.62718834958\n",
      "n_fold: 3 Score: 19410.471720051122\n"
     ]
    },
    {
     "name": "stderr",
     "output_type": "stream",
     "text": [
      "2019-10-31 09:17:52,929 - INFO - [cv with lightgbm] done in 13.75 s\n"
     ]
    },
    {
     "name": "stdout",
     "output_type": "stream",
     "text": [
      "n_fold: 4 Score: 21273.068348048982\n",
      "---------------- lightgbm  END ----------------\n",
      "\n"
     ]
    }
   ],
   "source": [
    "# Step 4. Cross Validation\n",
    "from src.exp.exp4_simple.step4_cv import cross_validation\n",
    "with timer(\"cv with linear regression\"):\n",
    "    lr_result, scores = cross_validation(\n",
    "        train_df=train_df, model_name=\"linearRegression\", params=None\n",
    "    )\n",
    "with timer(\"cv with xgboost\"):\n",
    "    xgb_result, scores = cross_validation(\n",
    "        train_df=train_df, model_name=\"xgboost\", params=xgb_params\n",
    "    )\n",
    "with timer(\"cv with lightgbm\"):\n",
    "    lgb_result, scores = cross_validation(\n",
    "        train_df=train_df, model_name=\"lightgbm\", params=lgb_params\n",
    "    )"
   ]
  },
  {
   "cell_type": "code",
   "execution_count": 47,
   "metadata": {
    "ExecuteTime": {
     "end_time": "2019-10-31T09:15:53.373801Z",
     "start_time": "2019-10-31T09:15:52.143599Z"
    },
    "scrolled": false
   },
   "outputs": [
    {
     "data": {
      "application/vnd.jupyter.widget-view+json": {
       "model_id": "7b7065f606954d43bdb69eb8ec72e760",
       "version_major": 2,
       "version_minor": 0
      },
      "text/plain": [
       "interactive(children=(Dropdown(description='n_fold', options=(0, 1, 2, 3, 4), value=0), Output()), _dom_classe…"
      ]
     },
     "metadata": {},
     "output_type": "display_data"
    }
   ],
   "source": [
    "from src.exp.exp4_simple.step5_plot_result import plot_result\n",
    "@interact(n_fold=list(range(N_FOLDS)))\n",
    "def plot_results(n_fold):\n",
    "    plot_result(original_train_df, lr_result, n_fold, \"lr\")\n",
    "    plot_result(original_train_df, xgb_result, n_fold, \"xgb\")\n",
    "    plot_result(original_train_df, lgb_result, n_fold, \"lgb\")"
   ]
  },
  {
   "cell_type": "code",
   "execution_count": 62,
   "metadata": {
    "ExecuteTime": {
     "end_time": "2019-10-31T09:20:05.721115Z",
     "start_time": "2019-10-31T09:20:05.658586Z"
    }
   },
   "outputs": [],
   "source": [
    "result = lr_result\n",
    "n_fold = 0\n",
    "r = result[result.n_fold == n_fold].reset_index()\n",
    "df = original_train_df"
   ]
  },
  {
   "cell_type": "code",
   "execution_count": 64,
   "metadata": {
    "ExecuteTime": {
     "end_time": "2019-10-31T09:20:22.595032Z",
     "start_time": "2019-10-31T09:20:22.522131Z"
    }
   },
   "outputs": [
    {
     "data": {
      "text/html": [
       "<div>\n",
       "<style scoped>\n",
       "    .dataframe tbody tr th:only-of-type {\n",
       "        vertical-align: middle;\n",
       "    }\n",
       "\n",
       "    .dataframe tbody tr th {\n",
       "        vertical-align: top;\n",
       "    }\n",
       "\n",
       "    .dataframe thead th {\n",
       "        text-align: right;\n",
       "    }\n",
       "</style>\n",
       "<table border=\"1\" class=\"dataframe\">\n",
       "  <thead>\n",
       "    <tr style=\"text-align: right;\">\n",
       "      <th></th>\n",
       "      <th>level_0</th>\n",
       "      <th>index</th>\n",
       "      <th>predicted</th>\n",
       "      <th>real</th>\n",
       "      <th>difference</th>\n",
       "      <th>n_fold</th>\n",
       "    </tr>\n",
       "  </thead>\n",
       "  <tbody>\n",
       "    <tr>\n",
       "      <th>0</th>\n",
       "      <td>0</td>\n",
       "      <td>9</td>\n",
       "      <td>72084.331015</td>\n",
       "      <td>76000</td>\n",
       "      <td>-3915.668985</td>\n",
       "      <td>0</td>\n",
       "    </tr>\n",
       "    <tr>\n",
       "      <th>1</th>\n",
       "      <td>1</td>\n",
       "      <td>11</td>\n",
       "      <td>41542.853712</td>\n",
       "      <td>53000</td>\n",
       "      <td>-11457.146288</td>\n",
       "      <td>0</td>\n",
       "    </tr>\n",
       "    <tr>\n",
       "      <th>2</th>\n",
       "      <td>2</td>\n",
       "      <td>13</td>\n",
       "      <td>98447.381924</td>\n",
       "      <td>107000</td>\n",
       "      <td>-8552.618076</td>\n",
       "      <td>0</td>\n",
       "    </tr>\n",
       "    <tr>\n",
       "      <th>3</th>\n",
       "      <td>3</td>\n",
       "      <td>20</td>\n",
       "      <td>131216.597032</td>\n",
       "      <td>130000</td>\n",
       "      <td>1216.597032</td>\n",
       "      <td>0</td>\n",
       "    </tr>\n",
       "    <tr>\n",
       "      <th>4</th>\n",
       "      <td>4</td>\n",
       "      <td>22</td>\n",
       "      <td>293257.291918</td>\n",
       "      <td>346000</td>\n",
       "      <td>-52742.708082</td>\n",
       "      <td>0</td>\n",
       "    </tr>\n",
       "    <tr>\n",
       "      <th>...</th>\n",
       "      <td>...</td>\n",
       "      <td>...</td>\n",
       "      <td>...</td>\n",
       "      <td>...</td>\n",
       "      <td>...</td>\n",
       "      <td>...</td>\n",
       "    </tr>\n",
       "    <tr>\n",
       "      <th>6450</th>\n",
       "      <td>6450</td>\n",
       "      <td>31449</td>\n",
       "      <td>56390.261911</td>\n",
       "      <td>63000</td>\n",
       "      <td>-6609.738089</td>\n",
       "      <td>0</td>\n",
       "    </tr>\n",
       "    <tr>\n",
       "      <th>6451</th>\n",
       "      <td>6451</td>\n",
       "      <td>31450</td>\n",
       "      <td>100779.490585</td>\n",
       "      <td>137000</td>\n",
       "      <td>-36220.509415</td>\n",
       "      <td>0</td>\n",
       "    </tr>\n",
       "    <tr>\n",
       "      <th>6452</th>\n",
       "      <td>6452</td>\n",
       "      <td>31456</td>\n",
       "      <td>176118.936565</td>\n",
       "      <td>139000</td>\n",
       "      <td>37118.936565</td>\n",
       "      <td>0</td>\n",
       "    </tr>\n",
       "    <tr>\n",
       "      <th>6453</th>\n",
       "      <td>6453</td>\n",
       "      <td>31463</td>\n",
       "      <td>216059.985704</td>\n",
       "      <td>248000</td>\n",
       "      <td>-31940.014296</td>\n",
       "      <td>0</td>\n",
       "    </tr>\n",
       "    <tr>\n",
       "      <th>6454</th>\n",
       "      <td>6454</td>\n",
       "      <td>31468</td>\n",
       "      <td>88359.320522</td>\n",
       "      <td>98000</td>\n",
       "      <td>-9640.679478</td>\n",
       "      <td>0</td>\n",
       "    </tr>\n",
       "  </tbody>\n",
       "</table>\n",
       "<p>6455 rows × 6 columns</p>\n",
       "</div>"
      ],
      "text/plain": [
       "      level_0  index      predicted    real    difference  n_fold\n",
       "0           0      9   72084.331015   76000  -3915.668985       0\n",
       "1           1     11   41542.853712   53000 -11457.146288       0\n",
       "2           2     13   98447.381924  107000  -8552.618076       0\n",
       "3           3     20  131216.597032  130000   1216.597032       0\n",
       "4           4     22  293257.291918  346000 -52742.708082       0\n",
       "...       ...    ...            ...     ...           ...     ...\n",
       "6450     6450  31449   56390.261911   63000  -6609.738089       0\n",
       "6451     6451  31450  100779.490585  137000 -36220.509415       0\n",
       "6452     6452  31456  176118.936565  139000  37118.936565       0\n",
       "6453     6453  31463  216059.985704  248000 -31940.014296       0\n",
       "6454     6454  31468   88359.320522   98000  -9640.679478       0\n",
       "\n",
       "[6455 rows x 6 columns]"
      ]
     },
     "execution_count": 64,
     "metadata": {},
     "output_type": "execute_result"
    }
   ],
   "source": [
    "r"
   ]
  }
 ],
 "metadata": {
  "kernelspec": {
   "display_name": "Python 3",
   "language": "python",
   "name": "python3"
  },
  "toc": {
   "base_numbering": 1,
   "nav_menu": {},
   "number_sections": true,
   "sideBar": true,
   "skip_h1_title": false,
   "title_cell": "Table of Contents",
   "title_sidebar": "Contents",
   "toc_cell": false,
   "toc_position": {},
   "toc_section_display": true,
   "toc_window_display": false
  },
  "varInspector": {
   "cols": {
    "lenName": 16,
    "lenType": 16,
    "lenVar": 40
   },
   "kernels_config": {
    "python": {
     "delete_cmd_postfix": "",
     "delete_cmd_prefix": "del ",
     "library": "var_list.py",
     "varRefreshCmd": "print(var_dic_list())"
    },
    "r": {
     "delete_cmd_postfix": ") ",
     "delete_cmd_prefix": "rm(",
     "library": "var_list.r",
     "varRefreshCmd": "cat(var_dic_list()) "
    }
   },
   "position": {
    "height": "403.722px",
    "left": "948.023px",
    "right": "20px",
    "top": "56.9545px",
    "width": "344.162px"
   },
   "types_to_exclude": [
    "module",
    "function",
    "builtin_function_or_method",
    "instance",
    "_Feature"
   ],
   "window_display": false
  }
 },
 "nbformat": 4,
 "nbformat_minor": 2
}
