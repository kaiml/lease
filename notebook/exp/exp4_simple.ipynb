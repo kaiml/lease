{
 "cells": [
  {
   "cell_type": "code",
   "execution_count": null,
   "metadata": {},
   "outputs": [],
   "source": []
  },
  {
   "cell_type": "markdown",
   "metadata": {},
   "source": [
    "# Exp 4. Simple modeling with almost no pp/fe "
   ]
  },
  {
   "cell_type": "code",
   "execution_count": 8,
   "metadata": {
    "ExecuteTime": {
     "end_time": "2019-10-31T07:46:31.251103Z",
     "start_time": "2019-10-31T07:46:31.167278Z"
    },
    "code_folding": []
   },
   "outputs": [
    {
     "data": {
      "text/html": [
       "        <script type=\"text/javascript\">\n",
       "        window.PlotlyConfig = {MathJaxConfig: 'local'};\n",
       "        if (window.MathJax) {MathJax.Hub.Config({SVG: {font: \"STIX-Web\"}});}\n",
       "        if (typeof require !== 'undefined') {\n",
       "        require.undef(\"plotly\");\n",
       "        requirejs.config({\n",
       "            paths: {\n",
       "                'plotly': ['https://cdn.plot.ly/plotly-latest.min']\n",
       "            }\n",
       "        });\n",
       "        require(['plotly'], function(Plotly) {\n",
       "            window._Plotly = Plotly;\n",
       "        });\n",
       "        }\n",
       "        </script>\n",
       "        "
      ]
     },
     "metadata": {},
     "output_type": "display_data"
    },
    {
     "name": "stdout",
     "output_type": "stream",
     "text": [
      "The autoreload extension is already loaded. To reload it, use:\n",
      "  %reload_ext autoreload\n"
     ]
    }
   ],
   "source": [
    "# Import Modules\n",
    "import os\n",
    "import sys\n",
    "from pathlib import Path\n",
    "\n",
    "# enable plotly offline plotting\n",
    "import plotly\n",
    "\n",
    "plotly.offline.init_notebook_mode(connected=True)\n",
    "\n",
    "# Init project path\n",
    "PROJECT_DIR = os.getcwd() + \"/../../\"\n",
    "sys.path.insert(0, PROJECT_DIR)\n",
    "%load_ext autoreload\n",
    "%autoreload 2"
   ]
  },
  {
   "cell_type": "code",
   "execution_count": 9,
   "metadata": {
    "ExecuteTime": {
     "end_time": "2019-10-31T07:46:31.324693Z",
     "start_time": "2019-10-31T07:46:31.258101Z"
    }
   },
   "outputs": [],
   "source": [
    "# Step 1. Load global variables\n",
    "from src.exp.exp4_simple.step1_set_global_variables import *"
   ]
  },
  {
   "cell_type": "code",
   "execution_count": 16,
   "metadata": {
    "ExecuteTime": {
     "end_time": "2019-10-31T08:12:24.600532Z",
     "start_time": "2019-10-31T08:12:21.902371Z"
    }
   },
   "outputs": [],
   "source": [
    "# Step 2. Load train.csv, test.csv\n",
    "from src.exp.exp4_simple.step2_load_data import step2_load_data\n",
    "train_df, test_df = step2_load_data(DATA_DIR=DATA_DIR)\n",
    "original_train_df, original_test_df = step2_load_data(DATA_DIR=DATA_DIR)"
   ]
  },
  {
   "cell_type": "code",
   "execution_count": 11,
   "metadata": {
    "ExecuteTime": {
     "end_time": "2019-10-31T07:46:48.825687Z",
     "start_time": "2019-10-31T07:46:32.301767Z"
    }
   },
   "outputs": [],
   "source": [
    "# Step 3. Preprocessing\n",
    "from src.exp.exp4_simple.step3_preprocessing import step3_preprocessing\n",
    "train_df = step3_preprocessing(df=train_df)\n",
    "test_df = step3_preprocessing(df=test_df)"
   ]
  },
  {
   "cell_type": "code",
   "execution_count": 14,
   "metadata": {
    "ExecuteTime": {
     "end_time": "2019-10-31T08:09:00.123497Z",
     "start_time": "2019-10-31T08:08:39.429495Z"
    }
   },
   "outputs": [
    {
     "name": "stderr",
     "output_type": "stream",
     "text": [
      "/usr/local/lib/python3.7/dist-packages/sklearn/model_selection/_split.py:657: Warning:\n",
      "\n",
      "The least populated class in y has only 1 members, which is too few. The minimum number of members in any class cannot be less than n_splits=5.\n",
      "\n"
     ]
    },
    {
     "name": "stdout",
     "output_type": "stream",
     "text": [
      "No.0 Score: 24757.262606995544\n",
      "No.1 Score: 21314.254189367835\n",
      "No.2 Score: 28340.92489733778\n",
      "No.3 Score: 18449.231681568883\n",
      "No.4 Score: 21694.853633174596\n"
     ]
    }
   ],
   "source": [
    "# Step 4. Cross Validation\n",
    "from src.exp.exp4_simple.step4_cv import step4_cv\n",
    "result, scores = step4_cv(train_df=train_df)"
   ]
  },
  {
   "cell_type": "code",
   "execution_count": 15,
   "metadata": {
    "ExecuteTime": {
     "end_time": "2019-10-31T08:11:24.139881Z",
     "start_time": "2019-10-31T08:11:24.064944Z"
    }
   },
   "outputs": [
    {
     "data": {
      "text/html": [
       "<div>\n",
       "<style scoped>\n",
       "    .dataframe tbody tr th:only-of-type {\n",
       "        vertical-align: middle;\n",
       "    }\n",
       "\n",
       "    .dataframe tbody tr th {\n",
       "        vertical-align: top;\n",
       "    }\n",
       "\n",
       "    .dataframe thead th {\n",
       "        text-align: right;\n",
       "    }\n",
       "</style>\n",
       "<table border=\"1\" class=\"dataframe\">\n",
       "  <thead>\n",
       "    <tr style=\"text-align: right;\">\n",
       "      <th></th>\n",
       "      <th>index</th>\n",
       "      <th>predicted</th>\n",
       "      <th>real</th>\n",
       "      <th>difference</th>\n",
       "      <th>n_fold</th>\n",
       "    </tr>\n",
       "  </thead>\n",
       "  <tbody>\n",
       "    <tr>\n",
       "      <th>0</th>\n",
       "      <td>9</td>\n",
       "      <td>73553.101562</td>\n",
       "      <td>76000</td>\n",
       "      <td>-2446.898438</td>\n",
       "      <td>0</td>\n",
       "    </tr>\n",
       "    <tr>\n",
       "      <th>1</th>\n",
       "      <td>11</td>\n",
       "      <td>44811.765625</td>\n",
       "      <td>53000</td>\n",
       "      <td>-8188.234375</td>\n",
       "      <td>0</td>\n",
       "    </tr>\n",
       "    <tr>\n",
       "      <th>2</th>\n",
       "      <td>13</td>\n",
       "      <td>100720.789062</td>\n",
       "      <td>107000</td>\n",
       "      <td>-6279.210938</td>\n",
       "      <td>0</td>\n",
       "    </tr>\n",
       "    <tr>\n",
       "      <th>3</th>\n",
       "      <td>20</td>\n",
       "      <td>132330.890625</td>\n",
       "      <td>130000</td>\n",
       "      <td>2330.890625</td>\n",
       "      <td>0</td>\n",
       "    </tr>\n",
       "    <tr>\n",
       "      <th>4</th>\n",
       "      <td>22</td>\n",
       "      <td>257021.734375</td>\n",
       "      <td>346000</td>\n",
       "      <td>-88978.265625</td>\n",
       "      <td>0</td>\n",
       "    </tr>\n",
       "    <tr>\n",
       "      <th>...</th>\n",
       "      <td>...</td>\n",
       "      <td>...</td>\n",
       "      <td>...</td>\n",
       "      <td>...</td>\n",
       "      <td>...</td>\n",
       "    </tr>\n",
       "    <tr>\n",
       "      <th>6145</th>\n",
       "      <td>31442</td>\n",
       "      <td>69941.382812</td>\n",
       "      <td>66000</td>\n",
       "      <td>3941.382812</td>\n",
       "      <td>4</td>\n",
       "    </tr>\n",
       "    <tr>\n",
       "      <th>6146</th>\n",
       "      <td>31447</td>\n",
       "      <td>155292.640625</td>\n",
       "      <td>137500</td>\n",
       "      <td>17792.640625</td>\n",
       "      <td>4</td>\n",
       "    </tr>\n",
       "    <tr>\n",
       "      <th>6147</th>\n",
       "      <td>31453</td>\n",
       "      <td>47951.730469</td>\n",
       "      <td>47000</td>\n",
       "      <td>951.730469</td>\n",
       "      <td>4</td>\n",
       "    </tr>\n",
       "    <tr>\n",
       "      <th>6148</th>\n",
       "      <td>31455</td>\n",
       "      <td>81707.046875</td>\n",
       "      <td>80500</td>\n",
       "      <td>1207.046875</td>\n",
       "      <td>4</td>\n",
       "    </tr>\n",
       "    <tr>\n",
       "      <th>6149</th>\n",
       "      <td>31459</td>\n",
       "      <td>111047.835938</td>\n",
       "      <td>108000</td>\n",
       "      <td>3047.835938</td>\n",
       "      <td>4</td>\n",
       "    </tr>\n",
       "  </tbody>\n",
       "</table>\n",
       "<p>31470 rows × 5 columns</p>\n",
       "</div>"
      ],
      "text/plain": [
       "      index      predicted    real    difference  n_fold\n",
       "0         9   73553.101562   76000  -2446.898438       0\n",
       "1        11   44811.765625   53000  -8188.234375       0\n",
       "2        13  100720.789062  107000  -6279.210938       0\n",
       "3        20  132330.890625  130000   2330.890625       0\n",
       "4        22  257021.734375  346000 -88978.265625       0\n",
       "...     ...            ...     ...           ...     ...\n",
       "6145  31442   69941.382812   66000   3941.382812       4\n",
       "6146  31447  155292.640625  137500  17792.640625       4\n",
       "6147  31453   47951.730469   47000    951.730469       4\n",
       "6148  31455   81707.046875   80500   1207.046875       4\n",
       "6149  31459  111047.835938  108000   3047.835938       4\n",
       "\n",
       "[31470 rows x 5 columns]"
      ]
     },
     "execution_count": 15,
     "metadata": {},
     "output_type": "execute_result"
    }
   ],
   "source": [
    "result"
   ]
  }
 ],
 "metadata": {
  "kernelspec": {
   "display_name": "Python 3",
   "language": "python",
   "name": "python3"
  },
  "language_info": {
   "codemirror_mode": {
    "name": "ipython",
    "version": 3
   },
   "file_extension": ".py",
   "mimetype": "text/x-python",
   "name": "python",
   "nbconvert_exporter": "python",
   "pygments_lexer": "ipython3",
   "version": "3.7.4"
  },
  "toc": {
   "base_numbering": 1,
   "nav_menu": {},
   "number_sections": true,
   "sideBar": true,
   "skip_h1_title": false,
   "title_cell": "Table of Contents",
   "title_sidebar": "Contents",
   "toc_cell": false,
   "toc_position": {},
   "toc_section_display": true,
   "toc_window_display": false
  },
  "varInspector": {
   "cols": {
    "lenName": 16,
    "lenType": 16,
    "lenVar": 40
   },
   "kernels_config": {
    "python": {
     "delete_cmd_postfix": "",
     "delete_cmd_prefix": "del ",
     "library": "var_list.py",
     "varRefreshCmd": "print(var_dic_list())"
    },
    "r": {
     "delete_cmd_postfix": ") ",
     "delete_cmd_prefix": "rm(",
     "library": "var_list.r",
     "varRefreshCmd": "cat(var_dic_list()) "
    }
   },
   "position": {
    "height": "403.722px",
    "left": "948.037px",
    "right": "20px",
    "top": "74.9574px",
    "width": "344.162px"
   },
   "types_to_exclude": [
    "module",
    "function",
    "builtin_function_or_method",
    "instance",
    "_Feature"
   ],
   "window_display": true
  }
 },
 "nbformat": 4,
 "nbformat_minor": 2
}
