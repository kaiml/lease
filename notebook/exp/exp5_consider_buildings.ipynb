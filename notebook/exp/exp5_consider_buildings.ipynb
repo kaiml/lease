{
 "cells": [
  {
   "cell_type": "code",
   "execution_count": null,
   "metadata": {},
   "outputs": [],
   "source": []
  },
  {
   "cell_type": "markdown",
   "metadata": {},
   "source": [
    "# Exp 5. Target Encoding "
   ]
  },
  {
   "cell_type": "code",
   "execution_count": 1,
   "metadata": {
    "ExecuteTime": {
     "end_time": "2019-11-05T13:42:25.584897Z",
     "start_time": "2019-11-05T13:42:21.488650Z"
    },
    "code_folding": []
   },
   "outputs": [
    {
     "data": {
      "text/html": [
       "        <script type=\"text/javascript\">\n",
       "        window.PlotlyConfig = {MathJaxConfig: 'local'};\n",
       "        if (window.MathJax) {MathJax.Hub.Config({SVG: {font: \"STIX-Web\"}});}\n",
       "        if (typeof require !== 'undefined') {\n",
       "        require.undef(\"plotly\");\n",
       "        requirejs.config({\n",
       "            paths: {\n",
       "                'plotly': ['https://cdn.plot.ly/plotly-latest.min']\n",
       "            }\n",
       "        });\n",
       "        require(['plotly'], function(Plotly) {\n",
       "            window._Plotly = Plotly;\n",
       "        });\n",
       "        }\n",
       "        </script>\n",
       "        "
      ]
     },
     "metadata": {},
     "output_type": "display_data"
    },
    {
     "data": {
      "text/html": [
       "<style>.container { width:100% !important; }</style>"
      ],
      "text/plain": [
       "<IPython.core.display.HTML object>"
      ]
     },
     "metadata": {},
     "output_type": "display_data"
    }
   ],
   "source": [
    "# Import Modules\n",
    "import os\n",
    "import sys\n",
    "import warnings\n",
    "from pathlib import Path\n",
    "\n",
    "import numpy as np\n",
    "import pandas as pd\n",
    "# Enable plotly offline plotting\n",
    "import plotly\n",
    "import plotly.graph_objects as go\n",
    "import seaborn as sns\n",
    "from IPython.core.display import HTML, display\n",
    "from ipywidgets import interact\n",
    "\n",
    "\n",
    "# Ignore sklearn warnings\n",
    "def warn(*args, **kwargs):\n",
    "    pass\n",
    "\n",
    "\n",
    "warnings.warn = warn\n",
    "\n",
    "\n",
    "plotly.offline.init_notebook_mode(connected=True)\n",
    "\n",
    "# Init project path\n",
    "PROJECT_DIR = os.getcwd() + \"/../../\"\n",
    "sys.path.insert(0, PROJECT_DIR)\n",
    "%load_ext autoreload\n",
    "%autoreload 2\n",
    "\n",
    "display(HTML(\"<style>.container { width:100% !important; }</style>\"))"
   ]
  },
  {
   "cell_type": "code",
   "execution_count": 2,
   "metadata": {
    "ExecuteTime": {
     "end_time": "2019-11-05T13:42:25.631124Z",
     "start_time": "2019-11-05T13:42:25.588242Z"
    },
    "code_folding": [
     0
    ]
   },
   "outputs": [],
   "source": [
    "use_cols = [\n",
    "    \"target\",\n",
    "    \"target_address_1_mean\",\n",
    "    \"target_address_1_2_mean\",\n",
    "    \"target_station_1_mean\",\n",
    "    \"duration_1\",\n",
    "    \"ohe_bathroom_専用バス\",\n",
    "    \"ohe_bathroom_専用トイレ\",\n",
    "    \"ohe_bathroom_バス・トイレ別\",\n",
    "    \"ohe_bathroom_シャワー\",\n",
    "    \"ohe_bathroom_追焚機能\",\n",
    "    \"ohe_bathroom_温水洗浄便座\",\n",
    "    \"ohe_bathroom_洗面台独立\",\n",
    "    \"ohe_bathroom_脱衣所\",\n",
    "    \"ohe_bathroom_浴室乾燥機\",\n",
    "    \"ohe_bathroom_バスなし\",\n",
    "    \"ohe_bathroom_共同バス\",\n",
    "    \"ohe_bathroom_共同トイレ\",\n",
    "    \"ohe_equipment_エアコン付\",\n",
    "    \"ohe_equipment_シューズボックス\",\n",
    "    \"ohe_equipment_バルコニー\",\n",
    "    \"ohe_equipment_フローリング\",\n",
    "    \"ohe_equipment_エレベーター\",\n",
    "    \"ohe_equipment_公営水道\",\n",
    "    \"ohe_equipment_下水\",\n",
    "    \"ohe_equipment_都市ガス\",\n",
    "    \"ohe_equipment_室内洗濯機置場\",\n",
    "    \"ohe_equipment_2面採光\",\n",
    "    \"ohe_equipment_タイル張り\",\n",
    "    \"ohe_equipment_室外洗濯機置場\",\n",
    "    \"ohe_equipment_冷房\",\n",
    "    \"ohe_equipment_敷地内ごみ置き場\",\n",
    "    \"ohe_equipment_ロフト付き\",\n",
    "    \"ohe_equipment_3面採光\",\n",
    "    \"ohe_equipment_24時間換気システム\",\n",
    "    \"ohe_equipment_水道その他\",\n",
    "    \"ohe_equipment_プロパンガス\",\n",
    "    \"ohe_equipment_ウォークインクローゼット\",\n",
    "    \"ohe_equipment_トランクルーム\",\n",
    "    \"ohe_equipment_出窓\",\n",
    "    \"ohe_equipment_ペアガラス\",\n",
    "    \"ohe_equipment_専用庭\",\n",
    "    \"ohe_equipment_バリアフリー\",\n",
    "    \"ohe_equipment_床暖房\",\n",
    "    \"ohe_equipment_床下収納\",\n",
    "    \"ohe_equipment_クッションフロア\",\n",
    "    \"ohe_equipment_オール電化\",\n",
    "    \"ohe_equipment_二重サッシ\",\n",
    "    \"ohe_equipment_ルーフバルコニー\",\n",
    "    \"ohe_equipment_ガス暖房\",\n",
    "    \"ohe_equipment_ガスその他\",\n",
    "    \"ohe_equipment_洗濯機置場なし\",\n",
    "    \"ohe_equipment_防音室\",\n",
    "    \"ohe_equipment_排水その他\",\n",
    "    \"ohe_equipment_地下室\",\n",
    "    \"ohe_equipment_浄化槽\",\n",
    "    \"ohe_equipment_汲み取り\",\n",
    "    \"ohe_equipment_石油暖房\",\n",
    "    \"ohe_equipment_井戸\",\n",
    "    \"ohe_equipment_二世帯住宅\",\n",
    "    \"ohe_internet_インターネット対応\",\n",
    "    \"ohe_internet_CSアンテナ\",\n",
    "    \"ohe_internet_BSアンテナ\",\n",
    "    \"ohe_internet_インターネット使用料無料\",\n",
    "    \"ohe_internet_光ファイバー\",\n",
    "    \"ohe_internet_CATV\",\n",
    "    \"ohe_internet_高速インターネット\",\n",
    "    \"ohe_internet_有線放送\",\n",
    "    \"ohe_kitchen_ガスコンロ\",\n",
    "    \"ohe_kitchen_コンロ3口\",\n",
    "    \"ohe_kitchen_システムキッチン\",\n",
    "    \"ohe_kitchen_給湯\",\n",
    "    \"ohe_kitchen_L字キッチン\",\n",
    "    \"ohe_kitchen_コンロ2口\",\n",
    "    \"ohe_kitchen_コンロ設置可（口数不明）\",\n",
    "    \"ohe_kitchen_コンロ1口\",\n",
    "    \"ohe_kitchen_カウンターキッチン\",\n",
    "    \"ohe_kitchen_独立キッチン\",\n",
    "    \"ohe_kitchen_IHコンロ\",\n",
    "    \"ohe_kitchen_冷蔵庫あり\",\n",
    "    \"ohe_kitchen_コンロ設置可（コンロ1口）\",\n",
    "    \"ohe_kitchen_コンロ設置可（コンロ2口）\",\n",
    "    \"ohe_kitchen_電気コンロ\",\n",
    "    \"ohe_kitchen_コンロ設置可（コンロ3口）\",\n",
    "    \"ohe_kitchen_コンロ4口以上\",\n",
    "    \"ohe_kitchen_コンロ設置可（コンロ4口以上）\",\n",
    "    \"ohe_parking_駐車場\",\n",
    "    \"ohe_parking_駐輪場\",\n",
    "    \"ohe_direction_北\",\n",
    "    \"ohe_direction_北東\",\n",
    "    \"ohe_direction_北西\",\n",
    "    \"ohe_direction_南\",\n",
    "    \"ohe_direction_南東\",\n",
    "    \"ohe_direction_南西\",\n",
    "    \"ohe_direction_東\",\n",
    "    \"ohe_direction_西\",\n",
    "    \"ohe_layout_1DK\",\n",
    "    \"ohe_layout_1DK+S(納戸)\",\n",
    "    \"ohe_layout_1K\",\n",
    "    \"ohe_layout_1K+S(納戸)\",\n",
    "    \"ohe_layout_1LDK\",\n",
    "    \"ohe_layout_1LDK+S(納戸)\",\n",
    "    \"ohe_layout_1R\",\n",
    "    \"ohe_layout_2DK\",\n",
    "    \"ohe_layout_2DK+S(納戸)\",\n",
    "    \"ohe_layout_2K\",\n",
    "    \"ohe_layout_2K+S(納戸)\",\n",
    "    \"ohe_layout_2LDK\",\n",
    "    \"ohe_layout_2LDK+S(納戸)\",\n",
    "    \"ohe_layout_3DK\",\n",
    "    \"ohe_layout_3DK+S(納戸)\",\n",
    "    \"ohe_layout_3K\",\n",
    "    \"ohe_layout_3K+S(納戸)\",\n",
    "    \"ohe_layout_3LDK\",\n",
    "    \"ohe_layout_3LDK+S(納戸)\",\n",
    "    \"ohe_layout_4DK\",\n",
    "    \"ohe_layout_4K\",\n",
    "    \"ohe_layout_4LDK\",\n",
    "    \"ohe_layout_4LDK+S(納戸)\",\n",
    "    \"ohe_layout_5DK\",\n",
    "    \"ohe_layout_5DK+S(納戸)\",\n",
    "    \"ohe_layout_5K\",\n",
    "    \"ohe_layout_5LDK\",\n",
    "    \"ohe_layout_5LDK+S(納戸)\",\n",
    "    \"ohe_layout_6LDK\",\n",
    "    \"ohe_material_ALC（軽量気泡コンクリート）\",\n",
    "    \"ohe_material_HPC（プレキャスト・コンクリート（重量鉄骨））\",\n",
    "    \"ohe_material_PC（プレキャスト・コンクリート（鉄筋コンクリート））\",\n",
    "    \"ohe_material_RC（鉄筋コンクリート）\",\n",
    "    \"ohe_material_SRC（鉄骨鉄筋コンクリート）\",\n",
    "    \"ohe_material_その他\",\n",
    "    \"ohe_material_ブロック\",\n",
    "    \"ohe_material_木造\",\n",
    "    \"ohe_material_軽量鉄骨\",\n",
    "    \"ohe_material_鉄骨造\",\n",
    "    \"area\",\n",
    "    \"contract\",\n",
    "    \"age_year\",\n",
    "    \"is_bus_1\",\n",
    "]"
   ]
  },
  {
   "cell_type": "code",
   "execution_count": 43,
   "metadata": {
    "ExecuteTime": {
     "end_time": "2019-11-05T13:58:54.589087Z",
     "start_time": "2019-11-05T13:58:24.439164Z"
    }
   },
   "outputs": [
    {
     "name": "stderr",
     "output_type": "stream",
     "text": [
      "2019-11-05 13:58:28,720 - INFO - [load data] done in 4.11 s\n",
      "2019-11-05 13:58:46,704 - INFO - [preprocessing] done in 17.98 s\n",
      "2019-11-05 13:58:47,030 - INFO - [one hot encoding] done in 0.32 s\n",
      "2019-11-05 13:58:51,094 - INFO - [create dataframe for CV] done in 4.06 s\n",
      "2019-11-05 13:58:54,113 - INFO - [target encoding] done in 3.02 s\n",
      "2019-11-05 13:58:54,439 - INFO - [drop unused columns] done in 0.25 s\n",
      "2019-11-05 13:58:54,580 - INFO - [rename non-ascii cols] done in 0.14 s\n"
     ]
    }
   ],
   "source": [
    "from src.exp.common.setup import *\n",
    "from src.exp.common.load_data import load_data\n",
    "from src.exp.common.correct_invalid_data import correct_invalid_data\n",
    "from src.exp.common.preprocessing import preprocessing\n",
    "from src.exp.common.fill_missing_data import fill_missing_data\n",
    "from src.exp.common.one_hot_encoding import one_hot_encoding\n",
    "from src.exp.common.create_cv_df import create_cv_df\n",
    "from src.exp.common.target_encoding import target_encoding\n",
    "from src.exp.common.drop_unused_columns import drop_unused_columns\n",
    "from src.exp.common.rename_non_ascii_cols import rename_non_ascii_cols\n",
    "\n",
    "# Step 1. Load train.csv, test.csv\n",
    "with timer(\"load data\"):\n",
    "    train_df, test_df = load_data(DATA_DIR=DATA_DIR)\n",
    "    original_train_df, original_test_df = load_data(DATA_DIR=DATA_DIR)\n",
    "    train_df = correct_invalid_data(train_df)\n",
    "    original_train_df = correct_invalid_data(original_train_df)\n",
    "    \n",
    "# Step 2. Preprocessing\n",
    "with timer(\"preprocessing\"):\n",
    "    train_df = preprocessing(df=train_df)\n",
    "    test_df = preprocessing(df=test_df)\n",
    "    \n",
    "    # fill missing data\n",
    "    for col_name in [\"direction\", \"material\", \"layout\"]:\n",
    "        train_df = fill_missing_data(\n",
    "            df=train_df, col_name=col_name, method=\"most_frequent\"\n",
    "        )\n",
    "        test_df = fill_missing_data(\n",
    "            df=test_df, col_name=col_name, method=\"most_frequent\"\n",
    "        )\n",
    "\n",
    "# Step 3. Feature Engineering\n",
    "\n",
    "# Step 4. One-Hot Encoding\n",
    "with timer(\"one hot encoding\"):\n",
    "    for col_name in [\"direction\", \"layout\", \"material\"]:\n",
    "        train_df = one_hot_encoding(df=train_df, col_name=col_name)\n",
    "        test_df = one_hot_encoding(df=test_df, col_name=col_name)\n",
    "    \n",
    "# Step 5. Create dataframe for CV\n",
    "with timer(\"create dataframe for CV\"):\n",
    "    cv_df = create_cv_df(n_splits=N_FOLDS, random_state=SEED, train_df=train_df)\n",
    "\n",
    "# Step 6. Target Encoding\n",
    "with timer(\"target encoding\"):\n",
    "    col_names = [\"address_1\", \"address_1_2\", \"station_1\"]\n",
    "    methods = { \"mean\": np.mean }\n",
    "\n",
    "    cv_df_tmp = cv_df.copy()\n",
    "    cv_df = pd.DataFrame()\n",
    "    for n_fold in cv_df_tmp[\"n_fold\"].unique():\n",
    "        tr_df = cv_df_tmp.query(\"n_fold == {} and data_type == '{}'\".format(n_fold, \"train\"))\n",
    "        te_df = cv_df_tmp.query(\"n_fold == {} and data_type == '{}'\".format(n_fold, \"val\"))\n",
    "        for col_name in col_names:\n",
    "            tr_df, te_df = target_encoding(\n",
    "                tr_df=tr_df, te_df=te_df, col_name=col_name, methods=methods\n",
    "            )\n",
    "        cv_df = pd.concat([cv_df, tr_df, te_df])\n",
    "\n",
    "    for col_name in col_names:\n",
    "        train_df, test_df = target_encoding(\n",
    "            tr_df=train_df, te_df=test_df, col_name=col_name, methods=methods\n",
    "        )\n",
    "\n",
    "    def fill_target_nan(df=pd.DataFrame()):\n",
    "        df[\"target_address_1_2_mean\"] = df[\"target_address_1_2_mean\"].fillna(df[\"target_address_1_mean\"])\n",
    "        df[\"target_station_1_mean\"] = df[\"target_station_1_mean\"].fillna(df[\"target_address_1_mean\"])\n",
    "#         df[\"target_building_mean\"] = df[\"target_building_mean\"].fillna(df[\"target_address_1_2_mean\"])\n",
    "#         df[\"target_building_mean\"] = df[\"target_building_mean\"].fillna(df[\"target_address_1_mean\"])\n",
    "        return df\n",
    "    cv_df = fill_target_nan(cv_df)\n",
    "    train_df = fill_target_nan(train_df)\n",
    "    test_df = fill_target_nan(test_df)\n",
    "    \n",
    "train_df = train_df[use_cols]\n",
    "test_df = test_df[use_cols[1:]]\n",
    "    \n",
    "# Step 7. Drop unused columns\n",
    "with timer(\"drop unused columns\"):\n",
    "#     train_df = drop_unused_columns(df=train_df)\n",
    "#     test_df = drop_unused_columns(df=test_df)\n",
    "    cv_df = drop_unused_columns(df=cv_df)\n",
    "\n",
    "# Step 8. Rename non-ascii columns as lightGBM doesn't support them.\n",
    "with timer(\"rename non-ascii cols\"):\n",
    "    train_df = rename_non_ascii_cols(df=train_df)\n",
    "    test_df = rename_non_ascii_cols(df=test_df)\n",
    "    cv_df, rename_cols= rename_non_ascii_cols(df=cv_df)"
   ]
  },
  {
   "cell_type": "code",
   "execution_count": 4,
   "metadata": {
    "ExecuteTime": {
     "end_time": "2019-11-05T13:42:50.841210Z",
     "start_time": "2019-11-05T13:42:50.778785Z"
    }
   },
   "outputs": [],
   "source": [
    "# LightGBM parameters\n",
    "lgb_params = {\n",
    "    \"task\": \"train\",\n",
    "    \"boosting_type\": \"gbdt\",\n",
    "    \"objective\": \"regression\",\n",
    "    \"metric\": {\"l2\"},\n",
    "    \"num_leaves\": 5000,\n",
    "    \"learning_rate\": 0.1,\n",
    "    \"feature_fraction\": 0.9,\n",
    "    \"bagging_fraction\": 0.8,\n",
    "    \"bagging_freq\": 20,\n",
    "    \"verbose\": -1,\n",
    "}\n",
    "\n",
    "# xgb parameters\n",
    "xgb_params = {\n",
    "    \"eta\": 0.1,\n",
    "    \"max_depth\": 10,\n",
    "    \"gamma\": 0.1,\n",
    "    \"objective\": \"reg:squarederror\", \n",
    "    \"eval_metric\": \"rmse\"\n",
    "}"
   ]
  },
  {
   "cell_type": "code",
   "execution_count": 37,
   "metadata": {
    "ExecuteTime": {
     "end_time": "2019-11-05T13:55:47.435938Z",
     "start_time": "2019-11-05T13:54:47.064782Z"
    }
   },
   "outputs": [
    {
     "name": "stdout",
     "output_type": "stream",
     "text": [
      "---------------- linearRegression ----------------\n",
      "n_fold: 0 Score: 24204.406814096343\n",
      "n_fold: 1 Score: 25483.477744869924\n",
      "n_fold: 2 Score: 32998.60334824085\n",
      "n_fold: 3 Score: 69320.05774867587\n",
      "n_fold: 4 Score: 24142.687022008864\n",
      "---------------- linearRegression  END ----------------\n",
      "\n",
      "---------------- xgboost ----------------\n",
      "n_fold: 0 Score: 15681.055929085938\n",
      "n_fold: 1 Score: 14568.094672630716\n",
      "n_fold: 2 Score: 14738.773062612672\n",
      "n_fold: 3 Score: 22189.63507711768\n",
      "n_fold: 4 Score: 16224.962027074054\n",
      "---------------- xgboost  END ----------------\n",
      "\n",
      "---------------- lightgbm ----------------\n",
      "n_fold: 0 Score: 17728.63342248937\n",
      "n_fold: 1 Score: 16781.34795666189\n",
      "n_fold: 2 Score: 16188.905809549706\n",
      "n_fold: 3 Score: 22799.498901698706\n",
      "n_fold: 4 Score: 16415.262065999\n",
      "---------------- lightgbm  END ----------------\n",
      "\n"
     ]
    },
    {
     "name": "stderr",
     "output_type": "stream",
     "text": [
      "2019-11-05 13:55:47,413 - INFO - [cv with linear regression] done in 60.05 s\n"
     ]
    }
   ],
   "source": [
    "# Step 5. Cross Validation\n",
    "from src.exp.common.cv import cv\n",
    "\n",
    "with timer(\"cv with linear regression\"):\n",
    "    lr_result, scores, lr_models = cv(\n",
    "        cv_df=cv_df, model_name=\"linearRegression\", params=None\n",
    "    )\n",
    "\n",
    "    # xgb parameters\n",
    "    xgb_params = {\n",
    "        \"eta\": 0.1,\n",
    "        \"max_depth\": 10,\n",
    "        \"gamma\": 0.1,\n",
    "        \"objective\": \"reg:squarederror\", \n",
    "        \"eval_metric\": \"rmse\"\n",
    "    }\n",
    "    xgb_result, scores, xgb_models = cv(\n",
    "        cv_df=cv_df, model_name=\"xgboost\", params=xgb_params\n",
    "    )\n",
    "    \n",
    "    lgb_result, scores, lgb_models = cv(\n",
    "        cv_df=cv_df, model_name=\"lightgbm\", params=lgb_params\n",
    "    )\n",
    "    "
   ]
  },
  {
   "cell_type": "code",
   "execution_count": 11,
   "metadata": {
    "ExecuteTime": {
     "end_time": "2019-11-05T13:44:59.568553Z",
     "start_time": "2019-11-05T13:44:55.141614Z"
    },
    "scrolled": false
   },
   "outputs": [
    {
     "data": {
      "application/vnd.jupyter.widget-view+json": {
       "model_id": "b13098dfa7da4afa95646d0c53e6e105",
       "version_major": 2,
       "version_minor": 0
      },
      "text/plain": [
       "interactive(children=(Dropdown(description='n_fold', options=(0, 1, 2, 3, 4), value=0), Output()), _dom_classe…"
      ]
     },
     "metadata": {},
     "output_type": "display_data"
    }
   ],
   "source": [
    "from src.exp.common.plot_result import plot_result\n",
    "\n",
    "\n",
    "@interact(n_fold=list(range(N_FOLDS)))\n",
    "def plot_results(n_fold):\n",
    "    plot_result(original_train_df, lr_result, n_fold, \"lr\")\n",
    "    plot_result(original_train_df, xgb_result, n_fold, \"xgb\")\n",
    "    plot_result(original_train_df, lgb_result, n_fold, \"lgb\")"
   ]
  },
  {
   "cell_type": "code",
   "execution_count": 12,
   "metadata": {
    "ExecuteTime": {
     "end_time": "2019-11-05T13:44:59.806014Z",
     "start_time": "2019-11-05T13:44:59.574046Z"
    }
   },
   "outputs": [
    {
     "data": {
      "text/html": [
       "<div>\n",
       "<style scoped>\n",
       "    .dataframe tbody tr th:only-of-type {\n",
       "        vertical-align: middle;\n",
       "    }\n",
       "\n",
       "    .dataframe tbody tr th {\n",
       "        vertical-align: top;\n",
       "    }\n",
       "\n",
       "    .dataframe thead th {\n",
       "        text-align: right;\n",
       "    }\n",
       "</style>\n",
       "<table border=\"1\" class=\"dataframe\">\n",
       "  <thead>\n",
       "    <tr style=\"text-align: right;\">\n",
       "      <th></th>\n",
       "      <th>id</th>\n",
       "      <th>target</th>\n",
       "      <th>address</th>\n",
       "      <th>access</th>\n",
       "      <th>layout</th>\n",
       "      <th>age</th>\n",
       "      <th>direction</th>\n",
       "      <th>area</th>\n",
       "      <th>floor_stories</th>\n",
       "      <th>bathroom</th>\n",
       "      <th>kitchen</th>\n",
       "      <th>internet</th>\n",
       "      <th>equipment</th>\n",
       "      <th>parking</th>\n",
       "      <th>neighbor</th>\n",
       "      <th>material</th>\n",
       "      <th>contract</th>\n",
       "    </tr>\n",
       "  </thead>\n",
       "  <tbody>\n",
       "    <tr>\n",
       "      <th>1771</th>\n",
       "      <td>1772</td>\n",
       "      <td>1450000</td>\n",
       "      <td>東京都大田区田園調布３丁目</td>\n",
       "      <td>東急東横線\\t田園調布駅\\t徒歩5分\\t\\t東急目黒線\\t田園調布駅\\t徒歩5分</td>\n",
       "      <td>4LDK+S(納戸)</td>\n",
       "      <td>9年1ヶ月</td>\n",
       "      <td>南西</td>\n",
       "      <td>232.01m2</td>\n",
       "      <td>2階建</td>\n",
       "      <td>専用バス／\\t専用トイレ／\\tシャワー／\\t温水洗浄便座／\\t洗面台独立</td>\n",
       "      <td>ガスコンロ／\\tシステムキッチン\\t／\\t給湯</td>\n",
       "      <td>光ファイバー／\\tCATV</td>\n",
       "      <td>エアコン付\\tウォークインクローゼット\\tフローリング／\\t室内洗濯機置場</td>\n",
       "      <td>駐車場\\t空有</td>\n",
       "      <td>NaN</td>\n",
       "      <td>木造</td>\n",
       "      <td>4年間\\t※この物件は\\t定期借家\\tです。</td>\n",
       "    </tr>\n",
       "  </tbody>\n",
       "</table>\n",
       "</div>"
      ],
      "text/plain": [
       "        id   target        address                                    access  \\\n",
       "1771  1772  1450000  東京都大田区田園調布３丁目  東急東横線\\t田園調布駅\\t徒歩5分\\t\\t東急目黒線\\t田園調布駅\\t徒歩5分   \n",
       "\n",
       "          layout    age direction      area floor_stories  \\\n",
       "1771  4LDK+S(納戸)  9年1ヶ月        南西  232.01m2           2階建   \n",
       "\n",
       "                                  bathroom                  kitchen  \\\n",
       "1771  専用バス／\\t専用トイレ／\\tシャワー／\\t温水洗浄便座／\\t洗面台独立  ガスコンロ／\\tシステムキッチン\\t／\\t給湯   \n",
       "\n",
       "           internet                              equipment  parking neighbor  \\\n",
       "1771  光ファイバー／\\tCATV  エアコン付\\tウォークインクローゼット\\tフローリング／\\t室内洗濯機置場  駐車場\\t空有      NaN   \n",
       "\n",
       "     material                contract  \n",
       "1771       木造  4年間\\t※この物件は\\t定期借家\\tです。  "
      ]
     },
     "execution_count": 12,
     "metadata": {},
     "output_type": "execute_result"
    }
   ],
   "source": [
    "original_train_df.loc[[1771]]"
   ]
  },
  {
   "cell_type": "code",
   "execution_count": 8,
   "metadata": {
    "ExecuteTime": {
     "end_time": "2019-11-05T13:43:24.508508Z",
     "start_time": "2019-11-05T13:43:24.447634Z"
    }
   },
   "outputs": [
    {
     "data": {
      "text/html": [
       "<div>\n",
       "<style scoped>\n",
       "    .dataframe tbody tr th:only-of-type {\n",
       "        vertical-align: middle;\n",
       "    }\n",
       "\n",
       "    .dataframe tbody tr th {\n",
       "        vertical-align: top;\n",
       "    }\n",
       "\n",
       "    .dataframe thead th {\n",
       "        text-align: right;\n",
       "    }\n",
       "</style>\n",
       "<table border=\"1\" class=\"dataframe\">\n",
       "  <thead>\n",
       "    <tr style=\"text-align: right;\">\n",
       "      <th></th>\n",
       "      <th>target</th>\n",
       "      <th>target_address_1_mean</th>\n",
       "      <th>target_address_1_2_mean</th>\n",
       "      <th>target_station_1_mean</th>\n",
       "      <th>duration_1</th>\n",
       "      <th>ohe_bathroom_1</th>\n",
       "      <th>ohe_bathroom_2</th>\n",
       "      <th>ohe_bathroom_3</th>\n",
       "      <th>ohe_bathroom_4</th>\n",
       "      <th>ohe_bathroom_5</th>\n",
       "      <th>...</th>\n",
       "      <th>ohe_material_124</th>\n",
       "      <th>ohe_material_125</th>\n",
       "      <th>ohe_material_126</th>\n",
       "      <th>ohe_material_127</th>\n",
       "      <th>ohe_material_128</th>\n",
       "      <th>ohe_material_129</th>\n",
       "      <th>area</th>\n",
       "      <th>contract</th>\n",
       "      <th>age_year</th>\n",
       "      <th>is_bus_1</th>\n",
       "    </tr>\n",
       "  </thead>\n",
       "  <tbody>\n",
       "    <tr>\n",
       "      <th>1771</th>\n",
       "      <td>1450000</td>\n",
       "      <td>106981.675</td>\n",
       "      <td>162842.857143</td>\n",
       "      <td>152416.666667</td>\n",
       "      <td>5</td>\n",
       "      <td>1</td>\n",
       "      <td>1</td>\n",
       "      <td>0</td>\n",
       "      <td>1</td>\n",
       "      <td>0</td>\n",
       "      <td>...</td>\n",
       "      <td>0</td>\n",
       "      <td>0</td>\n",
       "      <td>0</td>\n",
       "      <td>1</td>\n",
       "      <td>0</td>\n",
       "      <td>0</td>\n",
       "      <td>232.01</td>\n",
       "      <td>4.0</td>\n",
       "      <td>9</td>\n",
       "      <td>0</td>\n",
       "    </tr>\n",
       "  </tbody>\n",
       "</table>\n",
       "<p>1 rows × 138 columns</p>\n",
       "</div>"
      ],
      "text/plain": [
       "       target  target_address_1_mean  target_address_1_2_mean  \\\n",
       "1771  1450000             106981.675            162842.857143   \n",
       "\n",
       "      target_station_1_mean  duration_1  ohe_bathroom_1  ohe_bathroom_2  \\\n",
       "1771          152416.666667           5               1               1   \n",
       "\n",
       "      ohe_bathroom_3  ohe_bathroom_4  ohe_bathroom_5  ...  ohe_material_124  \\\n",
       "1771               0               1               0  ...                 0   \n",
       "\n",
       "      ohe_material_125  ohe_material_126  ohe_material_127  ohe_material_128  \\\n",
       "1771                 0                 0                 1                 0   \n",
       "\n",
       "      ohe_material_129    area  contract  age_year  is_bus_1  \n",
       "1771                 0  232.01       4.0         9         0  \n",
       "\n",
       "[1 rows x 138 columns]"
      ]
     },
     "execution_count": 8,
     "metadata": {},
     "output_type": "execute_result"
    }
   ],
   "source": [
    "train_df.loc[[1771]]"
   ]
  },
  {
   "cell_type": "code",
   "execution_count": 9,
   "metadata": {
    "ExecuteTime": {
     "end_time": "2019-11-05T13:43:32.418903Z",
     "start_time": "2019-11-05T13:43:24.511217Z"
    },
    "scrolled": true
   },
   "outputs": [],
   "source": [
    "# train and predict\n",
    "from src.exp.common.train_and_predict import train_and_predict\n",
    "\n",
    "y_pred, model = train_and_predict( \n",
    "    train_x=train_df.drop([\"target\"], axis=1),\n",
    "    train_y=train_df[\"target\"].values,\n",
    "    val_x=test_df,\n",
    "    model_name=\"xgboost\",\n",
    "    params=xgb_params,\n",
    ")\n",
    "\n",
    "result_df = pd.DataFrame({\n",
    "    \"id\": test_df.reset_index()[\"index\"]+31471,\n",
    "    \"predicted\": y_pred\n",
    "})\n",
    "result_df.to_csv(\n",
    "    \"submission_{}_{}.csv\".format(pd.to_datetime(\"today\").strftime(\"%Y-%m-%d\"), 1),\n",
    "    header=False,\n",
    "    index=False,\n",
    ")"
   ]
  },
  {
   "cell_type": "code",
   "execution_count": null,
   "metadata": {},
   "outputs": [],
   "source": []
  }
 ],
 "metadata": {
  "kernelspec": {
   "display_name": "Python 3",
   "language": "python",
   "name": "python3"
  },
  "language_info": {
   "codemirror_mode": {
    "name": "ipython",
    "version": 3
   },
   "file_extension": ".py",
   "mimetype": "text/x-python",
   "name": "python",
   "nbconvert_exporter": "python",
   "pygments_lexer": "ipython3",
   "version": "3.7.4"
  },
  "toc": {
   "base_numbering": 1,
   "nav_menu": {},
   "number_sections": true,
   "sideBar": true,
   "skip_h1_title": false,
   "title_cell": "Table of Contents",
   "title_sidebar": "Contents",
   "toc_cell": false,
   "toc_position": {},
   "toc_section_display": true,
   "toc_window_display": false
  },
  "varInspector": {
   "cols": {
    "lenName": 16,
    "lenType": 16,
    "lenVar": 40
   },
   "kernels_config": {
    "python": {
     "delete_cmd_postfix": "",
     "delete_cmd_prefix": "del ",
     "library": "var_list.py",
     "varRefreshCmd": "print(var_dic_list())"
    },
    "r": {
     "delete_cmd_postfix": ") ",
     "delete_cmd_prefix": "rm(",
     "library": "var_list.r",
     "varRefreshCmd": "cat(var_dic_list()) "
    }
   },
   "position": {
    "height": "403.722px",
    "left": "948.023px",
    "right": "20px",
    "top": "56.9545px",
    "width": "344.162px"
   },
   "types_to_exclude": [
    "module",
    "function",
    "builtin_function_or_method",
    "instance",
    "_Feature"
   ],
   "window_display": false
  }
 },
 "nbformat": 4,
 "nbformat_minor": 2
}
