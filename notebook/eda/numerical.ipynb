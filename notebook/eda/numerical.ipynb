{
 "cells": [
  {
   "cell_type": "code",
   "execution_count": null,
   "metadata": {},
   "outputs": [],
   "source": []
  },
  {
   "cell_type": "markdown",
   "metadata": {},
   "source": [
    "## Basic EDA (Numerical Features)"
   ]
  },
  {
   "cell_type": "code",
   "execution_count": 46,
   "metadata": {
    "ExecuteTime": {
     "end_time": "2019-10-25T09:38:03.645713Z",
     "start_time": "2019-10-25T09:38:03.638455Z"
    }
   },
   "outputs": [
    {
     "data": {
      "text/html": [
       "<style>.container { width:88% !important; }</style>"
      ],
      "text/plain": [
       "<IPython.core.display.HTML object>"
      ]
     },
     "metadata": {},
     "output_type": "display_data"
    }
   ],
   "source": [
    "import sys\n",
    "from pathlib import Path\n",
    "\n",
    "import matplotlib\n",
    "import matplotlib.pyplot as plt\n",
    "import numpy as np\n",
    "import pandas as pd\n",
    "import seaborn as sns\n",
    "from IPython.core.display import HTML, display\n",
    "from tqdm import tqdm_notebook as tqdm\n",
    "\n",
    "PROJECT_DIR = \"/app\"\n",
    "INPUT_FILE_PATH = Path(\"../..\")\n",
    "sys.path.insert(0, PROJECT_DIR)\n",
    "\n",
    "display(HTML(\"<style>.container { width:88% !important; }</style>\"))"
   ]
  },
  {
   "cell_type": "code",
   "execution_count": 48,
   "metadata": {
    "ExecuteTime": {
     "end_time": "2019-10-25T09:39:17.606687Z",
     "start_time": "2019-10-25T09:39:17.600366Z"
    }
   },
   "outputs": [],
   "source": [
    "from src.preprocess.access import pp_access\n",
    "from src.preprocess.address import pp_address\n",
    "from src.preprocess.age import pp_age\n",
    "from src.preprocess.area import pp_area\n",
    "from src.preprocess.contract import pp_contract\n",
    "from src.preprocess.equipment import pp_equipment\n",
    "from src.preprocess.floor_stories import pp_floor_stories\n",
    "from src.preprocess.internet import pp_internet\n",
    "from src.preprocess.kitchen import pp_kitchen\n",
    "from src.preprocess.parking import pp_parking\n",
    "from src.preprocess.read_file import read_file"
   ]
  },
  {
   "cell_type": "code",
   "execution_count": 50,
   "metadata": {
    "ExecuteTime": {
     "end_time": "2019-10-25T09:39:50.646067Z",
     "start_time": "2019-10-25T09:39:49.635528Z"
    }
   },
   "outputs": [],
   "source": [
    "train_df, test_df = read_file()\n",
    "df = pd.concat([train_df, test_df], axis=0, sort=True)"
   ]
  },
  {
   "cell_type": "markdown",
   "metadata": {},
   "source": [
    "## target : 賃料"
   ]
  },
  {
   "cell_type": "code",
   "execution_count": 51,
   "metadata": {
    "ExecuteTime": {
     "end_time": "2019-10-25T09:39:54.825929Z",
     "start_time": "2019-10-25T09:39:54.383389Z"
    }
   },
   "outputs": [
    {
     "data": {
      "text/plain": [
       "<matplotlib.axes._subplots.AxesSubplot at 0x7fa924b6ec90>"
      ]
     },
     "execution_count": 51,
     "metadata": {},
     "output_type": "execute_result"
    },
    {
     "data": {
      "image/png": "[encoded data removed]",
      "text/plain": [
       "<Figure size 432x288 with 1 Axes>"
      ]
     },
     "metadata": {
      "needs_background": "light"
     },
     "output_type": "display_data"
    }
   ],
   "source": [
    "sns.distplot(train_df[\"target\"])"
   ]
  },
  {
   "cell_type": "code",
   "execution_count": 52,
   "metadata": {
    "ExecuteTime": {
     "end_time": "2019-10-25T09:39:55.382327Z",
     "start_time": "2019-10-25T09:39:55.343547Z"
    },
    "scrolled": true
   },
   "outputs": [
    {
     "data": {
      "text/html": [
       "<div>\n",
       "<style scoped>\n",
       "    .dataframe tbody tr th:only-of-type {\n",
       "        vertical-align: middle;\n",
       "    }\n",
       "\n",
       "    .dataframe tbody tr th {\n",
       "        vertical-align: top;\n",
       "    }\n",
       "\n",
       "    .dataframe thead th {\n",
       "        text-align: right;\n",
       "    }\n",
       "</style>\n",
       "<table border=\"1\" class=\"dataframe\">\n",
       "  <thead>\n",
       "    <tr style=\"text-align: right;\">\n",
       "      <th></th>\n",
       "      <th>id</th>\n",
       "      <th>target</th>\n",
       "      <th>address</th>\n",
       "      <th>access</th>\n",
       "      <th>layout</th>\n",
       "      <th>age</th>\n",
       "      <th>direction</th>\n",
       "      <th>area</th>\n",
       "      <th>floor_stories</th>\n",
       "      <th>bathroom</th>\n",
       "      <th>kitchen</th>\n",
       "      <th>internet</th>\n",
       "      <th>equipment</th>\n",
       "      <th>parking</th>\n",
       "      <th>neighbor</th>\n",
       "      <th>material</th>\n",
       "      <th>contract</th>\n",
       "    </tr>\n",
       "  </thead>\n",
       "  <tbody>\n",
       "    <tr>\n",
       "      <th>1501</th>\n",
       "      <td>1502</td>\n",
       "      <td>1200000</td>\n",
       "      <td>東京都港区元麻布３丁目</td>\n",
       "      <td>南北線\\t麻布十番駅\\t徒歩9分\\t\\t都営大江戸線\\t六本木駅\\t徒歩9分\\t\\t東京メト...</td>\n",
       "      <td>3LDK</td>\n",
       "      <td>18年6ヶ月</td>\n",
       "      <td>南東</td>\n",
       "      <td>163.62m2</td>\n",
       "      <td>3階／3階建</td>\n",
       "      <td>専用バス／\\t専用トイレ／\\tバス・トイレ別／\\tシャワー／\\t追焚機能／\\t浴室乾燥機\\t...</td>\n",
       "      <td>ガスコンロ／\\tシステムキッチン\\t／\\t給湯</td>\n",
       "      <td>光ファイバー／\\tCATV／\\tCSアンテナ／\\tBSアンテナ</td>\n",
       "      <td>エアコン付\\tウォークインクローゼット\\tシューズボックス／\\tバルコニー／\\tフローリング...</td>\n",
       "      <td>駐車場\\t空有\\t57,000円(税込)</td>\n",
       "      <td>NaN</td>\n",
       "      <td>RC（鉄筋コンクリート）</td>\n",
       "      <td>5年間\\t※この物件は\\t定期借家\\tです。</td>\n",
       "    </tr>\n",
       "    <tr>\n",
       "      <th>1771</th>\n",
       "      <td>1772</td>\n",
       "      <td>1450000</td>\n",
       "      <td>東京都大田区田園調布３丁目</td>\n",
       "      <td>東急東横線\\t田園調布駅\\t徒歩5分\\t\\t東急目黒線\\t田園調布駅\\t徒歩5分</td>\n",
       "      <td>4LDK+S(納戸)</td>\n",
       "      <td>9年1ヶ月</td>\n",
       "      <td>南西</td>\n",
       "      <td>232.01m2</td>\n",
       "      <td>2階建</td>\n",
       "      <td>専用バス／\\t専用トイレ／\\tシャワー／\\t温水洗浄便座／\\t洗面台独立</td>\n",
       "      <td>ガスコンロ／\\tシステムキッチン\\t／\\t給湯</td>\n",
       "      <td>光ファイバー／\\tCATV</td>\n",
       "      <td>エアコン付\\tウォークインクローゼット\\tフローリング／\\t室内洗濯機置場</td>\n",
       "      <td>駐車場\\t空有</td>\n",
       "      <td>NaN</td>\n",
       "      <td>木造</td>\n",
       "      <td>4年間\\t※この物件は\\t定期借家\\tです。</td>\n",
       "    </tr>\n",
       "    <tr>\n",
       "      <th>5093</th>\n",
       "      <td>5094</td>\n",
       "      <td>2500000</td>\n",
       "      <td>東京都港区三田２丁目4-3</td>\n",
       "      <td>南北線\\t麻布十番駅\\t徒歩8分\\t\\t都営大江戸線\\t赤羽橋駅\\t徒歩9分\\t\\t山手線\\...</td>\n",
       "      <td>2LDK+S(納戸)</td>\n",
       "      <td>1年8ヶ月</td>\n",
       "      <td>西</td>\n",
       "      <td>217.29m2</td>\n",
       "      <td>9階／9階建（地下2階）</td>\n",
       "      <td>専用バス／\\t専用トイレ／\\tバス・トイレ別／\\tシャワー／\\t追焚機能／\\t浴室乾燥機\\t...</td>\n",
       "      <td>IHコンロ\\t／\\tコンロ3口／\\tシステムキッチン\\t／\\tカウンターキッチン\\t／\\tL...</td>\n",
       "      <td>インターネット対応</td>\n",
       "      <td>エアコン付／\\t床暖房\\tウォークインクローゼット\\tシューズボックス／\\tバルコニー／\\t...</td>\n",
       "      <td>駐車場\\t空有(43台)\\t48,600円</td>\n",
       "      <td>【飲食店】 959m\\t【飲食店】 611m\\t【スーパー】 417m\\t【スーパー】 65...</td>\n",
       "      <td>RC（鉄筋コンクリート）</td>\n",
       "      <td>3年間\\t※この物件は\\t定期借家\\tです。</td>\n",
       "    </tr>\n",
       "    <tr>\n",
       "      <th>5775</th>\n",
       "      <td>5776</td>\n",
       "      <td>1203500</td>\n",
       "      <td>東京都港区新橋４丁目</td>\n",
       "      <td>山手線\\t新橋駅\\t徒歩2分\\t\\t都営大江戸線\\t汐留駅\\t徒歩2分</td>\n",
       "      <td>1K</td>\n",
       "      <td>12年5ヶ月</td>\n",
       "      <td>北西</td>\n",
       "      <td>20.53m2</td>\n",
       "      <td>10階／15階建</td>\n",
       "      <td>専用バス／\\t専用トイレ／\\tバス・トイレ別／\\tシャワー／\\t浴室乾燥機\\t／\\t温水洗浄便座</td>\n",
       "      <td>ガスコンロ／\\tコンロ2口／\\tシステムキッチン\\t／\\t給湯</td>\n",
       "      <td>インターネット対応／\\t光ファイバー／\\tCATV／\\tインターネット使用料無料</td>\n",
       "      <td>エアコン付\\tシューズボックス／\\tバルコニー／\\tフローリング／\\t24時間換気システム\\...</td>\n",
       "      <td>駐輪場\\t空有\\t駐車場\\t無\\tバイク置き場\\t無</td>\n",
       "      <td>【スーパー】 432m\\t【スーパー】 570m\\t【コンビニ】 43m\\t【コンビニ】 2...</td>\n",
       "      <td>RC（鉄筋コンクリート）</td>\n",
       "      <td>2年間</td>\n",
       "    </tr>\n",
       "    <tr>\n",
       "      <th>8706</th>\n",
       "      <td>8707</td>\n",
       "      <td>1390000</td>\n",
       "      <td>東京都港区虎ノ門５丁目11-1</td>\n",
       "      <td>日比谷線\\t神谷町駅\\t徒歩1分\\t\\t南北線\\t六本木一丁目駅\\t徒歩10分\\t\\t都営三...</td>\n",
       "      <td>2LDK</td>\n",
       "      <td>14年10ヶ月</td>\n",
       "      <td>東</td>\n",
       "      <td>138.99m2</td>\n",
       "      <td>7階／24階建</td>\n",
       "      <td>専用バス／\\t専用トイレ／\\tシャワー／\\t追焚機能／\\t浴室乾燥機\\t／\\t温水洗浄便座／...</td>\n",
       "      <td>ガスコンロ／\\tコンロ3口／\\tシステムキッチン\\t／\\t給湯／\\t独立キッチン</td>\n",
       "      <td>インターネット対応／\\tCATV／\\tCSアンテナ／\\tBSアンテナ</td>\n",
       "      <td>エアコン付\\tトランクルーム\\t／\\tウォークインクローゼット\\tバルコニー／\\t24時間換...</td>\n",
       "      <td>駐車場\\t空有\\t54,000円(税込)\\t駐輪場\\t空有\\tバイク置き場\\t無</td>\n",
       "      <td>【スーパー】 558m\\t【スーパー】 535m\\t【コンビニ】 330m\\t【コンビニ】 ...</td>\n",
       "      <td>鉄骨造</td>\n",
       "      <td>3年間\\t※この物件は\\t定期借家\\tです。</td>\n",
       "    </tr>\n",
       "    <tr>\n",
       "      <th>9008</th>\n",
       "      <td>9009</td>\n",
       "      <td>1300000</td>\n",
       "      <td>東京都港区麻布台３丁目4-24</td>\n",
       "      <td>都営大江戸線\\t麻布十番駅\\t徒歩7分\\t\\t南北線\\t六本木一丁目駅\\t徒歩8分\\t\\t日...</td>\n",
       "      <td>3LDK+S(納戸)</td>\n",
       "      <td>30年5ヶ月</td>\n",
       "      <td>南</td>\n",
       "      <td>223.71m2</td>\n",
       "      <td>3階建</td>\n",
       "      <td>専用バス／\\t専用トイレ／\\tバス・トイレ別／\\t追焚機能／\\t浴室乾燥機\\t／\\t洗面台独...</td>\n",
       "      <td>ガスコンロ／\\tコンロ3口／\\tシステムキッチン\\t／\\tL字キッチン</td>\n",
       "      <td>NaN</td>\n",
       "      <td>エアコン付\\tウォークインクローゼット\\tシューズボックス／\\tバルコニー／\\tフローリング...</td>\n",
       "      <td>駐車場\\t空有\\t0円\\t駐輪場\\t空有\\tバイク置き場\\t空有</td>\n",
       "      <td>【スーパー】 538m\\t【コンビニ】 390m\\t【コンビニ】 454m\\t【スーパー】 ...</td>\n",
       "      <td>木造</td>\n",
       "      <td>3年間\\t※この物件は\\t定期借家\\tです。</td>\n",
       "    </tr>\n",
       "    <tr>\n",
       "      <th>11367</th>\n",
       "      <td>11368</td>\n",
       "      <td>1100000</td>\n",
       "      <td>東京都新宿区新宿６丁目</td>\n",
       "      <td>都営大江戸線\\t東新宿駅\\t徒歩2分\\t\\t都営新宿線\\t新宿三丁目駅\\t徒歩10分\\t\\t...</td>\n",
       "      <td>2LDK</td>\n",
       "      <td>25年1ヶ月</td>\n",
       "      <td>南東</td>\n",
       "      <td>192.43m2</td>\n",
       "      <td>9階／10階建（地下1階）</td>\n",
       "      <td>バス・トイレ別／\\tシャワー／\\t追焚機能／\\t温水洗浄便座／\\t洗面台独立／\\t脱衣所</td>\n",
       "      <td>ガスコンロ／\\tコンロ3口／\\t給湯</td>\n",
       "      <td>インターネット対応／\\t光ファイバー</td>\n",
       "      <td>エアコン付\\tロフト付き／\\tバルコニー／\\tフローリング／\\t2面採光／\\t室内洗濯機置場...</td>\n",
       "      <td>駐車場\\t空有\\t43,200円</td>\n",
       "      <td>【スーパー】 170m\\t【スーパー】 502m\\t【コンビニ】 14m\\t【コンビニ】 1...</td>\n",
       "      <td>SRC（鉄骨鉄筋コンクリート）</td>\n",
       "      <td>2年間</td>\n",
       "    </tr>\n",
       "    <tr>\n",
       "      <th>11958</th>\n",
       "      <td>11959</td>\n",
       "      <td>1120000</td>\n",
       "      <td>東京都渋谷区広尾１丁目</td>\n",
       "      <td>山手線\\t恵比寿駅\\t徒歩6分\\t\\t日比谷線\\t広尾駅\\t徒歩13分\\t\\t東急東横線\\t...</td>\n",
       "      <td>4LDK</td>\n",
       "      <td>22年7ヶ月</td>\n",
       "      <td>南</td>\n",
       "      <td>221.3m2</td>\n",
       "      <td>11階／13階建</td>\n",
       "      <td>専用バス／\\t専用トイレ／\\tシャワー／\\t浴室乾燥機\\t／\\t温水洗浄便座／\\t洗面台独立...</td>\n",
       "      <td>ガスコンロ／\\tコンロ4口以上／\\tシステムキッチン\\t／\\t給湯／\\t独立キッチン</td>\n",
       "      <td>インターネット対応／\\t光ファイバー／\\tCATV</td>\n",
       "      <td>エアコン付\\tトランクルーム\\t／\\tウォークインクローゼット\\tシューズボックス／\\tバル...</td>\n",
       "      <td>駐輪場\\t空有\\t駐車場\\t無\\tバイク置き場\\t無</td>\n",
       "      <td>【スーパー】 729m\\t【コンビニ】 177m\\t【スーパー】 363m\\t【病院】 727m</td>\n",
       "      <td>RC（鉄筋コンクリート）</td>\n",
       "      <td>3年間\\t※この物件は\\t定期借家\\tです。</td>\n",
       "    </tr>\n",
       "    <tr>\n",
       "      <th>15417</th>\n",
       "      <td>15418</td>\n",
       "      <td>1300000</td>\n",
       "      <td>東京都港区南麻布１丁目16-2</td>\n",
       "      <td>南北線\\t麻布十番駅\\t徒歩7分\\t\\t南北線\\t白金高輪駅\\t徒歩16分\\t\\t都営大江戸...</td>\n",
       "      <td>2LDK</td>\n",
       "      <td>5年1ヶ月</td>\n",
       "      <td>北</td>\n",
       "      <td>125m2</td>\n",
       "      <td>7階／7階建</td>\n",
       "      <td>専用バス／\\t専用トイレ／\\tバス・トイレ別／\\tシャワー／\\t追焚機能／\\t浴室乾燥機\\t...</td>\n",
       "      <td>ガスコンロ／\\tコンロ3口／\\tシステムキッチン\\t／\\t給湯／\\t独立キッチン／\\tL字キッチン</td>\n",
       "      <td>インターネット対応／\\t光ファイバー</td>\n",
       "      <td>エアコン付\\tウォークインクローゼット\\tシューズボックス／\\tロフト付き／\\tバルコニー／...</td>\n",
       "      <td>駐車場\\t空有\\t54,000円(税込)\\t駐輪場\\t空有\\tバイク置き場\\t無</td>\n",
       "      <td>【スーパー】 217m\\t【スーパー】 541m\\t【コンビニ】 256m\\t【コンビニ】 ...</td>\n",
       "      <td>RC（鉄筋コンクリート）</td>\n",
       "      <td>2年間\\t※この物件は\\t定期借家\\tです。</td>\n",
       "    </tr>\n",
       "    <tr>\n",
       "      <th>16847</th>\n",
       "      <td>16848</td>\n",
       "      <td>1120000</td>\n",
       "      <td>東京都渋谷区広尾１丁目1-7</td>\n",
       "      <td>山手線\\t恵比寿駅\\t徒歩6分\\t\\t日比谷線\\t広尾駅\\t徒歩14分\\t\\t東急東横線\\t...</td>\n",
       "      <td>4LDK</td>\n",
       "      <td>22年7ヶ月</td>\n",
       "      <td>東</td>\n",
       "      <td>221.3m2</td>\n",
       "      <td>11階／13階建（地下2階）</td>\n",
       "      <td>専用バス／\\t専用トイレ／\\tバス・トイレ別／\\tシャワー／\\t追焚機能／\\t温水洗浄便座／...</td>\n",
       "      <td>コンロ4口以上／\\tシステムキッチン\\t／\\t給湯</td>\n",
       "      <td>光ファイバー／\\tCATV</td>\n",
       "      <td>冷房／\\tエアコン付\\tシューズボックス／\\tバルコニー／\\tフローリング／\\t24時間換気...</td>\n",
       "      <td>駐車場\\t空有\\t64,800円\\t(※サイズ・空き要確認)</td>\n",
       "      <td>【デパート】 964m\\t【スーパー】 752m\\t【スーパー】 989m\\t【スーパー】 ...</td>\n",
       "      <td>RC（鉄筋コンクリート）</td>\n",
       "      <td>3年間\\t※この物件は\\t定期借家\\tです。</td>\n",
       "    </tr>\n",
       "    <tr>\n",
       "      <th>17324</th>\n",
       "      <td>17325</td>\n",
       "      <td>1100000</td>\n",
       "      <td>東京都港区南麻布５丁目</td>\n",
       "      <td>日比谷線\\t広尾駅\\t徒歩5分</td>\n",
       "      <td>4LDK</td>\n",
       "      <td>7年0ヶ月</td>\n",
       "      <td>北東</td>\n",
       "      <td>171.43m2</td>\n",
       "      <td>3階／4階建（地下1階）</td>\n",
       "      <td>専用バス／\\t専用トイレ／\\tバス・トイレ別／\\tシャワー／\\t追焚機能／\\t浴室乾燥機\\t...</td>\n",
       "      <td>IHコンロ\\t／\\tシステムキッチン\\t／\\t給湯</td>\n",
       "      <td>光ファイバー／\\tCATV／\\tCSアンテナ／\\tBSアンテナ</td>\n",
       "      <td>エアコン付\\tトランクルーム\\t／\\tウォークインクローゼット\\tシューズボックス／\\tバル...</td>\n",
       "      <td>駐車場\\t空有\\t50,000円(税込)</td>\n",
       "      <td>【コンビニ】 400m\\t【スーパー】 340m\\t【公園】 120m\\t【銀行】 420m</td>\n",
       "      <td>RC（鉄筋コンクリート）</td>\n",
       "      <td>5年間\\t※この物件は\\t定期借家\\tです。</td>\n",
       "    </tr>\n",
       "    <tr>\n",
       "      <th>20024</th>\n",
       "      <td>20025</td>\n",
       "      <td>1100000</td>\n",
       "      <td>東京都港区赤坂８丁目11-38</td>\n",
       "      <td>千代田線\\t乃木坂駅\\t徒歩2分\\t\\t日比谷線\\t六本木駅\\t徒歩8分\\t\\t銀座線\\t青...</td>\n",
       "      <td>3LDK</td>\n",
       "      <td>9年0ヶ月</td>\n",
       "      <td>南西</td>\n",
       "      <td>176.87m2</td>\n",
       "      <td>25階／25階建（地下1階）</td>\n",
       "      <td>専用バス／\\t専用トイレ／\\tバス・トイレ別／\\tシャワー／\\t追焚機能／\\t浴室乾燥機\\t...</td>\n",
       "      <td>ガスコンロ／\\tコンロ3口／\\tシステムキッチン\\t／\\tカウンターキッチン</td>\n",
       "      <td>光ファイバー／\\tBSアンテナ</td>\n",
       "      <td>冷房／\\tエアコン付／\\t床暖房\\tウォークインクローゼット\\tシューズボックス／\\tバルコ...</td>\n",
       "      <td>駐車場\\t空有\\t48,000円\\t(月額48000円～50000円)</td>\n",
       "      <td>【小学校】 1027m\\t【スーパー】 1072m\\t【スーパー】 1159m\\t【レンタル...</td>\n",
       "      <td>RC（鉄筋コンクリート）</td>\n",
       "      <td>4年間\\t※この物件は\\t定期借家\\tです。</td>\n",
       "    </tr>\n",
       "    <tr>\n",
       "      <th>20643</th>\n",
       "      <td>20644</td>\n",
       "      <td>1800000</td>\n",
       "      <td>東京都港区三田２丁目4-3</td>\n",
       "      <td>南北線\\t麻布十番駅\\t徒歩8分\\t\\t都営大江戸線\\t赤羽橋駅\\t徒歩9分\\t\\t山手線\\...</td>\n",
       "      <td>2LDK+S(納戸)</td>\n",
       "      <td>1年8ヶ月</td>\n",
       "      <td>南</td>\n",
       "      <td>151.81m2</td>\n",
       "      <td>5階／9階建（地下2階）</td>\n",
       "      <td>専用バス／\\t専用トイレ／\\tバス・トイレ別／\\tシャワー／\\t追焚機能／\\t浴室乾燥機\\t...</td>\n",
       "      <td>IHコンロ\\t／\\tコンロ3口／\\tシステムキッチン\\t／\\tカウンターキッチン</td>\n",
       "      <td>インターネット対応</td>\n",
       "      <td>エアコン付／\\t床暖房\\tウォークインクローゼット\\tシューズボックス／\\tバルコニー／\\t...</td>\n",
       "      <td>駐車場\\t空有(43台)\\t48,600円</td>\n",
       "      <td>【飲食店】 959m\\t【飲食店】 611m\\t【スーパー】 417m\\t【スーパー】 65...</td>\n",
       "      <td>RC（鉄筋コンクリート）</td>\n",
       "      <td>3年間\\t※この物件は\\t定期借家\\tです。</td>\n",
       "    </tr>\n",
       "    <tr>\n",
       "      <th>20989</th>\n",
       "      <td>20990</td>\n",
       "      <td>1300000</td>\n",
       "      <td>東京都港区南麻布４丁目</td>\n",
       "      <td>日比谷線\\t広尾駅\\t徒歩8分\\t\\t南北線\\t麻布十番駅\\t徒歩18分\\t\\t山手線恵比寿...</td>\n",
       "      <td>3LDK</td>\n",
       "      <td>14年9ヶ月</td>\n",
       "      <td>北東</td>\n",
       "      <td>167.99m2</td>\n",
       "      <td>1階／8階建（地下1階）</td>\n",
       "      <td>専用バス／\\t専用トイレ／\\tシャワー／\\t追焚機能／\\t浴室乾燥機\\t／\\t温水洗浄便座／...</td>\n",
       "      <td>ガスコンロ／\\tシステムキッチン\\t／\\t給湯</td>\n",
       "      <td>光ファイバー／\\tCATV</td>\n",
       "      <td>エアコン付\\tトランクルーム\\t／\\tウォークインクローゼット\\tシューズボックス／\\tバル...</td>\n",
       "      <td>駐車場\\t空有</td>\n",
       "      <td>【コンビニ】 300m\\t【スーパー】 540m\\t【ドラッグストア】 700m\\t【公園】...</td>\n",
       "      <td>RC（鉄筋コンクリート）</td>\n",
       "      <td>3年間\\t※この物件は\\t定期借家\\tです。</td>\n",
       "    </tr>\n",
       "    <tr>\n",
       "      <th>25551</th>\n",
       "      <td>25552</td>\n",
       "      <td>1120000</td>\n",
       "      <td>東京都渋谷区広尾１丁目8-7</td>\n",
       "      <td>山手線\\t恵比寿駅\\t徒歩9分\\t\\t日比谷線\\t広尾駅\\t徒歩9分\\t\\t東急東横線\\t代...</td>\n",
       "      <td>1LDK+S(納戸)</td>\n",
       "      <td>13年11ヶ月</td>\n",
       "      <td>南</td>\n",
       "      <td>144.35m2</td>\n",
       "      <td>9階／10階建（地下1階）</td>\n",
       "      <td>専用バス／\\t専用トイレ／\\tバス・トイレ別／\\tシャワー／\\t追焚機能／\\t浴室乾燥機\\t...</td>\n",
       "      <td>ガスコンロ／\\tコンロ3口／\\tシステムキッチン\\t／\\tカウンターキッチン\\t／\\t給湯</td>\n",
       "      <td>インターネット対応／\\t光ファイバー／\\tCSアンテナ／\\tBSアンテナ</td>\n",
       "      <td>エアコン付\\tシューズボックス／\\tバルコニー／\\tルーフバルコニー\\t／\\tフローリング／...</td>\n",
       "      <td>駐車場\\t無</td>\n",
       "      <td>NaN</td>\n",
       "      <td>SRC（鉄骨鉄筋コンクリート）</td>\n",
       "      <td>2年間</td>\n",
       "    </tr>\n",
       "    <tr>\n",
       "      <th>30539</th>\n",
       "      <td>30540</td>\n",
       "      <td>1660000</td>\n",
       "      <td>東京都渋谷区広尾１丁目</td>\n",
       "      <td>山手線\\t恵比寿駅\\t徒歩6分\\t\\t日比谷線\\t恵比寿駅\\t徒歩6分</td>\n",
       "      <td>4LDK+S(納戸)</td>\n",
       "      <td>22年7ヶ月</td>\n",
       "      <td>南</td>\n",
       "      <td>341.3m2</td>\n",
       "      <td>12階／13階建（地下2階）</td>\n",
       "      <td>温水洗浄便座</td>\n",
       "      <td>給湯／\\t冷蔵庫あり</td>\n",
       "      <td>CATV</td>\n",
       "      <td>トランクルーム\\tエレベーター</td>\n",
       "      <td>駐車場\\t無</td>\n",
       "      <td>NaN</td>\n",
       "      <td>RC（鉄筋コンクリート）</td>\n",
       "      <td>3年間\\t※この物件は\\t定期借家\\tです。</td>\n",
       "    </tr>\n",
       "  </tbody>\n",
       "</table>\n",
       "</div>"
      ],
      "text/plain": [
       "          id   target          address  \\\n",
       "1501    1502  1200000      東京都港区元麻布３丁目   \n",
       "1771    1772  1450000    東京都大田区田園調布３丁目   \n",
       "5093    5094  2500000    東京都港区三田２丁目4-3   \n",
       "5775    5776  1203500       東京都港区新橋４丁目   \n",
       "8706    8707  1390000  東京都港区虎ノ門５丁目11-1   \n",
       "9008    9009  1300000  東京都港区麻布台３丁目4-24   \n",
       "11367  11368  1100000      東京都新宿区新宿６丁目   \n",
       "11958  11959  1120000      東京都渋谷区広尾１丁目   \n",
       "15417  15418  1300000  東京都港区南麻布１丁目16-2   \n",
       "16847  16848  1120000   東京都渋谷区広尾１丁目1-7   \n",
       "17324  17325  1100000      東京都港区南麻布５丁目   \n",
       "20024  20025  1100000  東京都港区赤坂８丁目11-38   \n",
       "20643  20644  1800000    東京都港区三田２丁目4-3   \n",
       "20989  20990  1300000      東京都港区南麻布４丁目   \n",
       "25551  25552  1120000   東京都渋谷区広尾１丁目8-7   \n",
       "30539  30540  1660000      東京都渋谷区広尾１丁目   \n",
       "\n",
       "                                                  access      layout      age  \\\n",
       "1501   南北線\\t麻布十番駅\\t徒歩9分\\t\\t都営大江戸線\\t六本木駅\\t徒歩9分\\t\\t東京メト...        3LDK   18年6ヶ月   \n",
       "1771            東急東横線\\t田園調布駅\\t徒歩5分\\t\\t東急目黒線\\t田園調布駅\\t徒歩5分  4LDK+S(納戸)    9年1ヶ月   \n",
       "5093   南北線\\t麻布十番駅\\t徒歩8分\\t\\t都営大江戸線\\t赤羽橋駅\\t徒歩9分\\t\\t山手線\\...  2LDK+S(納戸)    1年8ヶ月   \n",
       "5775                 山手線\\t新橋駅\\t徒歩2分\\t\\t都営大江戸線\\t汐留駅\\t徒歩2分          1K   12年5ヶ月   \n",
       "8706   日比谷線\\t神谷町駅\\t徒歩1分\\t\\t南北線\\t六本木一丁目駅\\t徒歩10分\\t\\t都営三...        2LDK  14年10ヶ月   \n",
       "9008   都営大江戸線\\t麻布十番駅\\t徒歩7分\\t\\t南北線\\t六本木一丁目駅\\t徒歩8分\\t\\t日...  3LDK+S(納戸)   30年5ヶ月   \n",
       "11367  都営大江戸線\\t東新宿駅\\t徒歩2分\\t\\t都営新宿線\\t新宿三丁目駅\\t徒歩10分\\t\\t...        2LDK   25年1ヶ月   \n",
       "11958  山手線\\t恵比寿駅\\t徒歩6分\\t\\t日比谷線\\t広尾駅\\t徒歩13分\\t\\t東急東横線\\t...        4LDK   22年7ヶ月   \n",
       "15417  南北線\\t麻布十番駅\\t徒歩7分\\t\\t南北線\\t白金高輪駅\\t徒歩16分\\t\\t都営大江戸...        2LDK    5年1ヶ月   \n",
       "16847  山手線\\t恵比寿駅\\t徒歩6分\\t\\t日比谷線\\t広尾駅\\t徒歩14分\\t\\t東急東横線\\t...        4LDK   22年7ヶ月   \n",
       "17324                                    日比谷線\\t広尾駅\\t徒歩5分        4LDK    7年0ヶ月   \n",
       "20024  千代田線\\t乃木坂駅\\t徒歩2分\\t\\t日比谷線\\t六本木駅\\t徒歩8分\\t\\t銀座線\\t青...        3LDK    9年0ヶ月   \n",
       "20643  南北線\\t麻布十番駅\\t徒歩8分\\t\\t都営大江戸線\\t赤羽橋駅\\t徒歩9分\\t\\t山手線\\...  2LDK+S(納戸)    1年8ヶ月   \n",
       "20989  日比谷線\\t広尾駅\\t徒歩8分\\t\\t南北線\\t麻布十番駅\\t徒歩18分\\t\\t山手線恵比寿...        3LDK   14年9ヶ月   \n",
       "25551  山手線\\t恵比寿駅\\t徒歩9分\\t\\t日比谷線\\t広尾駅\\t徒歩9分\\t\\t東急東横線\\t代...  1LDK+S(納戸)  13年11ヶ月   \n",
       "30539                山手線\\t恵比寿駅\\t徒歩6分\\t\\t日比谷線\\t恵比寿駅\\t徒歩6分  4LDK+S(納戸)   22年7ヶ月   \n",
       "\n",
       "      direction      area   floor_stories  \\\n",
       "1501         南東  163.62m2          3階／3階建   \n",
       "1771         南西  232.01m2             2階建   \n",
       "5093          西  217.29m2    9階／9階建（地下2階）   \n",
       "5775         北西   20.53m2        10階／15階建   \n",
       "8706          東  138.99m2         7階／24階建   \n",
       "9008          南  223.71m2             3階建   \n",
       "11367        南東  192.43m2   9階／10階建（地下1階）   \n",
       "11958         南   221.3m2        11階／13階建   \n",
       "15417         北     125m2          7階／7階建   \n",
       "16847         東   221.3m2  11階／13階建（地下2階）   \n",
       "17324        北東  171.43m2    3階／4階建（地下1階）   \n",
       "20024        南西  176.87m2  25階／25階建（地下1階）   \n",
       "20643         南  151.81m2    5階／9階建（地下2階）   \n",
       "20989        北東  167.99m2    1階／8階建（地下1階）   \n",
       "25551         南  144.35m2   9階／10階建（地下1階）   \n",
       "30539         南   341.3m2  12階／13階建（地下2階）   \n",
       "\n",
       "                                                bathroom  \\\n",
       "1501   専用バス／\\t専用トイレ／\\tバス・トイレ別／\\tシャワー／\\t追焚機能／\\t浴室乾燥機\\t...   \n",
       "1771                専用バス／\\t専用トイレ／\\tシャワー／\\t温水洗浄便座／\\t洗面台独立   \n",
       "5093   専用バス／\\t専用トイレ／\\tバス・トイレ別／\\tシャワー／\\t追焚機能／\\t浴室乾燥機\\t...   \n",
       "5775    専用バス／\\t専用トイレ／\\tバス・トイレ別／\\tシャワー／\\t浴室乾燥機\\t／\\t温水洗浄便座   \n",
       "8706   専用バス／\\t専用トイレ／\\tシャワー／\\t追焚機能／\\t浴室乾燥機\\t／\\t温水洗浄便座／...   \n",
       "9008   専用バス／\\t専用トイレ／\\tバス・トイレ別／\\t追焚機能／\\t浴室乾燥機\\t／\\t洗面台独...   \n",
       "11367       バス・トイレ別／\\tシャワー／\\t追焚機能／\\t温水洗浄便座／\\t洗面台独立／\\t脱衣所   \n",
       "11958  専用バス／\\t専用トイレ／\\tシャワー／\\t浴室乾燥機\\t／\\t温水洗浄便座／\\t洗面台独立...   \n",
       "15417  専用バス／\\t専用トイレ／\\tバス・トイレ別／\\tシャワー／\\t追焚機能／\\t浴室乾燥機\\t...   \n",
       "16847  専用バス／\\t専用トイレ／\\tバス・トイレ別／\\tシャワー／\\t追焚機能／\\t温水洗浄便座／...   \n",
       "17324  専用バス／\\t専用トイレ／\\tバス・トイレ別／\\tシャワー／\\t追焚機能／\\t浴室乾燥機\\t...   \n",
       "20024  専用バス／\\t専用トイレ／\\tバス・トイレ別／\\tシャワー／\\t追焚機能／\\t浴室乾燥機\\t...   \n",
       "20643  専用バス／\\t専用トイレ／\\tバス・トイレ別／\\tシャワー／\\t追焚機能／\\t浴室乾燥機\\t...   \n",
       "20989  専用バス／\\t専用トイレ／\\tシャワー／\\t追焚機能／\\t浴室乾燥機\\t／\\t温水洗浄便座／...   \n",
       "25551  専用バス／\\t専用トイレ／\\tバス・トイレ別／\\tシャワー／\\t追焚機能／\\t浴室乾燥機\\t...   \n",
       "30539                                             温水洗浄便座   \n",
       "\n",
       "                                                 kitchen  \\\n",
       "1501                             ガスコンロ／\\tシステムキッチン\\t／\\t給湯   \n",
       "1771                             ガスコンロ／\\tシステムキッチン\\t／\\t給湯   \n",
       "5093   IHコンロ\\t／\\tコンロ3口／\\tシステムキッチン\\t／\\tカウンターキッチン\\t／\\tL...   \n",
       "5775                     ガスコンロ／\\tコンロ2口／\\tシステムキッチン\\t／\\t給湯   \n",
       "8706            ガスコンロ／\\tコンロ3口／\\tシステムキッチン\\t／\\t給湯／\\t独立キッチン   \n",
       "9008                 ガスコンロ／\\tコンロ3口／\\tシステムキッチン\\t／\\tL字キッチン   \n",
       "11367                                 ガスコンロ／\\tコンロ3口／\\t給湯   \n",
       "11958         ガスコンロ／\\tコンロ4口以上／\\tシステムキッチン\\t／\\t給湯／\\t独立キッチン   \n",
       "15417  ガスコンロ／\\tコンロ3口／\\tシステムキッチン\\t／\\t給湯／\\t独立キッチン／\\tL字キッチン   \n",
       "16847                          コンロ4口以上／\\tシステムキッチン\\t／\\t給湯   \n",
       "17324                          IHコンロ\\t／\\tシステムキッチン\\t／\\t給湯   \n",
       "20024             ガスコンロ／\\tコンロ3口／\\tシステムキッチン\\t／\\tカウンターキッチン   \n",
       "20643           IHコンロ\\t／\\tコンロ3口／\\tシステムキッチン\\t／\\tカウンターキッチン   \n",
       "20989                            ガスコンロ／\\tシステムキッチン\\t／\\t給湯   \n",
       "25551      ガスコンロ／\\tコンロ3口／\\tシステムキッチン\\t／\\tカウンターキッチン\\t／\\t給湯   \n",
       "30539                                         給湯／\\t冷蔵庫あり   \n",
       "\n",
       "                                       internet  \\\n",
       "1501            光ファイバー／\\tCATV／\\tCSアンテナ／\\tBSアンテナ   \n",
       "1771                              光ファイバー／\\tCATV   \n",
       "5093                                  インターネット対応   \n",
       "5775   インターネット対応／\\t光ファイバー／\\tCATV／\\tインターネット使用料無料   \n",
       "8706         インターネット対応／\\tCATV／\\tCSアンテナ／\\tBSアンテナ   \n",
       "9008                                        NaN   \n",
       "11367                        インターネット対応／\\t光ファイバー   \n",
       "11958                 インターネット対応／\\t光ファイバー／\\tCATV   \n",
       "15417                        インターネット対応／\\t光ファイバー   \n",
       "16847                             光ファイバー／\\tCATV   \n",
       "17324           光ファイバー／\\tCATV／\\tCSアンテナ／\\tBSアンテナ   \n",
       "20024                           光ファイバー／\\tBSアンテナ   \n",
       "20643                                 インターネット対応   \n",
       "20989                             光ファイバー／\\tCATV   \n",
       "25551      インターネット対応／\\t光ファイバー／\\tCSアンテナ／\\tBSアンテナ   \n",
       "30539                                      CATV   \n",
       "\n",
       "                                               equipment  \\\n",
       "1501   エアコン付\\tウォークインクローゼット\\tシューズボックス／\\tバルコニー／\\tフローリング...   \n",
       "1771               エアコン付\\tウォークインクローゼット\\tフローリング／\\t室内洗濯機置場   \n",
       "5093   エアコン付／\\t床暖房\\tウォークインクローゼット\\tシューズボックス／\\tバルコニー／\\t...   \n",
       "5775   エアコン付\\tシューズボックス／\\tバルコニー／\\tフローリング／\\t24時間換気システム\\...   \n",
       "8706   エアコン付\\tトランクルーム\\t／\\tウォークインクローゼット\\tバルコニー／\\t24時間換...   \n",
       "9008   エアコン付\\tウォークインクローゼット\\tシューズボックス／\\tバルコニー／\\tフローリング...   \n",
       "11367  エアコン付\\tロフト付き／\\tバルコニー／\\tフローリング／\\t2面採光／\\t室内洗濯機置場...   \n",
       "11958  エアコン付\\tトランクルーム\\t／\\tウォークインクローゼット\\tシューズボックス／\\tバル...   \n",
       "15417  エアコン付\\tウォークインクローゼット\\tシューズボックス／\\tロフト付き／\\tバルコニー／...   \n",
       "16847  冷房／\\tエアコン付\\tシューズボックス／\\tバルコニー／\\tフローリング／\\t24時間換気...   \n",
       "17324  エアコン付\\tトランクルーム\\t／\\tウォークインクローゼット\\tシューズボックス／\\tバル...   \n",
       "20024  冷房／\\tエアコン付／\\t床暖房\\tウォークインクローゼット\\tシューズボックス／\\tバルコ...   \n",
       "20643  エアコン付／\\t床暖房\\tウォークインクローゼット\\tシューズボックス／\\tバルコニー／\\t...   \n",
       "20989  エアコン付\\tトランクルーム\\t／\\tウォークインクローゼット\\tシューズボックス／\\tバル...   \n",
       "25551  エアコン付\\tシューズボックス／\\tバルコニー／\\tルーフバルコニー\\t／\\tフローリング／...   \n",
       "30539                                    トランクルーム\\tエレベーター   \n",
       "\n",
       "                                        parking  \\\n",
       "1501                       駐車場\\t空有\\t57,000円(税込)   \n",
       "1771                                    駐車場\\t空有   \n",
       "5093                      駐車場\\t空有(43台)\\t48,600円   \n",
       "5775                 駐輪場\\t空有\\t駐車場\\t無\\tバイク置き場\\t無   \n",
       "8706   駐車場\\t空有\\t54,000円(税込)\\t駐輪場\\t空有\\tバイク置き場\\t無   \n",
       "9008           駐車場\\t空有\\t0円\\t駐輪場\\t空有\\tバイク置き場\\t空有   \n",
       "11367                          駐車場\\t空有\\t43,200円   \n",
       "11958                駐輪場\\t空有\\t駐車場\\t無\\tバイク置き場\\t無   \n",
       "15417  駐車場\\t空有\\t54,000円(税込)\\t駐輪場\\t空有\\tバイク置き場\\t無   \n",
       "16847            駐車場\\t空有\\t64,800円\\t(※サイズ・空き要確認)   \n",
       "17324                      駐車場\\t空有\\t50,000円(税込)   \n",
       "20024       駐車場\\t空有\\t48,000円\\t(月額48000円～50000円)   \n",
       "20643                     駐車場\\t空有(43台)\\t48,600円   \n",
       "20989                                   駐車場\\t空有   \n",
       "25551                                    駐車場\\t無   \n",
       "30539                                    駐車場\\t無   \n",
       "\n",
       "                                                neighbor         material  \\\n",
       "1501                                                 NaN     RC（鉄筋コンクリート）   \n",
       "1771                                                 NaN               木造   \n",
       "5093   【飲食店】 959m\\t【飲食店】 611m\\t【スーパー】 417m\\t【スーパー】 65...     RC（鉄筋コンクリート）   \n",
       "5775   【スーパー】 432m\\t【スーパー】 570m\\t【コンビニ】 43m\\t【コンビニ】 2...     RC（鉄筋コンクリート）   \n",
       "8706   【スーパー】 558m\\t【スーパー】 535m\\t【コンビニ】 330m\\t【コンビニ】 ...              鉄骨造   \n",
       "9008   【スーパー】 538m\\t【コンビニ】 390m\\t【コンビニ】 454m\\t【スーパー】 ...               木造   \n",
       "11367  【スーパー】 170m\\t【スーパー】 502m\\t【コンビニ】 14m\\t【コンビニ】 1...  SRC（鉄骨鉄筋コンクリート）   \n",
       "11958   【スーパー】 729m\\t【コンビニ】 177m\\t【スーパー】 363m\\t【病院】 727m     RC（鉄筋コンクリート）   \n",
       "15417  【スーパー】 217m\\t【スーパー】 541m\\t【コンビニ】 256m\\t【コンビニ】 ...     RC（鉄筋コンクリート）   \n",
       "16847  【デパート】 964m\\t【スーパー】 752m\\t【スーパー】 989m\\t【スーパー】 ...     RC（鉄筋コンクリート）   \n",
       "17324     【コンビニ】 400m\\t【スーパー】 340m\\t【公園】 120m\\t【銀行】 420m     RC（鉄筋コンクリート）   \n",
       "20024  【小学校】 1027m\\t【スーパー】 1072m\\t【スーパー】 1159m\\t【レンタル...     RC（鉄筋コンクリート）   \n",
       "20643  【飲食店】 959m\\t【飲食店】 611m\\t【スーパー】 417m\\t【スーパー】 65...     RC（鉄筋コンクリート）   \n",
       "20989  【コンビニ】 300m\\t【スーパー】 540m\\t【ドラッグストア】 700m\\t【公園】...     RC（鉄筋コンクリート）   \n",
       "25551                                                NaN  SRC（鉄骨鉄筋コンクリート）   \n",
       "30539                                                NaN     RC（鉄筋コンクリート）   \n",
       "\n",
       "                     contract  \n",
       "1501   5年間\\t※この物件は\\t定期借家\\tです。  \n",
       "1771   4年間\\t※この物件は\\t定期借家\\tです。  \n",
       "5093   3年間\\t※この物件は\\t定期借家\\tです。  \n",
       "5775                      2年間  \n",
       "8706   3年間\\t※この物件は\\t定期借家\\tです。  \n",
       "9008   3年間\\t※この物件は\\t定期借家\\tです。  \n",
       "11367                     2年間  \n",
       "11958  3年間\\t※この物件は\\t定期借家\\tです。  \n",
       "15417  2年間\\t※この物件は\\t定期借家\\tです。  \n",
       "16847  3年間\\t※この物件は\\t定期借家\\tです。  \n",
       "17324  5年間\\t※この物件は\\t定期借家\\tです。  \n",
       "20024  4年間\\t※この物件は\\t定期借家\\tです。  \n",
       "20643  3年間\\t※この物件は\\t定期借家\\tです。  \n",
       "20989  3年間\\t※この物件は\\t定期借家\\tです。  \n",
       "25551                     2年間  \n",
       "30539  3年間\\t※この物件は\\t定期借家\\tです。  "
      ]
     },
     "execution_count": 52,
     "metadata": {},
     "output_type": "execute_result"
    }
   ],
   "source": [
    "train_df[train_df[\"target\"] > 1000000]"
   ]
  },
  {
   "cell_type": "code",
   "execution_count": 53,
   "metadata": {
    "ExecuteTime": {
     "end_time": "2019-10-25T09:39:58.098588Z",
     "start_time": "2019-10-25T09:39:57.706749Z"
    }
   },
   "outputs": [
    {
     "data": {
      "text/plain": [
       "<matplotlib.axes._subplots.AxesSubplot at 0x7fa924be0050>"
      ]
     },
     "execution_count": 53,
     "metadata": {},
     "output_type": "execute_result"
    },
    {
     "data": {
      "image/png": "[encoded data removed]",
      "text/plain": [
       "<Figure size 432x288 with 1 Axes>"
      ]
     },
     "metadata": {
      "needs_background": "light"
     },
     "output_type": "display_data"
    }
   ],
   "source": [
    "# looks like a log-normal distribution\n",
    "sns.distplot(np.log(train_df[\"target\"]))"
   ]
  },
  {
   "cell_type": "markdown",
   "metadata": {
    "ExecuteTime": {
     "end_time": "2019-10-18T06:31:15.076870Z",
     "start_time": "2019-10-18T06:31:15.041699Z"
    }
   },
   "source": [
    "## age : to float value  \n",
    "ex) \\\n",
    "\"3年9ヶ月\" -> 3.75 \\\n",
    "\"新築\" -> 0"
   ]
  },
  {
   "cell_type": "code",
   "execution_count": 54,
   "metadata": {
    "ExecuteTime": {
     "end_time": "2019-10-25T09:39:59.960698Z",
     "start_time": "2019-10-25T09:39:59.939083Z"
    }
   },
   "outputs": [
    {
     "data": {
      "text/plain": [
       "0年1ヶ月      1885\n",
       "新築         1739\n",
       "0年0ヶ月      1375\n",
       "0年2ヶ月      1273\n",
       "0年3ヶ月       997\n",
       "           ... \n",
       "62年2ヶ月        1\n",
       "59年0ヶ月        1\n",
       "66年5ヶ月        1\n",
       "520年5ヶ月       1\n",
       "65年5ヶ月        1\n",
       "Name: age, Length: 771, dtype: int64"
      ]
     },
     "execution_count": 54,
     "metadata": {},
     "output_type": "execute_result"
    }
   ],
   "source": [
    "df[\"age\"].value_counts()"
   ]
  },
  {
   "cell_type": "code",
   "execution_count": 55,
   "metadata": {
    "ExecuteTime": {
     "end_time": "2019-10-25T09:40:02.695902Z",
     "start_time": "2019-10-25T09:40:02.350724Z"
    }
   },
   "outputs": [],
   "source": [
    "df = pp_age(df)"
   ]
  },
  {
   "cell_type": "code",
   "execution_count": 56,
   "metadata": {
    "ExecuteTime": {
     "end_time": "2019-10-25T09:40:03.557088Z",
     "start_time": "2019-10-25T09:40:03.545623Z"
    }
   },
   "outputs": [
    {
     "data": {
      "text/plain": [
       "0     10535\n",
       "11     2455\n",
       "12     2441\n",
       "2      2190\n",
       "13     2159\n",
       "      ...  \n",
       "69        5\n",
       "65        5\n",
       "68        3\n",
       "66        3\n",
       "67        1\n",
       "Name: age, Length: 71, dtype: int64"
      ]
     },
     "execution_count": 56,
     "metadata": {},
     "output_type": "execute_result"
    }
   ],
   "source": [
    "df[\"age\"].astype(int).value_counts()"
   ]
  },
  {
   "cell_type": "code",
   "execution_count": 57,
   "metadata": {
    "ExecuteTime": {
     "end_time": "2019-10-25T09:40:04.726252Z",
     "start_time": "2019-10-25T09:40:04.288520Z"
    }
   },
   "outputs": [
    {
     "data": {
      "text/plain": [
       "<matplotlib.axes._subplots.AxesSubplot at 0x7fa924dc0210>"
      ]
     },
     "execution_count": 57,
     "metadata": {},
     "output_type": "execute_result"
    },
    {
     "data": {
      "image/png": "[encoded data removed]",
      "text/plain": [
       "<Figure size 432x288 with 1 Axes>"
      ]
     },
     "metadata": {
      "needs_background": "light"
     },
     "output_type": "display_data"
    }
   ],
   "source": [
    "sns.distplot(df[\"age\"])"
   ]
  },
  {
   "cell_type": "code",
   "execution_count": 58,
   "metadata": {
    "ExecuteTime": {
     "end_time": "2019-10-25T09:40:05.375366Z",
     "start_time": "2019-10-25T09:40:04.965210Z"
    }
   },
   "outputs": [
    {
     "data": {
      "text/plain": [
       "<matplotlib.axes._subplots.AxesSubplot at 0x7fa924dc0190>"
      ]
     },
     "execution_count": 58,
     "metadata": {},
     "output_type": "execute_result"
    },
    {
     "data": {
      "image/png": "[encoded data removed]",
      "text/plain": [
       "<Figure size 432x288 with 1 Axes>"
      ]
     },
     "metadata": {
      "needs_background": "light"
     },
     "output_type": "display_data"
    }
   ],
   "source": [
    "# Little correlation...\n",
    "sns.scatterplot(x=df[\"age\"], y=np.log(df[\"target\"]))"
   ]
  },
  {
   "cell_type": "markdown",
   "metadata": {
    "ExecuteTime": {
     "end_time": "2019-10-18T06:59:10.877671Z",
     "start_time": "2019-10-18T06:59:10.840504Z"
    }
   },
   "source": [
    "## area : to float value\n",
    "ex) \\\n",
    "'64.76m2' -> 64.76"
   ]
  },
  {
   "cell_type": "code",
   "execution_count": 59,
   "metadata": {
    "ExecuteTime": {
     "end_time": "2019-10-25T09:40:07.656432Z",
     "start_time": "2019-10-25T09:40:07.629702Z"
    }
   },
   "outputs": [
    {
     "data": {
      "text/plain": [
       "20m2        486\n",
       "18m2        379\n",
       "40m2        368\n",
       "21m2        331\n",
       "30m2        320\n",
       "           ... \n",
       "105.1m2       1\n",
       "32.41m2       1\n",
       "106.51m2      1\n",
       "12.47m2       1\n",
       "64.01m2       1\n",
       "Name: area, Length: 6721, dtype: int64"
      ]
     },
     "execution_count": 59,
     "metadata": {},
     "output_type": "execute_result"
    }
   ],
   "source": [
    "df[\"area\"].value_counts()"
   ]
  },
  {
   "cell_type": "code",
   "execution_count": 60,
   "metadata": {
    "ExecuteTime": {
     "end_time": "2019-10-25T09:40:10.800030Z",
     "start_time": "2019-10-25T09:40:10.717555Z"
    }
   },
   "outputs": [],
   "source": [
    "df = pp_area(df)"
   ]
  },
  {
   "cell_type": "code",
   "execution_count": 61,
   "metadata": {
    "ExecuteTime": {
     "end_time": "2019-10-25T09:40:11.325424Z",
     "start_time": "2019-10-25T09:40:11.312229Z"
    }
   },
   "outputs": [
    {
     "data": {
      "text/plain": [
       "25     6696\n",
       "20     3145\n",
       "26     2490\n",
       "40     2399\n",
       "21     2314\n",
       "       ... \n",
       "137       1\n",
       "168       1\n",
       "199       1\n",
       "135       1\n",
       "163       1\n",
       "Name: area, Length: 177, dtype: int64"
      ]
     },
     "execution_count": 61,
     "metadata": {},
     "output_type": "execute_result"
    }
   ],
   "source": [
    "df[\"area\"].astype(int).value_counts()"
   ]
  },
  {
   "cell_type": "code",
   "execution_count": 62,
   "metadata": {
    "ExecuteTime": {
     "end_time": "2019-10-25T09:40:12.294079Z",
     "start_time": "2019-10-25T09:40:11.881425Z"
    }
   },
   "outputs": [
    {
     "data": {
      "text/plain": [
       "<matplotlib.axes._subplots.AxesSubplot at 0x7fa925324050>"
      ]
     },
     "execution_count": 62,
     "metadata": {},
     "output_type": "execute_result"
    },
    {
     "data": {
      "image/png": "[encoded data removed]",
      "text/plain": [
       "<Figure size 432x288 with 1 Axes>"
      ]
     },
     "metadata": {
      "needs_background": "light"
     },
     "output_type": "display_data"
    }
   ],
   "source": [
    "sns.distplot(df[\"area\"])"
   ]
  },
  {
   "cell_type": "code",
   "execution_count": 63,
   "metadata": {
    "ExecuteTime": {
     "end_time": "2019-10-25T09:40:12.894438Z",
     "start_time": "2019-10-25T09:40:12.518523Z"
    }
   },
   "outputs": [
    {
     "data": {
      "text/plain": [
       "<matplotlib.axes._subplots.AxesSubplot at 0x7fa925087dd0>"
      ]
     },
     "execution_count": 63,
     "metadata": {},
     "output_type": "execute_result"
    },
    {
     "data": {
      "image/png": "[encoded data removed]",
      "text/plain": [
       "<Figure size 432x288 with 1 Axes>"
      ]
     },
     "metadata": {
      "needs_background": "light"
     },
     "output_type": "display_data"
    }
   ],
   "source": [
    "# relation between area and log(target)\n",
    "# looks good!\n",
    "sns.scatterplot(x=df[\"area\"], y=np.log(df[\"target\"]))"
   ]
  },
  {
   "cell_type": "markdown",
   "metadata": {
    "ExecuteTime": {
     "end_time": "2019-10-18T07:19:42.989935Z",
     "start_time": "2019-10-18T07:19:42.958180Z"
    }
   },
   "source": [
    "## floor_stories : floor (int) + stories(int)\n",
    "ex) \\\n",
    "\"12階／13階建\" -> { floor: 12, stories: 13 }"
   ]
  },
  {
   "cell_type": "code",
   "execution_count": 64,
   "metadata": {
    "ExecuteTime": {
     "end_time": "2019-10-25T09:40:14.280147Z",
     "start_time": "2019-10-25T09:40:14.257591Z"
    },
    "scrolled": false
   },
   "outputs": [
    {
     "data": {
      "text/plain": [
       "2階／2階建            5706\n",
       "1階／2階建            5519\n",
       "2階／3階建            4030\n",
       "3階／3階建            3541\n",
       "1階／3階建            3325\n",
       "                  ... \n",
       "45階／49階建（地下2階）       1\n",
       "22階／25階建（地下2階）       1\n",
       "30階／32階建（地下1階）       1\n",
       "6階／15階建（地下3階）        1\n",
       "18階／55階建（地下2階）       1\n",
       "Name: floor_stories, Length: 1402, dtype: int64"
      ]
     },
     "execution_count": 64,
     "metadata": {},
     "output_type": "execute_result"
    }
   ],
   "source": [
    "df[\"floor_stories\"].value_counts()"
   ]
  },
  {
   "cell_type": "code",
   "execution_count": 65,
   "metadata": {
    "ExecuteTime": {
     "end_time": "2019-10-25T09:40:15.063445Z",
     "start_time": "2019-10-25T09:40:14.830459Z"
    }
   },
   "outputs": [
    {
     "data": {
      "text/plain": [
       "99             ／3階建\n",
       "122            ／8階建\n",
       "583           ／12階建\n",
       "671      ／3階建（地下1階）\n",
       "814            ／2階建\n",
       "            ...    \n",
       "30529    ／3階建（地下1階）\n",
       "30781          ／2階建\n",
       "30826          ／2階建\n",
       "31073          ／3階建\n",
       "31184          ／2階建\n",
       "Name: floor_stories, Length: 233, dtype: object"
      ]
     },
     "execution_count": 65,
     "metadata": {},
     "output_type": "execute_result"
    }
   ],
   "source": [
    "df[\"floor_stories\"][df[\"floor_stories\"].str.split(\"／\", expand=True).iloc[:, 0] == \"\"]"
   ]
  },
  {
   "cell_type": "code",
   "execution_count": 66,
   "metadata": {
    "ExecuteTime": {
     "end_time": "2019-10-25T09:40:15.548472Z",
     "start_time": "2019-10-25T09:40:15.523861Z"
    }
   },
   "outputs": [
    {
     "data": {
      "text/html": [
       "<div>\n",
       "<style scoped>\n",
       "    .dataframe tbody tr th:only-of-type {\n",
       "        vertical-align: middle;\n",
       "    }\n",
       "\n",
       "    .dataframe tbody tr th {\n",
       "        vertical-align: top;\n",
       "    }\n",
       "\n",
       "    .dataframe thead th {\n",
       "        text-align: right;\n",
       "    }\n",
       "</style>\n",
       "<table border=\"1\" class=\"dataframe\">\n",
       "  <thead>\n",
       "    <tr style=\"text-align: right;\">\n",
       "      <th></th>\n",
       "      <th>access</th>\n",
       "      <th>address</th>\n",
       "      <th>age</th>\n",
       "      <th>area</th>\n",
       "      <th>bathroom</th>\n",
       "      <th>contract</th>\n",
       "      <th>direction</th>\n",
       "      <th>equipment</th>\n",
       "      <th>floor_stories</th>\n",
       "      <th>id</th>\n",
       "      <th>internet</th>\n",
       "      <th>kitchen</th>\n",
       "      <th>layout</th>\n",
       "      <th>material</th>\n",
       "      <th>neighbor</th>\n",
       "      <th>parking</th>\n",
       "      <th>target</th>\n",
       "    </tr>\n",
       "  </thead>\n",
       "  <tbody>\n",
       "    <tr>\n",
       "      <th>9204</th>\n",
       "      <td>都営新宿線\\t船堀駅\\t徒歩11分\\t\\t東西線\\t西葛西駅\\t徒歩20分\\t\\t東西線\\t...</td>\n",
       "      <td>東京都江戸川区宇喜田町1469-35</td>\n",
       "      <td>0.333333</td>\n",
       "      <td>94.91</td>\n",
       "      <td>バス・トイレ別／\\tシャワー／\\t追焚機能／\\t浴室乾燥機\\t／\\t温水洗浄便座／\\t洗面台...</td>\n",
       "      <td>2年間</td>\n",
       "      <td>南西</td>\n",
       "      <td>バルコニー／\\tルーフバルコニー\\t／\\tフローリング</td>\n",
       "      <td>NaN</td>\n",
       "      <td>40675</td>\n",
       "      <td>NaN</td>\n",
       "      <td>システムキッチン\\t／\\tL字キッチン</td>\n",
       "      <td>3LDK</td>\n",
       "      <td>鉄骨造</td>\n",
       "      <td>NaN</td>\n",
       "      <td>NaN</td>\n",
       "      <td>NaN</td>\n",
       "    </tr>\n",
       "  </tbody>\n",
       "</table>\n",
       "</div>"
      ],
      "text/plain": [
       "                                                 access             address  \\\n",
       "9204  都営新宿線\\t船堀駅\\t徒歩11分\\t\\t東西線\\t西葛西駅\\t徒歩20分\\t\\t東西線\\t...  東京都江戸川区宇喜田町1469-35   \n",
       "\n",
       "           age   area                                           bathroom  \\\n",
       "9204  0.333333  94.91  バス・トイレ別／\\tシャワー／\\t追焚機能／\\t浴室乾燥機\\t／\\t温水洗浄便座／\\t洗面台...   \n",
       "\n",
       "     contract direction                    equipment floor_stories     id  \\\n",
       "9204      2年間        南西  バルコニー／\\tルーフバルコニー\\t／\\tフローリング           NaN  40675   \n",
       "\n",
       "     internet              kitchen layout material neighbor parking  target  \n",
       "9204      NaN  システムキッチン\\t／\\tL字キッチン   3LDK      鉄骨造      NaN     NaN     NaN  "
      ]
     },
     "execution_count": 66,
     "metadata": {},
     "output_type": "execute_result"
    }
   ],
   "source": [
    "df[df[\"floor_stories\"].isna()]"
   ]
  },
  {
   "cell_type": "code",
   "execution_count": 68,
   "metadata": {
    "ExecuteTime": {
     "end_time": "2019-10-25T09:40:19.569146Z",
     "start_time": "2019-10-25T09:40:18.929024Z"
    }
   },
   "outputs": [],
   "source": [
    "df = pp_floor_stories(df)"
   ]
  },
  {
   "cell_type": "code",
   "execution_count": 69,
   "metadata": {
    "ExecuteTime": {
     "end_time": "2019-10-25T09:40:19.635182Z",
     "start_time": "2019-10-25T09:40:19.618619Z"
    }
   },
   "outputs": [
    {
     "data": {
      "text/html": [
       "<div>\n",
       "<style scoped>\n",
       "    .dataframe tbody tr th:only-of-type {\n",
       "        vertical-align: middle;\n",
       "    }\n",
       "\n",
       "    .dataframe tbody tr th {\n",
       "        vertical-align: top;\n",
       "    }\n",
       "\n",
       "    .dataframe thead th {\n",
       "        text-align: right;\n",
       "    }\n",
       "</style>\n",
       "<table border=\"1\" class=\"dataframe\">\n",
       "  <thead>\n",
       "    <tr style=\"text-align: right;\">\n",
       "      <th></th>\n",
       "      <th>floor_stories</th>\n",
       "      <th>floor</th>\n",
       "      <th>stories</th>\n",
       "      <th>target</th>\n",
       "    </tr>\n",
       "  </thead>\n",
       "  <tbody>\n",
       "    <tr>\n",
       "      <th>1203</th>\n",
       "      <td>2階／1階建</td>\n",
       "      <td>2</td>\n",
       "      <td>1</td>\n",
       "      <td>110000.0</td>\n",
       "    </tr>\n",
       "    <tr>\n",
       "      <th>2611</th>\n",
       "      <td>3階</td>\n",
       "      <td>3</td>\n",
       "      <td>2</td>\n",
       "      <td>100000.0</td>\n",
       "    </tr>\n",
       "    <tr>\n",
       "      <th>11488</th>\n",
       "      <td>5階</td>\n",
       "      <td>5</td>\n",
       "      <td>2</td>\n",
       "      <td>176000.0</td>\n",
       "    </tr>\n",
       "    <tr>\n",
       "      <th>14238</th>\n",
       "      <td>10階／8階建</td>\n",
       "      <td>10</td>\n",
       "      <td>8</td>\n",
       "      <td>62000.0</td>\n",
       "    </tr>\n",
       "    <tr>\n",
       "      <th>20743</th>\n",
       "      <td>7階／2階建</td>\n",
       "      <td>7</td>\n",
       "      <td>2</td>\n",
       "      <td>89000.0</td>\n",
       "    </tr>\n",
       "    <tr>\n",
       "      <th>21504</th>\n",
       "      <td>4階／2階建</td>\n",
       "      <td>4</td>\n",
       "      <td>2</td>\n",
       "      <td>103000.0</td>\n",
       "    </tr>\n",
       "    <tr>\n",
       "      <th>28317</th>\n",
       "      <td>3階</td>\n",
       "      <td>3</td>\n",
       "      <td>2</td>\n",
       "      <td>161800.0</td>\n",
       "    </tr>\n",
       "    <tr>\n",
       "      <th>956</th>\n",
       "      <td>3階／2階建</td>\n",
       "      <td>3</td>\n",
       "      <td>2</td>\n",
       "      <td>NaN</td>\n",
       "    </tr>\n",
       "    <tr>\n",
       "      <th>983</th>\n",
       "      <td>2階／1階建</td>\n",
       "      <td>2</td>\n",
       "      <td>1</td>\n",
       "      <td>NaN</td>\n",
       "    </tr>\n",
       "    <tr>\n",
       "      <th>3154</th>\n",
       "      <td>13階／4階建（地下1階）</td>\n",
       "      <td>13</td>\n",
       "      <td>4</td>\n",
       "      <td>NaN</td>\n",
       "    </tr>\n",
       "    <tr>\n",
       "      <th>5701</th>\n",
       "      <td>4階</td>\n",
       "      <td>4</td>\n",
       "      <td>2</td>\n",
       "      <td>NaN</td>\n",
       "    </tr>\n",
       "    <tr>\n",
       "      <th>5794</th>\n",
       "      <td>4階／2階建</td>\n",
       "      <td>4</td>\n",
       "      <td>2</td>\n",
       "      <td>NaN</td>\n",
       "    </tr>\n",
       "    <tr>\n",
       "      <th>5931</th>\n",
       "      <td>3階／2階建</td>\n",
       "      <td>3</td>\n",
       "      <td>2</td>\n",
       "      <td>NaN</td>\n",
       "    </tr>\n",
       "    <tr>\n",
       "      <th>7414</th>\n",
       "      <td>4階／2階建</td>\n",
       "      <td>4</td>\n",
       "      <td>2</td>\n",
       "      <td>NaN</td>\n",
       "    </tr>\n",
       "    <tr>\n",
       "      <th>7627</th>\n",
       "      <td>4階／3階建（地下1階）</td>\n",
       "      <td>4</td>\n",
       "      <td>3</td>\n",
       "      <td>NaN</td>\n",
       "    </tr>\n",
       "    <tr>\n",
       "      <th>8623</th>\n",
       "      <td>4階</td>\n",
       "      <td>4</td>\n",
       "      <td>2</td>\n",
       "      <td>NaN</td>\n",
       "    </tr>\n",
       "    <tr>\n",
       "      <th>9095</th>\n",
       "      <td>8階</td>\n",
       "      <td>8</td>\n",
       "      <td>2</td>\n",
       "      <td>NaN</td>\n",
       "    </tr>\n",
       "    <tr>\n",
       "      <th>9206</th>\n",
       "      <td>5階</td>\n",
       "      <td>5</td>\n",
       "      <td>2</td>\n",
       "      <td>NaN</td>\n",
       "    </tr>\n",
       "    <tr>\n",
       "      <th>14821</th>\n",
       "      <td>3階</td>\n",
       "      <td>3</td>\n",
       "      <td>2</td>\n",
       "      <td>NaN</td>\n",
       "    </tr>\n",
       "    <tr>\n",
       "      <th>15846</th>\n",
       "      <td>8階／6階建</td>\n",
       "      <td>8</td>\n",
       "      <td>6</td>\n",
       "      <td>NaN</td>\n",
       "    </tr>\n",
       "    <tr>\n",
       "      <th>20717</th>\n",
       "      <td>6階</td>\n",
       "      <td>6</td>\n",
       "      <td>2</td>\n",
       "      <td>NaN</td>\n",
       "    </tr>\n",
       "    <tr>\n",
       "      <th>22629</th>\n",
       "      <td>3階</td>\n",
       "      <td>3</td>\n",
       "      <td>2</td>\n",
       "      <td>NaN</td>\n",
       "    </tr>\n",
       "    <tr>\n",
       "      <th>23954</th>\n",
       "      <td>7階</td>\n",
       "      <td>7</td>\n",
       "      <td>2</td>\n",
       "      <td>NaN</td>\n",
       "    </tr>\n",
       "    <tr>\n",
       "      <th>24242</th>\n",
       "      <td>7階</td>\n",
       "      <td>7</td>\n",
       "      <td>2</td>\n",
       "      <td>NaN</td>\n",
       "    </tr>\n",
       "    <tr>\n",
       "      <th>26506</th>\n",
       "      <td>3階</td>\n",
       "      <td>3</td>\n",
       "      <td>2</td>\n",
       "      <td>NaN</td>\n",
       "    </tr>\n",
       "    <tr>\n",
       "      <th>27144</th>\n",
       "      <td>21階／3階建</td>\n",
       "      <td>21</td>\n",
       "      <td>3</td>\n",
       "      <td>NaN</td>\n",
       "    </tr>\n",
       "    <tr>\n",
       "      <th>28217</th>\n",
       "      <td>4階／1階建</td>\n",
       "      <td>4</td>\n",
       "      <td>1</td>\n",
       "      <td>NaN</td>\n",
       "    </tr>\n",
       "    <tr>\n",
       "      <th>29127</th>\n",
       "      <td>3階</td>\n",
       "      <td>3</td>\n",
       "      <td>2</td>\n",
       "      <td>NaN</td>\n",
       "    </tr>\n",
       "    <tr>\n",
       "      <th>30506</th>\n",
       "      <td>44階／4階建</td>\n",
       "      <td>44</td>\n",
       "      <td>4</td>\n",
       "      <td>NaN</td>\n",
       "    </tr>\n",
       "    <tr>\n",
       "      <th>31118</th>\n",
       "      <td>7階</td>\n",
       "      <td>7</td>\n",
       "      <td>2</td>\n",
       "      <td>NaN</td>\n",
       "    </tr>\n",
       "  </tbody>\n",
       "</table>\n",
       "</div>"
      ],
      "text/plain": [
       "       floor_stories  floor  stories    target\n",
       "1203          2階／1階建      2        1  110000.0\n",
       "2611              3階      3        2  100000.0\n",
       "11488             5階      5        2  176000.0\n",
       "14238        10階／8階建     10        8   62000.0\n",
       "20743         7階／2階建      7        2   89000.0\n",
       "21504         4階／2階建      4        2  103000.0\n",
       "28317             3階      3        2  161800.0\n",
       "956           3階／2階建      3        2       NaN\n",
       "983           2階／1階建      2        1       NaN\n",
       "3154   13階／4階建（地下1階）     13        4       NaN\n",
       "5701              4階      4        2       NaN\n",
       "5794          4階／2階建      4        2       NaN\n",
       "5931          3階／2階建      3        2       NaN\n",
       "7414          4階／2階建      4        2       NaN\n",
       "7627    4階／3階建（地下1階）      4        3       NaN\n",
       "8623              4階      4        2       NaN\n",
       "9095              8階      8        2       NaN\n",
       "9206              5階      5        2       NaN\n",
       "14821             3階      3        2       NaN\n",
       "15846         8階／6階建      8        6       NaN\n",
       "20717             6階      6        2       NaN\n",
       "22629             3階      3        2       NaN\n",
       "23954             7階      7        2       NaN\n",
       "24242             7階      7        2       NaN\n",
       "26506             3階      3        2       NaN\n",
       "27144        21階／3階建     21        3       NaN\n",
       "28217         4階／1階建      4        1       NaN\n",
       "29127             3階      3        2       NaN\n",
       "30506        44階／4階建     44        4       NaN\n",
       "31118             7階      7        2       NaN"
      ]
     },
     "execution_count": 69,
     "metadata": {},
     "output_type": "execute_result"
    }
   ],
   "source": [
    "# THERE ARE MANY INVALID DATA!!!\n",
    "df[df[\"floor\"] > df[\"stories\"]][[\"floor_stories\", \"floor\", \"stories\", \"target\"]]"
   ]
  },
  {
   "cell_type": "code",
   "execution_count": 70,
   "metadata": {
    "ExecuteTime": {
     "end_time": "2019-10-25T09:40:20.719705Z",
     "start_time": "2019-10-25T09:40:20.308187Z"
    }
   },
   "outputs": [
    {
     "data": {
      "text/plain": [
       "<matplotlib.axes._subplots.AxesSubplot at 0x7fa924bce5d0>"
      ]
     },
     "execution_count": 70,
     "metadata": {},
     "output_type": "execute_result"
    },
    {
     "data": {
      "image/png": "[encoded data removed]",
      "text/plain": [
       "<Figure size 432x288 with 1 Axes>"
      ]
     },
     "metadata": {
      "needs_background": "light"
     },
     "output_type": "display_data"
    }
   ],
   "source": [
    "sns.distplot(df[\"floor\"])"
   ]
  },
  {
   "cell_type": "code",
   "execution_count": 71,
   "metadata": {
    "ExecuteTime": {
     "end_time": "2019-10-25T09:40:21.576547Z",
     "start_time": "2019-10-25T09:40:21.096160Z"
    }
   },
   "outputs": [
    {
     "data": {
      "text/plain": [
       "<matplotlib.axes._subplots.AxesSubplot at 0x7fa925092950>"
      ]
     },
     "execution_count": 71,
     "metadata": {},
     "output_type": "execute_result"
    },
    {
     "data": {
      "image/png": "[encoded data removed]",
      "text/plain": [
       "<Figure size 432x288 with 1 Axes>"
      ]
     },
     "metadata": {
      "needs_background": "light"
     },
     "output_type": "display_data"
    }
   ],
   "source": [
    "sns.distplot(df[\"stories\"])"
   ]
  },
  {
   "cell_type": "code",
   "execution_count": 72,
   "metadata": {
    "ExecuteTime": {
     "end_time": "2019-10-25T09:40:22.119409Z",
     "start_time": "2019-10-25T09:40:22.114631Z"
    }
   },
   "outputs": [],
   "source": [
    "floor = df[\"floor\"]\n",
    "stories = df[\"stories\"]"
   ]
  },
  {
   "cell_type": "code",
   "execution_count": 73,
   "metadata": {
    "ExecuteTime": {
     "end_time": "2019-10-25T09:40:24.044876Z",
     "start_time": "2019-10-25T09:40:22.761034Z"
    }
   },
   "outputs": [
    {
     "data": {
      "text/plain": [
       "<matplotlib.axes._subplots.AxesSubplot at 0x7fa91b43b8d0>"
      ]
     },
     "execution_count": 73,
     "metadata": {},
     "output_type": "execute_result"
    },
    {
     "data": {
      "image/png": "[encoded data removed]",
      "text/plain": [
       "<Figure size 432x288 with 1 Axes>"
      ]
     },
     "metadata": {
      "needs_background": "light"
     },
     "output_type": "display_data"
    }
   ],
   "source": [
    "sns.violinplot(x=floor, y=np.log(df[\"target\"]))"
   ]
  },
  {
   "cell_type": "code",
   "execution_count": 74,
   "metadata": {
    "ExecuteTime": {
     "end_time": "2019-10-25T09:40:25.238053Z",
     "start_time": "2019-10-25T09:40:24.047480Z"
    },
    "scrolled": true
   },
   "outputs": [
    {
     "data": {
      "text/plain": [
       "<matplotlib.axes._subplots.AxesSubplot at 0x7fa925608890>"
      ]
     },
     "execution_count": 74,
     "metadata": {},
     "output_type": "execute_result"
    },
    {
     "data": {
      "image/png": "[encoded data removed]",
      "text/plain": [
       "<Figure size 432x288 with 1 Axes>"
      ]
     },
     "metadata": {
      "needs_background": "light"
     },
     "output_type": "display_data"
    }
   ],
   "source": [
    "sns.violinplot(x=stories, y=np.log(df[\"target\"]))"
   ]
  },
  {
   "cell_type": "markdown",
   "metadata": {
    "ExecuteTime": {
     "end_time": "2019-10-18T08:19:48.952917Z",
     "start_time": "2019-10-18T08:19:48.905762Z"
    }
   },
   "source": [
    "## contract : contract, periodic "
   ]
  },
  {
   "cell_type": "code",
   "execution_count": 75,
   "metadata": {
    "ExecuteTime": {
     "end_time": "2019-10-25T09:40:26.991824Z",
     "start_time": "2019-10-25T09:40:26.633061Z"
    }
   },
   "outputs": [],
   "source": [
    "df = pp_contract(df)"
   ]
  },
  {
   "cell_type": "code",
   "execution_count": 76,
   "metadata": {
    "ExecuteTime": {
     "end_time": "2019-10-25T09:40:27.381814Z",
     "start_time": "2019-10-25T09:40:27.378347Z"
    }
   },
   "outputs": [],
   "source": [
    "contract = df[\"contract\"]\n",
    "periodic = df[\"periodic\"]"
   ]
  },
  {
   "cell_type": "code",
   "execution_count": 77,
   "metadata": {
    "ExecuteTime": {
     "end_time": "2019-10-25T09:40:27.852650Z",
     "start_time": "2019-10-25T09:40:27.841481Z"
    }
   },
   "outputs": [
    {
     "data": {
      "text/plain": [
       "2.000000    61230\n",
       "5.000000      516\n",
       "3.000000      469\n",
       "1.000000      309\n",
       "4.000000      124\n",
       "0.166667       20\n",
       "6.000000       13\n",
       "7.000000       13\n",
       "0.000000       11\n",
       "0.500000        8\n",
       "0.750000        4\n",
       "0.666667        4\n",
       "0.083333        3\n",
       "0.583333        3\n",
       "0.416667        2\n",
       "0.333333        2\n",
       "0.250000        1\n",
       "Name: contract, dtype: int64"
      ]
     },
     "execution_count": 77,
     "metadata": {},
     "output_type": "execute_result"
    }
   ],
   "source": [
    "contract.value_counts()"
   ]
  },
  {
   "cell_type": "code",
   "execution_count": 78,
   "metadata": {
    "ExecuteTime": {
     "end_time": "2019-10-25T09:40:28.407330Z",
     "start_time": "2019-10-25T09:40:28.396831Z"
    }
   },
   "outputs": [
    {
     "data": {
      "text/plain": [
       "0    59382\n",
       "1     3350\n",
       "Name: periodic, dtype: int64"
      ]
     },
     "execution_count": 78,
     "metadata": {},
     "output_type": "execute_result"
    }
   ],
   "source": [
    "periodic.value_counts()"
   ]
  },
  {
   "cell_type": "code",
   "execution_count": 79,
   "metadata": {
    "ExecuteTime": {
     "end_time": "2019-10-25T09:40:29.429595Z",
     "start_time": "2019-10-25T09:40:29.073972Z"
    }
   },
   "outputs": [
    {
     "data": {
      "text/plain": [
       "<matplotlib.axes._subplots.AxesSubplot at 0x7fa91b4e1d90>"
      ]
     },
     "execution_count": 79,
     "metadata": {},
     "output_type": "execute_result"
    },
    {
     "data": {
      "image/png": "[encoded data removed]",
      "text/plain": [
       "<Figure size 432x288 with 1 Axes>"
      ]
     },
     "metadata": {
      "needs_background": "light"
     },
     "output_type": "display_data"
    }
   ],
   "source": [
    "# Little correlation\n",
    "sns.violinplot(x=contract.astype(int), y=np.log(df[\"target\"]))"
   ]
  },
  {
   "cell_type": "code",
   "execution_count": 80,
   "metadata": {
    "ExecuteTime": {
     "end_time": "2019-10-25T09:40:29.870643Z",
     "start_time": "2019-10-25T09:40:29.594780Z"
    }
   },
   "outputs": [
    {
     "data": {
      "text/plain": [
       "<matplotlib.axes._subplots.AxesSubplot at 0x7fa91be82f50>"
      ]
     },
     "execution_count": 80,
     "metadata": {},
     "output_type": "execute_result"
    },
    {
     "data": {
      "image/png": "[encoded data removed]",
      "text/plain": [
       "<Figure size 432x288 with 1 Axes>"
      ]
     },
     "metadata": {
      "needs_background": "light"
     },
     "output_type": "display_data"
    }
   ],
   "source": [
    "sns.violinplot(x=periodic, y=np.log(df[\"target\"]))"
   ]
  },
  {
   "cell_type": "code",
   "execution_count": null,
   "metadata": {},
   "outputs": [],
   "source": []
  }
 ],
 "metadata": {
  "kernelspec": {
   "display_name": "Python 3",
   "language": "python",
   "name": "python3"
  },
  "language_info": {
   "codemirror_mode": {
    "name": "ipython",
    "version": 3
   },
   "file_extension": ".py",
   "mimetype": "text/x-python",
   "name": "python",
   "nbconvert_exporter": "python",
   "pygments_lexer": "ipython3",
   "version": "3.7.4"
  },
  "toc": {
   "base_numbering": 1,
   "nav_menu": {},
   "number_sections": true,
   "sideBar": true,
   "skip_h1_title": false,
   "title_cell": "Table of Contents",
   "title_sidebar": "Contents",
   "toc_cell": false,
   "toc_position": {},
   "toc_section_display": true,
   "toc_window_display": false
  }
 },
 "nbformat": 4,
 "nbformat_minor": 2
}
