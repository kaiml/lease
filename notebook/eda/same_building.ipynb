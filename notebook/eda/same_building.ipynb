{
 "cells": [
  {
   "cell_type": "code",
   "execution_count": null,
   "metadata": {},
   "outputs": [],
   "source": []
  },
  {
   "cell_type": "markdown",
   "metadata": {},
   "source": [
    "# 同じ建物 -> 同じ値段のハズ\n",
    "## なので、testデータのうち、trainデータと同じものがないか調査する"
   ]
  },
  {
   "cell_type": "code",
   "execution_count": 128,
   "metadata": {
    "ExecuteTime": {
     "end_time": "2019-11-01T08:34:22.870165Z",
     "start_time": "2019-11-01T08:34:22.798259Z"
    }
   },
   "outputs": [
    {
     "data": {
      "text/html": [
       "        <script type=\"text/javascript\">\n",
       "        window.PlotlyConfig = {MathJaxConfig: 'local'};\n",
       "        if (window.MathJax) {MathJax.Hub.Config({SVG: {font: \"STIX-Web\"}});}\n",
       "        if (typeof require !== 'undefined') {\n",
       "        require.undef(\"plotly\");\n",
       "        requirejs.config({\n",
       "            paths: {\n",
       "                'plotly': ['https://cdn.plot.ly/plotly-latest.min']\n",
       "            }\n",
       "        });\n",
       "        require(['plotly'], function(Plotly) {\n",
       "            window._Plotly = Plotly;\n",
       "        });\n",
       "        }\n",
       "        </script>\n",
       "        "
      ]
     },
     "metadata": {},
     "output_type": "display_data"
    },
    {
     "name": "stdout",
     "output_type": "stream",
     "text": [
      "The autoreload extension is already loaded. To reload it, use:\n",
      "  %reload_ext autoreload\n"
     ]
    },
    {
     "data": {
      "text/html": [
       "<style>.container { width:100% !important; }</style>"
      ],
      "text/plain": [
       "<IPython.core.display.HTML object>"
      ]
     },
     "metadata": {},
     "output_type": "display_data"
    }
   ],
   "source": [
    "# Import Modules\n",
    "import os\n",
    "import sys\n",
    "import warnings\n",
    "from pathlib import Path\n",
    "\n",
    "import matplotlib.pyplot as plt\n",
    "import pandas as pd\n",
    "# Enable plotly offline plotting\n",
    "import plotly\n",
    "import plotly.graph_objects as go\n",
    "import seaborn as sns\n",
    "from IPython.core.display import HTML, display\n",
    "from ipywidgets import interact\n",
    "\n",
    "\n",
    "# Ignore sklearn warnings\n",
    "def warn(*args, **kwargs):\n",
    "    pass\n",
    "warnings.warn = warn\n",
    "\n",
    "# Set the number of cols/rows max\n",
    "pd.set_option('display.max_rows', 999)\n",
    "pd.set_option('display.max_columns', 999)\n",
    "\n",
    "plotly.offline.init_notebook_mode(connected=True)\n",
    "\n",
    "# Init project path\n",
    "PROJECT_DIR = os.getcwd() + \"/../../\"\n",
    "sys.path.insert(0, PROJECT_DIR)\n",
    "%load_ext autoreload\n",
    "%autoreload 2\n",
    "display(HTML(\"<style>.container { width:100% !important; }</style>\"))"
   ]
  },
  {
   "cell_type": "code",
   "execution_count": 180,
   "metadata": {
    "ExecuteTime": {
     "end_time": "2019-11-01T08:54:45.602922Z",
     "start_time": "2019-11-01T08:54:44.390115Z"
    }
   },
   "outputs": [],
   "source": [
    "from src.exp.exp4_simple.step0_set_global_variables import *\n",
    "from src.exp.exp4_simple.step1_load_data import load_data\n",
    "\n",
    "# load data\n",
    "train_df, test_df = load_data(DATA_DIR=DATA_DIR)"
   ]
  },
  {
   "cell_type": "code",
   "execution_count": 181,
   "metadata": {
    "ExecuteTime": {
     "end_time": "2019-11-01T08:54:52.319405Z",
     "start_time": "2019-11-01T08:54:45.926196Z"
    },
    "scrolled": false
   },
   "outputs": [],
   "source": [
    "# preprocess\n",
    "from src.preprocess.address import pp_address\n",
    "from src.preprocess.age import pp_age\n",
    "from src.preprocess.floor_stories import pp_floor_stories\n",
    "train_df = pp_address(train_df)\n",
    "train_df = pp_age(train_df)\n",
    "train_df = pp_floor_stories(train_df)\n",
    "test_df = pp_address(test_df)\n",
    "test_df = pp_age(test_df)\n",
    "test_df = pp_floor_stories(test_df)"
   ]
  },
  {
   "cell_type": "code",
   "execution_count": 183,
   "metadata": {
    "ExecuteTime": {
     "end_time": "2019-11-01T08:55:34.216021Z",
     "start_time": "2019-11-01T08:55:34.125637Z"
    }
   },
   "outputs": [],
   "source": [
    "buildings = train_df[\n",
    "    [\"address_1\", \"address_2\", \"age\", \"stories\"]\n",
    "].drop_duplicates().reset_index().drop(\"index\", axis=1).reset_index().rename(\n",
    "    columns={\"index\": \"building_id\"}\n",
    ")"
   ]
  },
  {
   "cell_type": "code",
   "execution_count": 185,
   "metadata": {
    "ExecuteTime": {
     "end_time": "2019-11-01T08:55:46.785201Z",
     "start_time": "2019-11-01T08:55:46.686884Z"
    }
   },
   "outputs": [],
   "source": [
    "train_df = pd.merge(train_df, buildings, on=[\"address_1\", \"address_2\", \"age\", \"stories\"])\n",
    "test_df = pd.merge(test_df, buildings, on=[\"address_1\", \"address_2\", \"age\", \"stories\"], how=\"left\")"
   ]
  },
  {
   "cell_type": "code",
   "execution_count": 198,
   "metadata": {
    "ExecuteTime": {
     "end_time": "2019-11-01T08:59:37.102232Z",
     "start_time": "2019-11-01T08:59:37.060230Z"
    }
   },
   "outputs": [
    {
     "data": {
      "text/html": [
       "<div>\n",
       "<style scoped>\n",
       "    .dataframe tbody tr th:only-of-type {\n",
       "        vertical-align: middle;\n",
       "    }\n",
       "\n",
       "    .dataframe tbody tr th {\n",
       "        vertical-align: top;\n",
       "    }\n",
       "\n",
       "    .dataframe thead th {\n",
       "        text-align: right;\n",
       "    }\n",
       "</style>\n",
       "<table border=\"1\" class=\"dataframe\">\n",
       "  <thead>\n",
       "    <tr style=\"text-align: right;\">\n",
       "      <th></th>\n",
       "      <th>building_id</th>\n",
       "      <th>address_1</th>\n",
       "      <th>address_2</th>\n",
       "      <th>age</th>\n",
       "      <th>stories</th>\n",
       "    </tr>\n",
       "  </thead>\n",
       "  <tbody>\n",
       "    <tr>\n",
       "      <th>0</th>\n",
       "      <td>0</td>\n",
       "      <td>北</td>\n",
       "      <td>滝野川</td>\n",
       "      <td>9年9ヶ月</td>\n",
       "      <td>12</td>\n",
       "    </tr>\n",
       "    <tr>\n",
       "      <th>1</th>\n",
       "      <td>1</td>\n",
       "      <td>中央</td>\n",
       "      <td>月島</td>\n",
       "      <td>44年10ヶ月</td>\n",
       "      <td>10</td>\n",
       "    </tr>\n",
       "    <tr>\n",
       "      <th>2</th>\n",
       "      <td>2</td>\n",
       "      <td>渋谷</td>\n",
       "      <td>笹塚</td>\n",
       "      <td>8年6ヶ月</td>\n",
       "      <td>15</td>\n",
       "    </tr>\n",
       "    <tr>\n",
       "      <th>3</th>\n",
       "      <td>3</td>\n",
       "      <td>杉並</td>\n",
       "      <td>高円寺南</td>\n",
       "      <td>29年4ヶ月</td>\n",
       "      <td>4</td>\n",
       "    </tr>\n",
       "    <tr>\n",
       "      <th>4</th>\n",
       "      <td>4</td>\n",
       "      <td>葛飾</td>\n",
       "      <td>金町</td>\n",
       "      <td>31年7ヶ月</td>\n",
       "      <td>2</td>\n",
       "    </tr>\n",
       "    <tr>\n",
       "      <th>...</th>\n",
       "      <td>...</td>\n",
       "      <td>...</td>\n",
       "      <td>...</td>\n",
       "      <td>...</td>\n",
       "      <td>...</td>\n",
       "    </tr>\n",
       "    <tr>\n",
       "      <th>18701</th>\n",
       "      <td>18701</td>\n",
       "      <td>足立</td>\n",
       "      <td>堀之内</td>\n",
       "      <td>16年11ヶ月</td>\n",
       "      <td>3</td>\n",
       "    </tr>\n",
       "    <tr>\n",
       "      <th>18702</th>\n",
       "      <td>18702</td>\n",
       "      <td>江東</td>\n",
       "      <td>毛利</td>\n",
       "      <td>13年5ヶ月</td>\n",
       "      <td>3</td>\n",
       "    </tr>\n",
       "    <tr>\n",
       "      <th>18703</th>\n",
       "      <td>18703</td>\n",
       "      <td>世田谷</td>\n",
       "      <td>太子堂</td>\n",
       "      <td>39年7ヶ月</td>\n",
       "      <td>4</td>\n",
       "    </tr>\n",
       "    <tr>\n",
       "      <th>18704</th>\n",
       "      <td>18704</td>\n",
       "      <td>中野</td>\n",
       "      <td>中野</td>\n",
       "      <td>11年0ヶ月</td>\n",
       "      <td>2</td>\n",
       "    </tr>\n",
       "    <tr>\n",
       "      <th>18705</th>\n",
       "      <td>18705</td>\n",
       "      <td>豊島</td>\n",
       "      <td>千川</td>\n",
       "      <td>60年2ヶ月</td>\n",
       "      <td>3</td>\n",
       "    </tr>\n",
       "  </tbody>\n",
       "</table>\n",
       "<p>18706 rows × 5 columns</p>\n",
       "</div>"
      ],
      "text/plain": [
       "       building_id address_1 address_2      age  stories\n",
       "0                0         北       滝野川    9年9ヶ月       12\n",
       "1                1        中央        月島  44年10ヶ月       10\n",
       "2                2        渋谷        笹塚    8年6ヶ月       15\n",
       "3                3        杉並      高円寺南   29年4ヶ月        4\n",
       "4                4        葛飾        金町   31年7ヶ月        2\n",
       "...            ...       ...       ...      ...      ...\n",
       "18701        18701        足立       堀之内  16年11ヶ月        3\n",
       "18702        18702        江東        毛利   13年5ヶ月        3\n",
       "18703        18703       世田谷       太子堂   39年7ヶ月        4\n",
       "18704        18704        中野        中野   11年0ヶ月        2\n",
       "18705        18705        豊島        千川   60年2ヶ月        3\n",
       "\n",
       "[18706 rows x 5 columns]"
      ]
     },
     "execution_count": 198,
     "metadata": {},
     "output_type": "execute_result"
    }
   ],
   "source": [
    "buildings"
   ]
  },
  {
   "cell_type": "code",
   "execution_count": 209,
   "metadata": {
    "ExecuteTime": {
     "end_time": "2019-11-01T09:01:58.707525Z",
     "start_time": "2019-11-01T09:01:58.666998Z"
    }
   },
   "outputs": [
    {
     "data": {
      "text/plain": [
       "18233"
      ]
     },
     "execution_count": 209,
     "metadata": {},
     "output_type": "execute_result"
    }
   ],
   "source": [
    "(test_df[\"building_id\"].isnull() == False).sum()"
   ]
  }
 ],
 "metadata": {
  "kernelspec": {
   "display_name": "Python 3",
   "language": "python",
   "name": "python3"
  },
  "language_info": {
   "codemirror_mode": {
    "name": "ipython",
    "version": 3
   },
   "file_extension": ".py",
   "mimetype": "text/x-python",
   "name": "python",
   "nbconvert_exporter": "python",
   "pygments_lexer": "ipython3",
   "version": "3.7.4"
  },
  "toc": {
   "base_numbering": 1,
   "nav_menu": {},
   "number_sections": true,
   "sideBar": true,
   "skip_h1_title": false,
   "title_cell": "Table of Contents",
   "title_sidebar": "Contents",
   "toc_cell": false,
   "toc_position": {},
   "toc_section_display": true,
   "toc_window_display": false
  },
  "varInspector": {
   "cols": {
    "lenName": 16,
    "lenType": 16,
    "lenVar": 40
   },
   "kernels_config": {
    "python": {
     "delete_cmd_postfix": "",
     "delete_cmd_prefix": "del ",
     "library": "var_list.py",
     "varRefreshCmd": "print(var_dic_list())"
    },
    "r": {
     "delete_cmd_postfix": ") ",
     "delete_cmd_prefix": "rm(",
     "library": "var_list.r",
     "varRefreshCmd": "cat(var_dic_list()) "
    }
   },
   "types_to_exclude": [
    "module",
    "function",
    "builtin_function_or_method",
    "instance",
    "_Feature"
   ],
   "window_display": false
  }
 },
 "nbformat": 4,
 "nbformat_minor": 2
}
